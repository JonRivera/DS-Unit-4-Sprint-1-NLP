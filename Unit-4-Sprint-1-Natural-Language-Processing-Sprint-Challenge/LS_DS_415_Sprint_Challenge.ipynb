{
 "cells": [
  {
   "cell_type": "markdown",
   "metadata": {},
   "source": [
    "<img align=\"left\" src=\"https://lever-client-logos.s3.amazonaws.com/864372b1-534c-480e-acd5-9711f850815c-1524247202159.png\" width=200>\n",
    "<br></br>\n",
    "<br></br>\n",
    "\n",
    "# Sprint Challenge\n",
    "## *Data Science Unit 4 Sprint 1*\n",
    "\n",
    "After a week of Natural Language Processing, you've learned some cool new stuff: how to process text, how turn text into vectors, and how to model topics from documents. Apply your newly acquired skills to one of the most famous NLP datasets out there: [Yelp](https://www.yelp.com/dataset/challenge). As part of the job selection process, some of my friends have been asked to create analysis of this dataset, so I want to empower you to have a head start.  \n",
    "\n",
    "The real dataset is massive (almost 8 gigs uncompressed). I've sampled the data for you to something more managable for the Sprint Challenge. You can analyze the full dataset as a stretch goal or after the sprint challenge. As you work on the challenge, I suggest adding notes about your findings and things you want to analyze in the future.\n",
    "\n",
    "## Challenge Objectives\n",
    "*Successfully complete these all these objectives to earn a 2. There are more details on each objective further down in the notebook.*\n",
    "* <a href=\"#p1\">Part 1</a>: Write a function to tokenize the yelp reviews\n",
    "* <a href=\"#p2\">Part 2</a>: Create a vector representation of those tokens\n",
    "* <a href=\"#p3\">Part 3</a>: Use your tokens in a classification model on yelp rating\n",
    "* <a href=\"#p4\">Part 4</a>: Estimate & Interpret a topic model of the Yelp reviews"
   ]
  },
  {
   "cell_type": "code",
   "execution_count": 26,
   "metadata": {},
   "outputs": [],
   "source": [
    "import pandas as pd\n",
    "\n",
    "yelp = pd.read_json('./data/review_sample.json', lines=True)"
   ]
  },
  {
   "cell_type": "code",
   "execution_count": 27,
   "metadata": {},
   "outputs": [
    {
     "data": {
      "text/html": [
       "<div>\n",
       "<style scoped>\n",
       "    .dataframe tbody tr th:only-of-type {\n",
       "        vertical-align: middle;\n",
       "    }\n",
       "\n",
       "    .dataframe tbody tr th {\n",
       "        vertical-align: top;\n",
       "    }\n",
       "\n",
       "    .dataframe thead th {\n",
       "        text-align: right;\n",
       "    }\n",
       "</style>\n",
       "<table border=\"1\" class=\"dataframe\">\n",
       "  <thead>\n",
       "    <tr style=\"text-align: right;\">\n",
       "      <th></th>\n",
       "      <th>business_id</th>\n",
       "      <th>cool</th>\n",
       "      <th>date</th>\n",
       "      <th>funny</th>\n",
       "      <th>review_id</th>\n",
       "      <th>stars</th>\n",
       "      <th>text</th>\n",
       "      <th>useful</th>\n",
       "      <th>user_id</th>\n",
       "    </tr>\n",
       "  </thead>\n",
       "  <tbody>\n",
       "    <tr>\n",
       "      <th>0</th>\n",
       "      <td>nDuEqIyRc8YKS1q1fX0CZg</td>\n",
       "      <td>1</td>\n",
       "      <td>2015-03-31 16:50:30</td>\n",
       "      <td>0</td>\n",
       "      <td>eZs2tpEJtXPwawvHnHZIgQ</td>\n",
       "      <td>1</td>\n",
       "      <td>BEWARE!!! FAKE, FAKE, FAKE....We also own a sm...</td>\n",
       "      <td>10</td>\n",
       "      <td>n1LM36qNg4rqGXIcvVXv8w</td>\n",
       "    </tr>\n",
       "    <tr>\n",
       "      <th>1</th>\n",
       "      <td>eMYeEapscbKNqUDCx705hg</td>\n",
       "      <td>0</td>\n",
       "      <td>2015-12-16 05:31:03</td>\n",
       "      <td>0</td>\n",
       "      <td>DoQDWJsNbU0KL1O29l_Xug</td>\n",
       "      <td>4</td>\n",
       "      <td>Came here for lunch Togo. Service was quick. S...</td>\n",
       "      <td>0</td>\n",
       "      <td>5CgjjDAic2-FAvCtiHpytA</td>\n",
       "    </tr>\n",
       "    <tr>\n",
       "      <th>2</th>\n",
       "      <td>6Q7-wkCPc1KF75jZLOTcMw</td>\n",
       "      <td>1</td>\n",
       "      <td>2010-06-20 19:14:48</td>\n",
       "      <td>1</td>\n",
       "      <td>DDOdGU7zh56yQHmUnL1idQ</td>\n",
       "      <td>3</td>\n",
       "      <td>I've been to Vegas dozens of times and had nev...</td>\n",
       "      <td>2</td>\n",
       "      <td>BdV-cf3LScmb8kZ7iiBcMA</td>\n",
       "    </tr>\n",
       "    <tr>\n",
       "      <th>3</th>\n",
       "      <td>k3zrItO4l9hwfLRwHBDc9w</td>\n",
       "      <td>3</td>\n",
       "      <td>2010-07-13 00:33:45</td>\n",
       "      <td>4</td>\n",
       "      <td>LfTMUWnfGFMOfOIyJcwLVA</td>\n",
       "      <td>1</td>\n",
       "      <td>We went here on a night where they closed off ...</td>\n",
       "      <td>5</td>\n",
       "      <td>cZZnBqh4gAEy4CdNvJailQ</td>\n",
       "    </tr>\n",
       "    <tr>\n",
       "      <th>4</th>\n",
       "      <td>6hpfRwGlOzbNv7k5eP9rsQ</td>\n",
       "      <td>1</td>\n",
       "      <td>2018-06-30 02:30:01</td>\n",
       "      <td>0</td>\n",
       "      <td>zJSUdI7bJ8PNJAg4lnl_Gg</td>\n",
       "      <td>4</td>\n",
       "      <td>3.5 to 4 stars\\n\\nNot bad for the price, $12.9...</td>\n",
       "      <td>5</td>\n",
       "      <td>n9QO4ClYAS7h9fpQwa5bhA</td>\n",
       "    </tr>\n",
       "  </tbody>\n",
       "</table>\n",
       "</div>"
      ],
      "text/plain": [
       "              business_id  cool                date  funny  \\\n",
       "0  nDuEqIyRc8YKS1q1fX0CZg     1 2015-03-31 16:50:30      0   \n",
       "1  eMYeEapscbKNqUDCx705hg     0 2015-12-16 05:31:03      0   \n",
       "2  6Q7-wkCPc1KF75jZLOTcMw     1 2010-06-20 19:14:48      1   \n",
       "3  k3zrItO4l9hwfLRwHBDc9w     3 2010-07-13 00:33:45      4   \n",
       "4  6hpfRwGlOzbNv7k5eP9rsQ     1 2018-06-30 02:30:01      0   \n",
       "\n",
       "                review_id  stars  \\\n",
       "0  eZs2tpEJtXPwawvHnHZIgQ      1   \n",
       "1  DoQDWJsNbU0KL1O29l_Xug      4   \n",
       "2  DDOdGU7zh56yQHmUnL1idQ      3   \n",
       "3  LfTMUWnfGFMOfOIyJcwLVA      1   \n",
       "4  zJSUdI7bJ8PNJAg4lnl_Gg      4   \n",
       "\n",
       "                                                text  useful  \\\n",
       "0  BEWARE!!! FAKE, FAKE, FAKE....We also own a sm...      10   \n",
       "1  Came here for lunch Togo. Service was quick. S...       0   \n",
       "2  I've been to Vegas dozens of times and had nev...       2   \n",
       "3  We went here on a night where they closed off ...       5   \n",
       "4  3.5 to 4 stars\\n\\nNot bad for the price, $12.9...       5   \n",
       "\n",
       "                  user_id  \n",
       "0  n1LM36qNg4rqGXIcvVXv8w  \n",
       "1  5CgjjDAic2-FAvCtiHpytA  \n",
       "2  BdV-cf3LScmb8kZ7iiBcMA  \n",
       "3  cZZnBqh4gAEy4CdNvJailQ  \n",
       "4  n9QO4ClYAS7h9fpQwa5bhA  "
      ]
     },
     "execution_count": 27,
     "metadata": {},
     "output_type": "execute_result"
    }
   ],
   "source": [
    "yelp.head()"
   ]
  },
  {
   "cell_type": "code",
   "execution_count": 28,
   "metadata": {},
   "outputs": [
    {
     "name": "stdout",
     "output_type": "stream",
     "text": [
      "<class 'pandas.core.frame.DataFrame'>\n",
      "RangeIndex: 10000 entries, 0 to 9999\n",
      "Data columns (total 9 columns):\n",
      " #   Column       Non-Null Count  Dtype         \n",
      "---  ------       --------------  -----         \n",
      " 0   business_id  10000 non-null  object        \n",
      " 1   cool         10000 non-null  int64         \n",
      " 2   date         10000 non-null  datetime64[ns]\n",
      " 3   funny        10000 non-null  int64         \n",
      " 4   review_id    10000 non-null  object        \n",
      " 5   stars        10000 non-null  int64         \n",
      " 6   text         10000 non-null  object        \n",
      " 7   useful       10000 non-null  int64         \n",
      " 8   user_id      10000 non-null  object        \n",
      "dtypes: datetime64[ns](1), int64(4), object(4)\n",
      "memory usage: 703.2+ KB\n"
     ]
    }
   ],
   "source": [
    "yelp.info()"
   ]
  },
  {
   "cell_type": "markdown",
   "metadata": {},
   "source": [
    "## Part 1: Tokenize Function\n",
    "<a id=\"#p1\"></a>\n",
    "\n",
    "Complete the function `tokenize`. Your function should\n",
    "- accept one document at a time\n",
    "- return a list of tokens\n",
    "\n",
    "You are free to use any method you have learned this week."
   ]
  },
  {
   "cell_type": "code",
   "execution_count": 29,
   "metadata": {},
   "outputs": [],
   "source": [
    "import spacy\n",
    "#load model into spacy\n",
    "nlp = spacy.load(\"en_core_web_lg\")\n",
    "\n",
    "#Create tokenized functioned, which excludes stopwords, punction, whitespaces etc. and normalizes lowercasetoo\n",
    "\n",
    "def tokenize(document):\n",
    "    \"\"\"This function tokenizes text and returns a list of tokens\"\"\"\n",
    "    \n",
    "    doc = nlp(document)\n",
    "    \n",
    "    return [token.lemma_.lower() for token in doc if (token.is_stop != True) and (token.is_punct != True) and (token.is_space == False) and (token.pos_ != 'PRON')]\n"
   ]
  },
  {
   "cell_type": "code",
   "execution_count": 31,
   "metadata": {},
   "outputs": [],
   "source": [
    "yelp['tokens'] = yelp['text'].apply(tokenize)"
   ]
  },
  {
   "cell_type": "code",
   "execution_count": 34,
   "metadata": {},
   "outputs": [
    {
     "data": {
      "text/html": [
       "<div>\n",
       "<style scoped>\n",
       "    .dataframe tbody tr th:only-of-type {\n",
       "        vertical-align: middle;\n",
       "    }\n",
       "\n",
       "    .dataframe tbody tr th {\n",
       "        vertical-align: top;\n",
       "    }\n",
       "\n",
       "    .dataframe thead th {\n",
       "        text-align: right;\n",
       "    }\n",
       "</style>\n",
       "<table border=\"1\" class=\"dataframe\">\n",
       "  <thead>\n",
       "    <tr style=\"text-align: right;\">\n",
       "      <th></th>\n",
       "      <th>business_id</th>\n",
       "      <th>cool</th>\n",
       "      <th>date</th>\n",
       "      <th>funny</th>\n",
       "      <th>review_id</th>\n",
       "      <th>stars</th>\n",
       "      <th>text</th>\n",
       "      <th>useful</th>\n",
       "      <th>user_id</th>\n",
       "      <th>tokens</th>\n",
       "    </tr>\n",
       "  </thead>\n",
       "  <tbody>\n",
       "    <tr>\n",
       "      <th>0</th>\n",
       "      <td>nDuEqIyRc8YKS1q1fX0CZg</td>\n",
       "      <td>1</td>\n",
       "      <td>2015-03-31 16:50:30</td>\n",
       "      <td>0</td>\n",
       "      <td>eZs2tpEJtXPwawvHnHZIgQ</td>\n",
       "      <td>1</td>\n",
       "      <td>BEWARE!!! FAKE, FAKE, FAKE....We also own a sm...</td>\n",
       "      <td>10</td>\n",
       "      <td>n1LM36qNg4rqGXIcvVXv8w</td>\n",
       "      <td>[beware, fake, fake, fake, small, business, lo...</td>\n",
       "    </tr>\n",
       "    <tr>\n",
       "      <th>1</th>\n",
       "      <td>eMYeEapscbKNqUDCx705hg</td>\n",
       "      <td>0</td>\n",
       "      <td>2015-12-16 05:31:03</td>\n",
       "      <td>0</td>\n",
       "      <td>DoQDWJsNbU0KL1O29l_Xug</td>\n",
       "      <td>4</td>\n",
       "      <td>Came here for lunch Togo. Service was quick. S...</td>\n",
       "      <td>0</td>\n",
       "      <td>5CgjjDAic2-FAvCtiHpytA</td>\n",
       "      <td>[come, lunch, togo, service, quick, staff, fri...</td>\n",
       "    </tr>\n",
       "    <tr>\n",
       "      <th>2</th>\n",
       "      <td>6Q7-wkCPc1KF75jZLOTcMw</td>\n",
       "      <td>1</td>\n",
       "      <td>2010-06-20 19:14:48</td>\n",
       "      <td>1</td>\n",
       "      <td>DDOdGU7zh56yQHmUnL1idQ</td>\n",
       "      <td>3</td>\n",
       "      <td>I've been to Vegas dozens of times and had nev...</td>\n",
       "      <td>2</td>\n",
       "      <td>BdV-cf3LScmb8kZ7iiBcMA</td>\n",
       "      <td>[vegas, dozen, time, step, foot, circus, circu...</td>\n",
       "    </tr>\n",
       "    <tr>\n",
       "      <th>3</th>\n",
       "      <td>k3zrItO4l9hwfLRwHBDc9w</td>\n",
       "      <td>3</td>\n",
       "      <td>2010-07-13 00:33:45</td>\n",
       "      <td>4</td>\n",
       "      <td>LfTMUWnfGFMOfOIyJcwLVA</td>\n",
       "      <td>1</td>\n",
       "      <td>We went here on a night where they closed off ...</td>\n",
       "      <td>5</td>\n",
       "      <td>cZZnBqh4gAEy4CdNvJailQ</td>\n",
       "      <td>[go, night, close, street, party, good, actual...</td>\n",
       "    </tr>\n",
       "    <tr>\n",
       "      <th>4</th>\n",
       "      <td>6hpfRwGlOzbNv7k5eP9rsQ</td>\n",
       "      <td>1</td>\n",
       "      <td>2018-06-30 02:30:01</td>\n",
       "      <td>0</td>\n",
       "      <td>zJSUdI7bJ8PNJAg4lnl_Gg</td>\n",
       "      <td>4</td>\n",
       "      <td>3.5 to 4 stars\\n\\nNot bad for the price, $12.9...</td>\n",
       "      <td>5</td>\n",
       "      <td>n9QO4ClYAS7h9fpQwa5bhA</td>\n",
       "      <td>[3.5, 4, star, bad, price, $, 12.99, lunch, se...</td>\n",
       "    </tr>\n",
       "  </tbody>\n",
       "</table>\n",
       "</div>"
      ],
      "text/plain": [
       "              business_id  cool                date  funny  \\\n",
       "0  nDuEqIyRc8YKS1q1fX0CZg     1 2015-03-31 16:50:30      0   \n",
       "1  eMYeEapscbKNqUDCx705hg     0 2015-12-16 05:31:03      0   \n",
       "2  6Q7-wkCPc1KF75jZLOTcMw     1 2010-06-20 19:14:48      1   \n",
       "3  k3zrItO4l9hwfLRwHBDc9w     3 2010-07-13 00:33:45      4   \n",
       "4  6hpfRwGlOzbNv7k5eP9rsQ     1 2018-06-30 02:30:01      0   \n",
       "\n",
       "                review_id  stars  \\\n",
       "0  eZs2tpEJtXPwawvHnHZIgQ      1   \n",
       "1  DoQDWJsNbU0KL1O29l_Xug      4   \n",
       "2  DDOdGU7zh56yQHmUnL1idQ      3   \n",
       "3  LfTMUWnfGFMOfOIyJcwLVA      1   \n",
       "4  zJSUdI7bJ8PNJAg4lnl_Gg      4   \n",
       "\n",
       "                                                text  useful  \\\n",
       "0  BEWARE!!! FAKE, FAKE, FAKE....We also own a sm...      10   \n",
       "1  Came here for lunch Togo. Service was quick. S...       0   \n",
       "2  I've been to Vegas dozens of times and had nev...       2   \n",
       "3  We went here on a night where they closed off ...       5   \n",
       "4  3.5 to 4 stars\\n\\nNot bad for the price, $12.9...       5   \n",
       "\n",
       "                  user_id                                             tokens  \n",
       "0  n1LM36qNg4rqGXIcvVXv8w  [beware, fake, fake, fake, small, business, lo...  \n",
       "1  5CgjjDAic2-FAvCtiHpytA  [come, lunch, togo, service, quick, staff, fri...  \n",
       "2  BdV-cf3LScmb8kZ7iiBcMA  [vegas, dozen, time, step, foot, circus, circu...  \n",
       "3  cZZnBqh4gAEy4CdNvJailQ  [go, night, close, street, party, good, actual...  \n",
       "4  n9QO4ClYAS7h9fpQwa5bhA  [3.5, 4, star, bad, price, $, 12.99, lunch, se...  "
      ]
     },
     "execution_count": 34,
     "metadata": {},
     "output_type": "execute_result"
    }
   ],
   "source": [
    "yelp.head()"
   ]
  },
  {
   "cell_type": "markdown",
   "metadata": {},
   "source": [
    "## Part 2: Vector Representation\n",
    "<a id=\"#p2\"></a>\n",
    "1. Create a vector representation of the reviews\n",
    "2. Write a fake review and query for the 10 most similiar reviews, print the text of the reviews. Do you notice any patterns?\n",
    "    - Given the size of the dataset, it will probably be best to use a `NearestNeighbors` model for this. "
   ]
  },
  {
   "cell_type": "code",
   "execution_count": 35,
   "metadata": {},
   "outputs": [
    {
     "name": "stdout",
     "output_type": "stream",
     "text": [
      "  (0, 214)\t0.23136150114036777\n",
      "  (0, 376)\t0.1261037352093239\n",
      "  (0, 67)\t0.2175536180560154\n",
      "  (0, 265)\t0.20658760340476784\n",
      "  (0, 209)\t0.1983376533875876\n",
      "  (0, 201)\t0.33018240580364394\n",
      "  (0, 232)\t0.170937575441114\n",
      "  (0, 5)\t0.21220154392949006\n",
      "  (0, 314)\t0.15632921944581374\n",
      "  (0, 370)\t0.10600498237097163\n",
      "  (0, 386)\t0.14725240126150482\n",
      "  (0, 207)\t0.22918822166005218\n",
      "  (0, 266)\t0.43119100956938866\n",
      "  (0, 48)\t0.18367474565963907\n",
      "  (0, 0)\t0.14500942932750374\n",
      "  (0, 205)\t0.11102368649331165\n",
      "  (0, 213)\t0.13665420827422406\n",
      "  (0, 296)\t0.21788791253241005\n",
      "  (0, 45)\t0.40054107264707994\n",
      "  (0, 333)\t0.1687280153297689\n",
      "  (1, 343)\t0.40431766902626254\n",
      "  (1, 258)\t0.3797157042902783\n",
      "  (1, 147)\t0.15475561724771253\n",
      "  (1, 365)\t0.39093367803882384\n",
      "  (1, 358)\t0.32589518361458375\n",
      "  :\t:\n",
      "  (9999, 78)\t0.12301238652422529\n",
      "  (9999, 1)\t0.08156898939148914\n",
      "  (9999, 4)\t0.06852553400397268\n",
      "  (9999, 91)\t0.07501124347834438\n",
      "  (9999, 203)\t0.18615547032095978\n",
      "  (9999, 362)\t0.08381170609536838\n",
      "  (9999, 105)\t0.09582909756297646\n",
      "  (9999, 176)\t0.3083898687683724\n",
      "  (9999, 3)\t0.08925246572355128\n",
      "  (9999, 27)\t0.1289805587474455\n",
      "  (9999, 270)\t0.039544675592358504\n",
      "  (9999, 262)\t0.18695535752628514\n",
      "  (9999, 261)\t0.215212746863148\n",
      "  (9999, 347)\t0.07842538976769055\n",
      "  (9999, 141)\t0.1003506832900636\n",
      "  (9999, 243)\t0.2047995249753132\n",
      "  (9999, 307)\t0.2283934194243762\n",
      "  (9999, 407)\t0.06852553400397268\n",
      "  (9999, 342)\t0.05824531655338443\n",
      "  (9999, 376)\t0.051774262145773096\n",
      "  (9999, 67)\t0.1786414658264733\n",
      "  (9999, 370)\t0.17408936339347839\n",
      "  (9999, 48)\t0.07541112414755204\n",
      "  (9999, 205)\t0.045582864293062075\n",
      "  (9999, 213)\t0.056105957454538787\n"
     ]
    },
    {
     "data": {
      "text/html": [
       "<div>\n",
       "<style scoped>\n",
       "    .dataframe tbody tr th:only-of-type {\n",
       "        vertical-align: middle;\n",
       "    }\n",
       "\n",
       "    .dataframe tbody tr th {\n",
       "        vertical-align: top;\n",
       "    }\n",
       "\n",
       "    .dataframe thead th {\n",
       "        text-align: right;\n",
       "    }\n",
       "</style>\n",
       "<table border=\"1\" class=\"dataframe\">\n",
       "  <thead>\n",
       "    <tr style=\"text-align: right;\">\n",
       "      <th></th>\n",
       "      <th>$</th>\n",
       "      <th>1</th>\n",
       "      <th>10</th>\n",
       "      <th>15</th>\n",
       "      <th>2</th>\n",
       "      <th>20</th>\n",
       "      <th>3</th>\n",
       "      <th>30</th>\n",
       "      <th>4</th>\n",
       "      <th>5</th>\n",
       "      <th>...</th>\n",
       "      <th>wine</th>\n",
       "      <th>wish</th>\n",
       "      <th>wonderful</th>\n",
       "      <th>work</th>\n",
       "      <th>worth</th>\n",
       "      <th>wrong</th>\n",
       "      <th>year</th>\n",
       "      <th>yelp</th>\n",
       "      <th>yes</th>\n",
       "      <th>yummy</th>\n",
       "    </tr>\n",
       "  </thead>\n",
       "  <tbody>\n",
       "    <tr>\n",
       "      <th>0</th>\n",
       "      <td>0.145009</td>\n",
       "      <td>0.0</td>\n",
       "      <td>0.0</td>\n",
       "      <td>0.00000</td>\n",
       "      <td>0.0</td>\n",
       "      <td>0.212202</td>\n",
       "      <td>0.0</td>\n",
       "      <td>0.0</td>\n",
       "      <td>0.000000</td>\n",
       "      <td>0.0</td>\n",
       "      <td>...</td>\n",
       "      <td>0.0</td>\n",
       "      <td>0.0</td>\n",
       "      <td>0.0</td>\n",
       "      <td>0.0</td>\n",
       "      <td>0.0</td>\n",
       "      <td>0.0</td>\n",
       "      <td>0.000000</td>\n",
       "      <td>0.0</td>\n",
       "      <td>0.0</td>\n",
       "      <td>0.0</td>\n",
       "    </tr>\n",
       "    <tr>\n",
       "      <th>1</th>\n",
       "      <td>0.000000</td>\n",
       "      <td>0.0</td>\n",
       "      <td>0.0</td>\n",
       "      <td>0.00000</td>\n",
       "      <td>0.0</td>\n",
       "      <td>0.000000</td>\n",
       "      <td>0.0</td>\n",
       "      <td>0.0</td>\n",
       "      <td>0.000000</td>\n",
       "      <td>0.0</td>\n",
       "      <td>...</td>\n",
       "      <td>0.0</td>\n",
       "      <td>0.0</td>\n",
       "      <td>0.0</td>\n",
       "      <td>0.0</td>\n",
       "      <td>0.0</td>\n",
       "      <td>0.0</td>\n",
       "      <td>0.000000</td>\n",
       "      <td>0.0</td>\n",
       "      <td>0.0</td>\n",
       "      <td>0.0</td>\n",
       "    </tr>\n",
       "    <tr>\n",
       "      <th>2</th>\n",
       "      <td>0.183001</td>\n",
       "      <td>0.0</td>\n",
       "      <td>0.0</td>\n",
       "      <td>0.00000</td>\n",
       "      <td>0.0</td>\n",
       "      <td>0.000000</td>\n",
       "      <td>0.0</td>\n",
       "      <td>0.0</td>\n",
       "      <td>0.000000</td>\n",
       "      <td>0.0</td>\n",
       "      <td>...</td>\n",
       "      <td>0.0</td>\n",
       "      <td>0.0</td>\n",
       "      <td>0.0</td>\n",
       "      <td>0.0</td>\n",
       "      <td>0.0</td>\n",
       "      <td>0.0</td>\n",
       "      <td>0.105316</td>\n",
       "      <td>0.0</td>\n",
       "      <td>0.0</td>\n",
       "      <td>0.0</td>\n",
       "    </tr>\n",
       "    <tr>\n",
       "      <th>3</th>\n",
       "      <td>0.000000</td>\n",
       "      <td>0.0</td>\n",
       "      <td>0.0</td>\n",
       "      <td>0.00000</td>\n",
       "      <td>0.0</td>\n",
       "      <td>0.000000</td>\n",
       "      <td>0.0</td>\n",
       "      <td>0.0</td>\n",
       "      <td>0.000000</td>\n",
       "      <td>0.0</td>\n",
       "      <td>...</td>\n",
       "      <td>0.0</td>\n",
       "      <td>0.0</td>\n",
       "      <td>0.0</td>\n",
       "      <td>0.0</td>\n",
       "      <td>0.0</td>\n",
       "      <td>0.0</td>\n",
       "      <td>0.000000</td>\n",
       "      <td>0.0</td>\n",
       "      <td>0.0</td>\n",
       "      <td>0.0</td>\n",
       "    </tr>\n",
       "    <tr>\n",
       "      <th>4</th>\n",
       "      <td>0.130063</td>\n",
       "      <td>0.0</td>\n",
       "      <td>0.0</td>\n",
       "      <td>0.19498</td>\n",
       "      <td>0.0</td>\n",
       "      <td>0.000000</td>\n",
       "      <td>0.0</td>\n",
       "      <td>0.0</td>\n",
       "      <td>0.166468</td>\n",
       "      <td>0.0</td>\n",
       "      <td>...</td>\n",
       "      <td>0.0</td>\n",
       "      <td>0.0</td>\n",
       "      <td>0.0</td>\n",
       "      <td>0.0</td>\n",
       "      <td>0.0</td>\n",
       "      <td>0.0</td>\n",
       "      <td>0.000000</td>\n",
       "      <td>0.0</td>\n",
       "      <td>0.0</td>\n",
       "      <td>0.0</td>\n",
       "    </tr>\n",
       "  </tbody>\n",
       "</table>\n",
       "<p>5 rows × 411 columns</p>\n",
       "</div>"
      ],
      "text/plain": [
       "          $    1   10       15    2        20    3   30         4    5  ...  \\\n",
       "0  0.145009  0.0  0.0  0.00000  0.0  0.212202  0.0  0.0  0.000000  0.0  ...   \n",
       "1  0.000000  0.0  0.0  0.00000  0.0  0.000000  0.0  0.0  0.000000  0.0  ...   \n",
       "2  0.183001  0.0  0.0  0.00000  0.0  0.000000  0.0  0.0  0.000000  0.0  ...   \n",
       "3  0.000000  0.0  0.0  0.00000  0.0  0.000000  0.0  0.0  0.000000  0.0  ...   \n",
       "4  0.130063  0.0  0.0  0.19498  0.0  0.000000  0.0  0.0  0.166468  0.0  ...   \n",
       "\n",
       "   wine  wish  wonderful  work  worth  wrong      year  yelp  yes  yummy  \n",
       "0   0.0   0.0        0.0   0.0    0.0    0.0  0.000000   0.0  0.0    0.0  \n",
       "1   0.0   0.0        0.0   0.0    0.0    0.0  0.000000   0.0  0.0    0.0  \n",
       "2   0.0   0.0        0.0   0.0    0.0    0.0  0.105316   0.0  0.0    0.0  \n",
       "3   0.0   0.0        0.0   0.0    0.0    0.0  0.000000   0.0  0.0    0.0  \n",
       "4   0.0   0.0        0.0   0.0    0.0    0.0  0.000000   0.0  0.0    0.0  \n",
       "\n",
       "[5 rows x 411 columns]"
      ]
     },
     "execution_count": 35,
     "metadata": {},
     "output_type": "execute_result"
    }
   ],
   "source": [
    "#import TfidfVectorizer, were going to use this to vectorize the reviews\n",
    "from sklearn.feature_extraction.text import TfidfVectorizer\n",
    "\n",
    "#We want to convert a collection of raw documents to a matrix of TF-IDF features\n",
    "#The goal is to vectorize our review(text)\n",
    "# Tunning Parameters\n",
    "# Instantiate vectorizer object\n",
    "tfidf = TfidfVectorizer(ngram_range=(1,2),\n",
    "                        max_df=.97,\n",
    "                        min_df=.02,\n",
    "                        tokenizer = tokenize\n",
    "                        )\n",
    "data = yelp\n",
    "# And create a vocabulary and get word counts per document\n",
    "\n",
    "# Similiar to fit_predict\n",
    "dtm= tfidf.fit_transform(data.text)\n",
    "\n",
    "print(dtm)\n",
    "\n",
    "# Get feature names to use as dataframe column headers\n",
    "dtm = pd.DataFrame(dtm.todense(), columns=tfidf.get_feature_names())\n",
    "\n",
    "# View Feature Matrix as DataFrame\n",
    "dtm.head()"
   ]
  },
  {
   "cell_type": "code",
   "execution_count": 36,
   "metadata": {},
   "outputs": [
    {
     "data": {
      "text/plain": [
       "NearestNeighbors(algorithm='kd_tree', leaf_size=30, metric='minkowski',\n",
       "                 metric_params=None, n_jobs=None, n_neighbors=5, p=2,\n",
       "                 radius=1.0)"
      ]
     },
     "execution_count": 36,
     "metadata": {},
     "output_type": "execute_result"
    }
   ],
   "source": [
    "#Build Nearest Neighbors Model\n",
    "#This model will help with querying for a fake review\n",
    "from sklearn.neighbors import NearestNeighbors\n",
    "\n",
    "# instantiate neareast neighboors model, we want to find the 10 nearest neighboors for the fake review\n",
    "nn = NearestNeighbors(n_neighbors=5, algorithm='kd_tree')\n",
    "#Fit on the document term matrix dtm\n",
    "nn.fit(dtm)"
   ]
  },
  {
   "cell_type": "code",
   "execution_count": 37,
   "metadata": {},
   "outputs": [],
   "source": [
    "#Make a query for a fake review\n",
    "fake_review= [\"\"\"I had lunch here, and the service could have been better; the quality of the burgers was good but person didn't smile\"\"\"]\n",
    "query = tfidf.transform(fake_review)"
   ]
  },
  {
   "cell_type": "code",
   "execution_count": 38,
   "metadata": {},
   "outputs": [
    {
     "data": {
      "text/plain": [
       "(array([[1., 1., 1., 1., 1.]]), array([[7674, 4839, 6311, 6204, 9889]]))"
      ]
     },
     "execution_count": 38,
     "metadata": {},
     "output_type": "execute_result"
    }
   ],
   "source": [
    "#find the 10 nearest neighboors (Aka: find the 10 most similar reviews)\n",
    "nn.kneighbors(query.todense())"
   ]
  },
  {
   "cell_type": "code",
   "execution_count": 39,
   "metadata": {},
   "outputs": [
    {
     "data": {
      "text/plain": [
       "7674    J'ai une relation amour/haine avec le marché J...\n",
       "4839    Une superbe sélection de bières de microbrasse...\n",
       "6311    天氣很熱吃不下東西，今天我點了一個韓國冷面湯、餐後點了甜點，冰沙系列不會太甜膩，覺得店家很用...\n",
       "6204    旅行でラスベガスに来ましたがネイルがはげてるのが気になり、探したお店でした。\\n質問にも丁寧...\n",
       "9889    Bon massage.  Spa propre organisé manque juste...\n",
       "Name: text, dtype: object"
      ]
     },
     "execution_count": 39,
     "metadata": {},
     "output_type": "execute_result"
    }
   ],
   "source": [
    "# most similar reviews\n",
    "data.text[[7674,4839, 6311, 6204, 9889]]"
   ]
  },
  {
   "cell_type": "markdown",
   "metadata": {},
   "source": [
    "## Part 3: Classification\n",
    "<a id=\"#p3\"></a>\n",
    "Your goal in this section will be to predict `stars` from the review dataset. \n",
    "\n",
    "1. Create a piepline object with a sklearn `CountVectorizer` or `TfidfVector` and any sklearn classifier. Use that pipeline to estimate a model to predict `stars`. Use the Pipeline to predict a star rating for your fake review from Part 2. \n",
    "2. Tune the entire pipeline with a GridSearch"
   ]
  },
  {
   "cell_type": "code",
   "execution_count": 40,
   "metadata": {},
   "outputs": [],
   "source": [
    "# Import modules that will be used to create classification model to predict stars\n",
    "import pandas as pd\n",
    "from sklearn.pipeline import Pipeline\n",
    "from sklearn.ensemble import RandomForestClassifier\n",
    "from sklearn.model_selection import GridSearchCV\n",
    "from sklearn.feature_extraction.text import TfidfVectorizer"
   ]
  },
  {
   "cell_type": "code",
   "execution_count": 41,
   "metadata": {},
   "outputs": [],
   "source": [
    "#Insert TfidVectorizer and RandomForestClassifier Into one Pipeline\n",
    "vect = TfidfVectorizer(stop_words='english', ngram_range=(1,2))\n",
    "rfc = RandomForestClassifier()\n",
    "# Define the Pipeline\n",
    "pipe = Pipeline([\n",
    "                 #Vectorizer\n",
    "                 ('vect', vect),\n",
    "                 #This will produce a document term matrix which will be used in the classifier to come up with a prediction\n",
    "                 # Classifier\n",
    "                 ('clf', rfc)\n",
    "                ])\n",
    "\n",
    "params= {\n",
    "    'vect__max_df': (0.75, 1.0),\n",
    "    'clf__max_depth':(5,10,15,20),\n",
    "    'clf__n_estimators':(100,)\n",
    "}"
   ]
  },
  {
   "cell_type": "code",
   "execution_count": 42,
   "metadata": {},
   "outputs": [
    {
     "name": "stdout",
     "output_type": "stream",
     "text": [
      "Fitting 5 folds for each of 8 candidates, totalling 40 fits\n"
     ]
    },
    {
     "name": "stderr",
     "output_type": "stream",
     "text": [
      "[Parallel(n_jobs=-1)]: Using backend LokyBackend with 8 concurrent workers.\n",
      "[Parallel(n_jobs=-1)]: Done  40 out of  40 | elapsed:   46.0s finished\n"
     ]
    },
    {
     "data": {
      "text/plain": [
       "GridSearchCV(cv=5, error_score=nan,\n",
       "             estimator=Pipeline(memory=None,\n",
       "                                steps=[('vect',\n",
       "                                        TfidfVectorizer(analyzer='word',\n",
       "                                                        binary=False,\n",
       "                                                        decode_error='strict',\n",
       "                                                        dtype=<class 'numpy.float64'>,\n",
       "                                                        encoding='utf-8',\n",
       "                                                        input='content',\n",
       "                                                        lowercase=True,\n",
       "                                                        max_df=1.0,\n",
       "                                                        max_features=None,\n",
       "                                                        min_df=1,\n",
       "                                                        ngram_range=(1, 2),\n",
       "                                                        norm='l2',\n",
       "                                                        preprocessor=None,\n",
       "                                                        smooth_idf=True,\n",
       "                                                        stop_words='english',\n",
       "                                                        strip...\n",
       "                                                               min_samples_split=2,\n",
       "                                                               min_weight_fraction_leaf=0.0,\n",
       "                                                               n_estimators=100,\n",
       "                                                               n_jobs=None,\n",
       "                                                               oob_score=False,\n",
       "                                                               random_state=None,\n",
       "                                                               verbose=0,\n",
       "                                                               warm_start=False))],\n",
       "                                verbose=False),\n",
       "             iid='deprecated', n_jobs=-1,\n",
       "             param_grid={'clf__max_depth': (5, 10, 15, 20),\n",
       "                         'clf__n_estimators': (100,),\n",
       "                         'vect__max_df': (0.75, 1.0)},\n",
       "             pre_dispatch='2*n_jobs', refit=True, return_train_score=False,\n",
       "             scoring=None, verbose=1)"
      ]
     },
     "execution_count": 42,
     "metadata": {},
     "output_type": "execute_result"
    }
   ],
   "source": [
    "#Recall data = yelp, and we want to predict for stars from review data set\n",
    "grid_search = GridSearchCV(pipe,params, cv=5, n_jobs=-1, verbose=1)\n",
    "grid_search.fit(data.text, data.stars)"
   ]
  },
  {
   "cell_type": "code",
   "execution_count": 43,
   "metadata": {},
   "outputs": [
    {
     "data": {
      "text/plain": [
       "array([5])"
      ]
     },
     "execution_count": 43,
     "metadata": {},
     "output_type": "execute_result"
    }
   ],
   "source": [
    "grid_search.predict(fake_review)"
   ]
  },
  {
   "cell_type": "code",
   "execution_count": 60,
   "metadata": {},
   "outputs": [
    {
     "name": "stderr",
     "output_type": "stream",
     "text": [
      "/Users/johnrivera/.virtualenvs/DS-Unit-4-Sprint-1-NLP-N2EbWurJ/lib/python3.8/site-packages/ipykernel/ipkernel.py:287: DeprecationWarning: `should_run_async` will not call `transform_cell` automatically in the future. Please pass the result to `transformed_cell` argument and any exception that happen during thetransform in `preprocessing_exc_tuple` in IPython 7.17 and above.\n",
      "  and should_run_async(code)\n"
     ]
    },
    {
     "data": {
      "text/plain": [
       "\"Tasty, fast casual Latin street food.  The menu can be overwhelming at first but everything I've tried is good.  I recommend trying an Arepa.  Also, the nachos are an extremely good bang for your buck - one is really enough for two people.  The space is pretty small, and this can be problematic for Friday lunch or Taco Tuesday.\""
      ]
     },
     "execution_count": 60,
     "metadata": {},
     "output_type": "execute_result"
    }
   ],
   "source": [
    "#predicted review\n",
    "data.text[5]"
   ]
  },
  {
   "cell_type": "markdown",
   "metadata": {},
   "source": [
    "## Part 4: Topic Modeling\n",
    "\n",
    "Let's find out what those yelp reviews are saying! :D\n",
    "\n",
    "1. Estimate a LDA topic model of the review text\n",
    "    - Keep the `iterations` parameter at or below 5 to reduce run time\n",
    "    - The `workers` parameter should match the number of physical cores on your machine.\n",
    "2. Create 1-2 visualizations of the results\n",
    "    - You can use the most important 3 words of a topic in relevant visualizations. Refer to yesterday's notebook to extract. \n",
    "3. In markdown, write 1-2 paragraphs of analysis on the results of your topic model\n",
    "\n",
    "__*Note*__: You can pass the DataFrame column of text reviews to gensim. You do not have to use a generator."
   ]
  },
  {
   "cell_type": "code",
   "execution_count": 49,
   "metadata": {
    "collapsed": false,
    "inputHidden": false,
    "jupyter": {
     "outputs_hidden": false
    },
    "outputHidden": false
   },
   "outputs": [],
   "source": [
    "import gensim\n",
    "from gensim import corpora\n",
    "from gensim.models.ldamulticore import LdaMulticore"
   ]
  },
  {
   "cell_type": "markdown",
   "metadata": {},
   "source": [
    "Learn the vocubalary of the yelp data:"
   ]
  },
  {
   "cell_type": "code",
   "execution_count": 50,
   "metadata": {},
   "outputs": [],
   "source": [
    "# Dict representation of all our keyword\n",
    "# This also represents the fit step\n",
    "id2word = corpora.Dictionary(yelp['tokens'])"
   ]
  },
  {
   "cell_type": "markdown",
   "metadata": {},
   "source": [
    "Create a bag of words representation of the entire corpus"
   ]
  },
  {
   "cell_type": "code",
   "execution_count": 52,
   "metadata": {
    "collapsed": false,
    "inputHidden": false,
    "jupyter": {
     "outputs_hidden": false
    },
    "outputHidden": false
   },
   "outputs": [],
   "source": [
    "#This represents our transform statement\n",
    "corpus = [id2word.doc2bow(text) for text in yelp['tokens']]"
   ]
  },
  {
   "cell_type": "markdown",
   "metadata": {},
   "source": [
    "Your LDA model should be ready for estimation: "
   ]
  },
  {
   "cell_type": "code",
   "execution_count": 54,
   "metadata": {
    "collapsed": false,
    "inputHidden": false,
    "jupyter": {
     "outputs_hidden": false
    },
    "outputHidden": false
   },
   "outputs": [],
   "source": [
    "lda = LdaMulticore(corpus=corpus,\n",
    "                   id2word=id2word,\n",
    "                   iterations=5,\n",
    "                   workers=4,\n",
    "                   num_topics = 10 \n",
    "                  )"
   ]
  },
  {
   "cell_type": "code",
   "execution_count": 55,
   "metadata": {},
   "outputs": [
    {
     "data": {
      "text/plain": [
       "[['\"good\"',\n",
       "  '\"food\"',\n",
       "  '\"place\"',\n",
       "  '\"service\"',\n",
       "  '\"great\"',\n",
       "  '\"come\"',\n",
       "  '\"go\"',\n",
       "  '\"try\"',\n",
       "  '\"like\"',\n",
       "  '\"get\"'],\n",
       " ['\"place\"',\n",
       "  '\"time\"',\n",
       "  '\"like\"',\n",
       "  '\"great\"',\n",
       "  '\"food\"',\n",
       "  '\"service\"',\n",
       "  '\"good\"',\n",
       "  '\"get\"',\n",
       "  '\"come\"',\n",
       "  '\"go\"'],\n",
       " ['\"good\"',\n",
       "  '\"place\"',\n",
       "  '\"great\"',\n",
       "  '\"order\"',\n",
       "  '\"food\"',\n",
       "  '\"come\"',\n",
       "  '\"go\"',\n",
       "  '\"time\"',\n",
       "  '\"service\"',\n",
       "  '\"get\"'],\n",
       " ['\"food\"',\n",
       "  '\"place\"',\n",
       "  '\"good\"',\n",
       "  '\"great\"',\n",
       "  '\"like\"',\n",
       "  '\"order\"',\n",
       "  '\"service\"',\n",
       "  '\"come\"',\n",
       "  '\"time\"',\n",
       "  '\"love\"'],\n",
       " ['\"time\"',\n",
       "  '\"come\"',\n",
       "  '\"good\"',\n",
       "  '\"great\"',\n",
       "  '\"service\"',\n",
       "  '\"like\"',\n",
       "  '\"order\"',\n",
       "  '\"place\"',\n",
       "  '\"food\"',\n",
       "  '\"$\"'],\n",
       " ['\"good\"',\n",
       "  '\"place\"',\n",
       "  '\"food\"',\n",
       "  '\"service\"',\n",
       "  '\"great\"',\n",
       "  '\"time\"',\n",
       "  '\"come\"',\n",
       "  '\"go\"',\n",
       "  '\"order\"',\n",
       "  '\"like\"'],\n",
       " ['\"good\"',\n",
       "  '\"food\"',\n",
       "  '\"place\"',\n",
       "  '\"time\"',\n",
       "  '\"come\"',\n",
       "  '\"order\"',\n",
       "  '\"great\"',\n",
       "  '\"like\"',\n",
       "  '\"go\"',\n",
       "  '\"service\"'],\n",
       " ['\"place\"',\n",
       "  '\"good\"',\n",
       "  '\"like\"',\n",
       "  '\"food\"',\n",
       "  '\"time\"',\n",
       "  '\"order\"',\n",
       "  '\"service\"',\n",
       "  '\"come\"',\n",
       "  '\"great\"',\n",
       "  '\"get\"'],\n",
       " ['\"place\"',\n",
       "  '\"good\"',\n",
       "  '\"time\"',\n",
       "  '\"great\"',\n",
       "  '\"come\"',\n",
       "  '\"service\"',\n",
       "  '\"like\"',\n",
       "  '\"food\"',\n",
       "  '\"order\"',\n",
       "  '\"get\"'],\n",
       " ['\"good\"',\n",
       "  '\"food\"',\n",
       "  '\"come\"',\n",
       "  '\"great\"',\n",
       "  '\"like\"',\n",
       "  '\"order\"',\n",
       "  '\"place\"',\n",
       "  '\"time\"',\n",
       "  '\"service\"',\n",
       "  '\"try\"']]"
      ]
     },
     "execution_count": 55,
     "metadata": {},
     "output_type": "execute_result"
    }
   ],
   "source": [
    "#apply regular expression to see most important words associated with each topic in a more readble way\n",
    "import re\n",
    "\n",
    "words = [re.findall(r'\"[^\"]*\"', t[1]) for t in lda.print_topics(20)]\n",
    "words"
   ]
  },
  {
   "cell_type": "code",
   "execution_count": 56,
   "metadata": {},
   "outputs": [
    {
     "data": {
      "text/plain": [
       "['\"good\", \"food\", \"place\", \"service\", \"great\"',\n",
       " '\"place\", \"time\", \"like\", \"great\", \"food\"',\n",
       " '\"good\", \"place\", \"great\", \"order\", \"food\"',\n",
       " '\"food\", \"place\", \"good\", \"great\", \"like\"',\n",
       " '\"time\", \"come\", \"good\", \"great\", \"service\"',\n",
       " '\"good\", \"place\", \"food\", \"service\", \"great\"',\n",
       " '\"good\", \"food\", \"place\", \"time\", \"come\"',\n",
       " '\"place\", \"good\", \"like\", \"food\", \"time\"',\n",
       " '\"place\", \"good\", \"time\", \"great\", \"come\"',\n",
       " '\"good\", \"food\", \"come\", \"great\", \"like\"']"
      ]
     },
     "execution_count": 56,
     "metadata": {},
     "output_type": "execute_result"
    }
   ],
   "source": [
    "#Show the top 10 topics w/ corresponding labels\n",
    "topic_labels= [', '.join(t[0:5]) for t in words]\n",
    "topic_labels"
   ]
  },
  {
   "cell_type": "markdown",
   "metadata": {},
   "source": [
    "Create 1-2 visualizations of the results"
   ]
  },
  {
   "cell_type": "code",
   "execution_count": 57,
   "metadata": {
    "collapsed": false,
    "inputHidden": false,
    "jupyter": {
     "outputs_hidden": false
    },
    "outputHidden": false
   },
   "outputs": [],
   "source": [
    "import pyLDAvis.gensim\n",
    "\n",
    "pyLDAvis.enable_notebook()"
   ]
  },
  {
   "cell_type": "code",
   "execution_count": 61,
   "metadata": {},
   "outputs": [
    {
     "name": "stderr",
     "output_type": "stream",
     "text": [
      "/Users/johnrivera/.virtualenvs/DS-Unit-4-Sprint-1-NLP-N2EbWurJ/lib/python3.8/site-packages/ipykernel/ipkernel.py:287: DeprecationWarning: `should_run_async` will not call `transform_cell` automatically in the future. Please pass the result to `transformed_cell` argument and any exception that happen during thetransform in `preprocessing_exc_tuple` in IPython 7.17 and above.\n",
      "  and should_run_async(code)\n"
     ]
    },
    {
     "data": {
      "text/html": [
       "\n",
       "<link rel=\"stylesheet\" type=\"text/css\" href=\"https://cdn.rawgit.com/bmabey/pyLDAvis/files/ldavis.v1.0.0.css\">\n",
       "\n",
       "\n",
       "<div id=\"ldavis_el8829448055320164862132190\"></div>\n",
       "<script type=\"text/javascript\">\n",
       "\n",
       "var ldavis_el8829448055320164862132190_data = {\"mdsDat\": {\"x\": [0.0038549690553022556, -0.0011046417305485092, 0.0025740904150618124, 0.0009442175237330296, 0.002246927238721974, -0.001981225551395729, 0.002695563194794733, -0.006088289442049533, 0.0005125361647469535, -0.003654146868366984], \"y\": [0.0022119198187605855, 0.0038916707065515792, 0.0011851756961689768, 0.0006553880351537966, -0.0004127122620811456, 0.0011793386314422655, -0.002342319600548851, 0.001346418215553465, -0.0043952794019630065, -0.0033195998390376574], \"topics\": [1, 2, 3, 4, 5, 6, 7, 8, 9, 10], \"cluster\": [1, 1, 1, 1, 1, 1, 1, 1, 1, 1], \"Freq\": [10.783876458444187, 10.368960128208544, 10.363981774619422, 10.226797563176875, 10.17803546297845, 10.162062488934893, 10.006406064806706, 9.62407303881708, 9.164168777977617, 9.121638242036227]}, \"tinfo\": {\"Term\": [\"good\", \"food\", \"time\", \"order\", \"place\", \"say\", \"$\", \"love\", \"like\", \"recommend\", \"look\", \"staff\", \"day\", \"come\", \"little\", \"tell\", \"think\", \"friendly\", \"go\", \"amazing\", \"minute\", \"take\", \"try\", \"people\", \"know\", \"3\", \"eat\", \"wait\", \"4\", \"want\", \"shimp\", \"bb\", \".worth\", \"bathing\", \"roomtastic\", \"romper\", \"talia\", \"burger-\", \"jina\", \"yc\", \"squishie\", \"daaayyuuummm\", \"22.50\", \"linda\", \"twiceinoneday\", \"diming\", \"labove\", \"calabash\", \"everrrrr\", \"krung\", \"ir\", \"kelsea\", \"jackpot\", \"fungus\", \"-cold\", \"belgian\", \"aloo\", \"occasion\", \"ghetto\", \"stubborn\", \"dank\", \"love\", \"food\", \"place\", \"fry\", \"way\", \"choice\", \"great\", \"order\", \"location\", \"beer\", \"disappoint\", \"like\", \"make\", \"price\", \"experience\", \"good\", \"cheese\", \"try\", \"amazing\", \"service\", \"lunch\", \"burger\", \"come\", \"perfect\", \"get\", \"table\", \"$\", \"small\", \"pizza\", \"time\", \"well\", \"star\", \"go\", \"eat\", \"definitely\", \"nice\", \"work\", \"recommend\", \"need\", \"want\", \"wait\", \"people\", \"tell\", \"day\", \"look\", \"fridendly\", \"cellulitis\", \"preseptal\", \"butterfly\", \"froide\", \"paced\", \"giving\", \"\\u30d5\\u30a7\\u30cb\\u30c3\\u30af\\u30b9(\\u5730\\u5143\\u306e\\u767a\\u97f3\\u3067\\u306f\\u3001\\u30d5\\u30a3\\u30fc\\u30cb\\u30c3\\u30af\\u30b9)\\u306e\\u30b9\\u30ab\\u30a4\\u30cf\\u30fc\\u30d0\\u30fc\\u56fd\\u969b\\u7a7a\\u6e2f\\u306e\\uff14\\u756a\\u30bf\\u30fc\\u30df\\u30ca\\u30eb\\u306b\\u3042\\u308a\\u307e\\u3059\", \"shank\", \"optometrist\", \"momma\", \"whimsical\", \"1.5h\", \"l'auto\", \"\\u306e\\u6587\\u5b57\\u304c\\u30fb\\u30fb\\u3053\\u308c\\u3060\\u3051\\u3067\\u3001oh\", \"blowdry\", \"\\u3069\\u3046\\u305b\\u9152\\u98f2\\u3093\\u3067\\u308b\\u3057\\u304b\\u306a\\u3044\\u81ea\\u5206\\u306e\\u76ee\\u306b\\u3001'edamame\", \"sheldon\", \"j.\", \"juan\", \"tastey\", \"lieras\", \"\\u7d50\\u69cb\\u3001\\u3053\\u306e\\u5e97\\u306f\\u8a55\\u5224\\u306b\\u3070\\u3089\\u3064\\u304d\\u304c\\u3042\\u308b\\u3088\\u3046\\u3067\\u30fb\\u30fb\\u30fb\\u5f85\\u3061\\u6642\\u9593\\u304c\\u9577\\u3044\\u3001\\u30b5\\u30fc\\u30d3\\u30b9\\u304c\\u3042\\u307e\\u308a\\u3088\\u304f\\u306a\\u3044\\u3001\\u4e2d\\u83ef\\u306e\\u5272\\u308a\\u306b\\u30dc\\u30ea\\u30e5\\u30fc\\u30e0\\u5c11\\u306a\\u3044\\u306a\\u3069\\u306e\\u4e0d\\u8a55\\u3068\\u3001\\u98df\\u3079\\u7269\\u306f\\u3046\\u307e\\u3044\\u3001\\u3068\\u3044\\u3046\\u8a55\\u5224\\u3068\\u4e21\\u65b9\\u3067\\u3059\", \"squished\", \"dye\", \"kingz\", \"screens\", \"\\u3067\\u3001\\u4eca\\u65e5\\u306f\\u3001\\u3082\\u3068\\u3082\\u3068\\u3001\\u540c\\u3058\\u30bf\\u30fc\\u30df\\u30ca\\u30eb\\u4e57\\u308a\\u63db\\u3048\\u3067\\u3001\\u3057\\u304b\\u3082\\u3001\\u3082\\u3068\\u3082\\u3068\\uff12\\u6642\\u9593\\u534a\\u306e\\u4e57\\u308a\\u63db\\u3048\\u6642\\u9593\\u3002\\u3093\\u3058\\u3083\\u3086\\u3063\\u304f\\u308a\\u98ef\\u3067\\u3082\\u98df\\u3046\\u3079\\u304b\\u3068\\u3001\\u3053\\u306epei\", \"walkthrough\", \"5:15\", \"teacher\", \"est\", \"look\", \"nice\", \"8\", \"favorite\", \"chef\", \"roti\", \"2\", \"day\", \"like\", \"sandwich\", \"staff\", \"order\", \"wtf\", \"year\", \"help\", \"family\", \"recommend\", \"end\", \"check\", \"dry\", \"get\", \"guy\", \"menu\", \"table\", \"cheese\", \"place\", \"let\", \"time\", \"service\", \"friendly\", \"love\", \"food\", \"pay\", \"new\", \"come\", \"say\", \"go\", \"wait\", \"good\", \"great\", \"want\", \"think\", \"try\", \"know\", \"restaurant\", \"work\", \"price\", \"definitely\", \"take\", \"ask\", \"dolci\", \"imcomplete\", \"reef\", \"carpaccio\", \"golfweek.com\", \"fabulously\", \"garment\", \"stab\", \"stacy\", \"greenway\", \"greater\", \"begging\", \"rudy\", \"blink\", \"pok\\u00e9\", \"lynx\", \"ccw\", \"firefly\", \"od\", \"richardson\", \"organis\\u00e9\", \"daves\", \"unite\", \"vein\", \"kitten\", \"ymca\", \"zo\", \"ridgeville\", \"nationwide\", \"sleeper\", \"accept\", \"10min\", \"kobe\", \"fast\", \"class\", \"planet\", \"3\", \"yes\", \"food\", \"stop\", \"good\", \"taco\", \"$\", \"cool\", \"owner\", \"people\", \"business\", \"head\", \"bar\", \"restaurant\", \"review\", \"wait\", \"place\", \"time\", \"order\", \"sushi\", \"recommend\", \"seat\", \"work\", \"go\", \"come\", \"table\", \"definitely\", \"take\", \"get\", \"look\", \"need\", \"like\", \"great\", \"love\", \"service\", \"ask\", \"drink\", \"eat\", \"try\", \"little\", \"chicken\", \"price\", \"matthew\", \"poms\", \"intelligently\", \"aryon\", \"yeahhhhhhh\", \"discontinue\", \"pittsburg\", \"nancy\", \"darlene\", \"jeffery\", \"cartridge\", \"booster\", \"prima\", \"aknowledgement\", \"dawn\", \"brookline\", \"krung\", \"machaca\", \"intelligent\", \"kristy\", \"dajuan\", \"beause\", \"squished\", \"everrrrr\", \"buttered\", \"avalanche\", \"mcknight\", \"inconvience\", \"ian\", \"aptive\", \"weapon\", \"chop\", \"busta\", \"minute\", \"little\", \"hope\", \"feel\", \"signage\", \"fresh\", \"fish\", \"service\", \"eat\", \"share\", \"experience\", \"spot\", \"dish\", \"cheese\", \"go\", \"offer\", \"see\", \"good\", \"food\", \"well\", \"customer\", \"try\", \"look\", \"place\", \"great\", \"time\", \"want\", \"thing\", \"enjoy\", \"order\", \"get\", \"room\", \"need\", \"come\", \"recommend\", \"like\", \"nice\", \"love\", \"tell\", \"drink\", \"know\", \"find\", \"price\", \"wait\", \"$\", \"yuk\", \"demonic\", \"chauffeur\", \"tso\", \"jdt\", \"donny\", \"woolf\", \"yik\", \"shoooz\", \"yuk!!!!!@@@@@@@@@@@@@@@@@@@@@@@@@@@@@@\", \"singapore\", \"shelepak\", \"paraphernalia\", \"10.80\", \"noreen\", \"tasha\", \"condensation\", \"bombbbb\", \"talaya\", \"jon\", \"nadine\", \"donovan\", \"brianna\", \"bartende\", \"lamborghini\", \"corbin\", \"underrated\", \"mixologist\", \"pavers\", \"barbara\", \"dentist\", \"believer\", \"tattoo\", \"approachable\", \"come\", \"local\", \"busy\", \"friendly\", \"try\", \"massage\", \"montreal\", \"center\", \"quickly\", \"work\", \"good\", \"find\", \"like\", \"amazing\", \"$\", \"kid\", \"big\", \"soup\", \"recommend\", \"special\", \"order\", \"especially\", \"chicken\", \"great\", \"think\", \"food\", \"get\", \"night\", \"go\", \"day\", \"feel\", \"meal\", \"know\", \"menu\", \"look\", \"drink\", \"restaurant\", \"service\", \"time\", \"place\", \"want\", \"experience\", \"price\", \"definitely\", \"love\", \"\\u5929\\u6c23\\u5f88\\u71b1\\u5403\\u4e0d\\u4e0b\\u6771\\u897f\\uff0c\\u4eca\\u5929\\u6211\\u9ede\\u4e86\\u4e00\\u500b\\u97d3\\u570b\\u51b7\\u9762\\u6e6f\\u3001\\u9910\\u5f8c\\u9ede\\u4e86\\u751c\\u9ede\\uff0c\\u51b0\\u6c99\\u7cfb\\u5217\\u4e0d\\u6703\\u592a\\u751c\\u81a9\\uff0c\\u89ba\\u5f97\\u5e97\\u5bb6\\u5f88\\u7528\\u5fc3\\u88fd\\u4f5c\\uff0c\\u5305\\u542b\\u64fa\\u76e4\\u7cbe\\u7dfb\\u3001\\u4f50\\u6599\\u885b\\u751f\\uff0c\\u590f\\u65e5\\u60f3\\u958b\\u80c3\\uff0c\\u9019\\u662f\\u4e00\\u500b\\u4e0d\\u932f\\u7684\\u9078\\u64c7\\uff0c\\u670d\\u52d9\\u4eba\\u54e1\\u4e5f\\u5f88\\u656c\\u696d\\uff0c\\u4ee5\\u5f8c\\u6703\\u5e38\\u5e38\\u4f86\", \"unexplainable\", \"axle\", \"carina\", \"oho\", \"everrr\", \"beleive\", \"basa\", \"mila\", \"poms\", \"service.don't\", \"greulich\", \"puddle\", \"yeahhhhhhh\", \"wheelchair\", \"swordfish\", \"richardson\", \"timothy\", \"delicious\\u200b\", \"neil\", \"lawsuit\", \"prius\", \"kicker\", \"biochemical\", \"bregman\", \"godzilla\", \"blowingly\", \"coffe\", \"commonwealth\", \"dawn\", \"anthony\", \"dr.\", \"guy\", \"time\", \"ask\", \"sit\", \"4\", \"tell\", \"veggie\", \"move\", \"past\", \"waste\", \"know\", \"server\", \"burger\", \"place\", \"trust\", \"take\", \"delicious\", \"fact\", \"say\", \"usually\", \"wait\", \"staff\", \"great\", \"small\", \"away\", \"good\", \"drink\", \"look\", \"service\", \"restaurant\", \"come\", \"try\", \"get\", \"chicken\", \"like\", \"bad\", \"thing\", \"nice\", \"order\", \"$\", \"food\", \"find\", \"go\", \"little\", \"love\", \"want\", \"menudo\", \"abiance\", \"convent\", \"ktown\", \"guacamolie\", \"efrain\", \"booster\", \"ricketts\", \"barhoppe\", \"alam\", \"liaw\", \"menudazo\", \"cage\", \"7-eleven\", \"fufill\", \"erika\", \"banking\", \"nack\", \"rosealie\", \"//www.facebook.com\", \"maket\", \"sensei\", \"saj\", \"respectueux\", \"browsing\", \"biriyani\", \"https\", \"dojo\", \"picante\", \"drew\", \"rudy\", \"decent\", \"ami\", \"good\", \"cook\", \"potato\", \"soda\", \"beat\", \"life\", \"performance\", \"bar\", \"affordable\", \"care\", \"amazing\", \"vegas\", \"love\", \"leave\", \"long\", \"rice\", \"little\", \"go\", \"excellent\", \"cream\", \"place\", \"great\", \"order\", \"tell\", \"old\", \"money\", \"want\", \"visit\", \"bread\", \"flavor\", \"price\", \"restaurant\", \"wait\", \"$\", \"get\", \"come\", \"service\", \"take\", \"ask\", \"time\", \"nice\", \"day\", \"food\", \"look\", \"like\", \"know\", \"try\", \"eat\", \"think\", \"delivary\", \"\\u8cea\\u554f\\u306b\\u3082\\u4e01\\u5be7\\u306b\\u7b54\\u3048\\u3066\\u304f\\u308c\\u307e\\u3057\\u305f\\u3057\\u3001\\u65e5\\u672c\\u4eba\\u306e\\u65b9\\u3082\\u65e5\\u672c\\u8a9e\\u304c\\u8a71\\u305b\\u308b\\u65b9\\u3082\\u5c45\\u3066\\u3001\\u3068\\u3066\\u3082\\u7dba\\u9e97\\u3067\\u5c45\\u5fc3\\u5730\\u306e\\u3044\\u3044\\u304a\\u5e97\\u3067\\u3057\\u305f\", \"\\u30cd\\u30a4\\u30eb\\u306f\\u3061\\u306f\\u308b\\u3055\\u3093\\u3068\\u8a00\\u3046\\u7dba\\u9e97\\u306a\\u65b9\\u304c\\u4e01\\u5be7\\u306b\\u3057\\u3066\\u304f\\u308c\\u3068\\u3066\\u3082\\u6c17\\u306b\\u5165\\u308a\\u307e\\u3057\\u305f\", \"\\u307e\\u305f\\u662f\\u975e\\u30de\\u30c3\\u30b5\\u30fc\\u30b8\\u306a\\u3069\\u3067\\u4f3a\\u3044\\u305f\\u3044\\u3068\\u601d\\u3044\\u307e\\u3059\", \"\\u4e88\\u5b9a\\u306b\\u306a\\u304b\\u3063\\u305f\\u307e\\u3064\\u6bdb\\u30a8\\u30af\\u30b9\\u30c6\\u3082\\u304a\\u9858\\u3044\\u3057\\u3001\\u65e5\\u672c\\u3067\\u306f\\u307e\\u3060\\u3042\\u307e\\u308a\\u306a\\u3044\\u30d6\\u30e9\\u30a6\\u30f3\\u30ab\\u30e9\\u30fc\\u306e\\u30a8\\u30af\\u30b9\\u30c6\\u3092\\u3057\\u3066\\u3082\\u3089\\u3044\\u3001\\u3068\\u3066\\u3082\\u6c17\\u306b\\u5165\\u308a\\u307e\\u3057\\u305f\", \"purolator\", \"roomtastic\", \"scandalous\", \"5yr\", \"bannana\", \"\\u65c5\\u884c\\u3067\\u30e9\\u30b9\\u30d9\\u30ac\\u30b9\\u306b\\u6765\\u307e\\u3057\\u305f\\u304c\\u30cd\\u30a4\\u30eb\\u304c\\u306f\\u3052\\u3066\\u308b\\u306e\\u304c\\u6c17\\u306b\\u306a\\u308a\\u3001\\u63a2\\u3057\\u305f\\u304a\\u5e97\\u3067\\u3057\\u305f\", \"bb\", \"paperjoy\", \"sevice\", \"gena\", \"snapchat\", \"truffel\", \"tumi\", \"ev36\", \"lydia\", \"keri\", \"raul\", \"fetta\", \"carriage\", \"talaya\", \"hiram\", \"removal\", \"yummms\", \"stadium\", \"sheesha\", \"office\", \"concern\", \"coin\", \"wedding\", \"talk\", \"today\", \"say\", \"strip\", \"treatment\", \"coffee\", \"house\", \"visit\", \"recommend\", \"need\", \"want\", \"people\", \"friendly\", \"pay\", \"menu\", \"phone\", \"like\", \"staff\", \"place\", \"time\", \"hair\", \"price\", \"right\", \"appointment\", \"little\", \"get\", \"way\", \"work\", \"service\", \"bad\", \"think\", \"try\", \"great\", \"go\", \"food\", \"take\", \"come\", \"nice\", \"ask\", \"good\", \"find\", \"$\", \"order\", \"look\", \"yasmin\", \"calabash\", \"dillion\", \"unauthentic\", \"ethan\", \"woot\", \"paced\", \"wrestlemania\", \"bouillabaisse\", \"insectarium\", \"jala\", \"existant\", \"melinda\", \"picante\", \"corners\", \"service.maybe\", \"masked\", \"choo\", \"kendel\", \"cos\", \"imcomplete\", \"chainsaw\", \"bregman\", \"underrated\", \"delicacy\", \"bangle\", \"woahhhh\", \"ecstacy\", \"botanical\", \"rn\", \"ribcap\", \"daniel\", \"bike\", \"necessarily\", \"program\", \"lover\", \"enchilada\", \"think\", \"have\", \"repair\", \"eat\", \"4\", \"expect\", \"say\", \"tender\", \"soft\", \"tell\", \"good\", \"go\", \"food\", \"care\", \"fry\", \"watch\", \"beef\", \"live\", \"staff\", \"service\", \"option\", \"home\", \"know\", \"extremely\", \"try\", \"steak\", \"definitely\", \"business\", \"make\", \"come\", \"day\", \"find\", \"great\", \"place\", \"price\", \"vegas\", \"taste\", \"review\", \"customer\", \"$\", \"nice\", \"love\", \"get\", \"like\", \"take\", \"night\", \"table\", \"restaurant\", \"time\", \"order\", \"wait\", \"want\", \"look\", \"hospital-\", \"cary\", \"cheesetart\", \"reese\", \"neil\", \"radisson\", \"vacant\", \"bap\", \"12:45pm\", \"clinical\", \"monstrosity\", \"works\", \"legs/\", \"whitey\", \"sequin\", \"bim\", \"occur\", \"karen\", \"puppet\", \"r&b.\", \"wench\", \"pair\", \"zion\", \"8/12/12\", \"28,000\", \"pedis\", \"megaphone\", \"longos\", \"pos\", \"lavendar\", \"ceux\", \"pool\", \"consultation\", \"ave\", \"noisy\", \"opt\", \"tub\", \"color\", \"polish\", \"charge\", \"yoga\", \"nail\", \"clean\", \"kind\", \"friend\", \"$\", \"lol\", \"time\", \"size\", \"add\", \"2nd\", \"trade\", \"will\", \"cut\", \"drink\", \"come\", \"room\", \"far\", \"customer\", \"store\", \"lot\", \"1\", \"day\", \"call\", \"shop\", \"people\", \"bring\", \"order\", \"wait\", \"service\", \"experience\", \"restaurant\", \"hour\", \"right\", \"know\", \"like\", \"year\", \"bad\", \"go\", \"great\", \"fresh\", \"chicken\", \"want\", \"take\", \"good\", \"2\", \"place\", \"food\", \"get\", \"love\", \"nice\", \"try\", \"price\", \"find\", \"ask\"], \"Freq\": [6121.0, 4837.0, 4154.0, 3297.0, 5122.0, 1495.0, 2175.0, 2174.0, 3650.0, 1371.0, 1904.0, 1539.0, 1515.0, 3771.0, 1380.0, 1471.0, 1428.0, 1365.0, 2983.0, 1310.0, 1017.0, 1441.0, 2472.0, 1396.0, 1632.0, 863.0, 1501.0, 1632.0, 616.0, 1760.0, 1.393536453966646, 1.2215746667426997, 1.1939682608932567, 1.1363505696289091, 1.1318644755393379, 1.0743825303594976, 1.071807895726079, 1.0408650346906618, 1.0354436935562283, 0.4916599994909327, 1.4732569893638567, 0.8324705442478143, 0.43406114843048466, 1.565298341796396, 0.429190472640286, 0.4219106178534794, 0.41979148138049505, 0.8030805024794453, 0.4164983103552747, 0.7932061583828028, 0.789509082370904, 0.7820590860504194, 1.9674193060901626, 1.275803923181596, 0.6897080296506997, 1.4894818831129042, 0.9894530167415526, 19.096939261526533, 1.7851330871292337, 1.6573381483660512, 1.9825838345171682, 383.7565777628117, 790.2598476850443, 700.1636444714215, 153.23940899336708, 169.14505191252778, 61.93601053631633, 550.0199928565961, 437.65475674782687, 137.19834848556184, 92.91387222622332, 41.2873665748809, 455.092189015361, 88.67058991157884, 227.51225866087398, 190.79158437461385, 695.1328377691165, 116.5471909510769, 301.19026029059074, 171.70113000788598, 415.3323977666315, 105.63652781602009, 96.79478573048719, 403.34706312147233, 78.05053663182412, 302.57987972124204, 141.68746009948265, 244.80180750146644, 114.12351292001352, 109.50513006827522, 393.0958156251475, 118.10180960252227, 122.10824098952108, 272.77539597831105, 166.55071061906307, 157.9742880720489, 182.95116569706, 163.35280262114208, 154.50576750109414, 150.98380954196287, 180.79811260593345, 172.09126869911603, 155.73064741591585, 159.86402506295448, 160.33871627049163, 168.05075412724923, 0.7810429373118971, 0.37783071479358793, 0.3674015651571197, 0.694935733872249, 0.6878032697126572, 0.8362046300322822, 0.3503029370175477, 0.3480159481253628, 0.898215584148516, 1.6396760928641771, 0.6412936374149202, 1.224256238009781, 0.6399086518799807, 0.6336295119737467, 0.33247776860750067, 0.7676045783187436, 0.33110850623731886, 0.7654790944305828, 0.7653862418268889, 0.8957838585314134, 1.1558516923537454, 0.6214250846549959, 0.32500438814735244, 0.6189854626183696, 2.123325657356448, 0.6165271214225193, 0.615077989091331, 0.3213479743116426, 0.6121593795362993, 0.737650114699238, 9.46919529242945, 5.643716699340691, 307.66570643888303, 261.71394038766005, 35.389756090598894, 91.43303778708226, 42.30720093235715, 4.258113199899253, 152.72496140650534, 218.70231491923562, 499.08746078276783, 87.40424515686566, 217.90254474048214, 431.6809303986735, 4.240883769892747, 133.38496598499648, 86.97852075322992, 74.82455397061132, 179.27586160377967, 96.38793141735357, 120.82196987339454, 43.619773884888374, 332.3105856133438, 86.9142791999468, 159.7773699927825, 142.09019885293824, 107.07387317412855, 554.5893089604633, 75.23707333122607, 454.6745668049517, 403.70859442234195, 166.86475024184645, 250.55423426884786, 496.8864220946226, 106.55192616074419, 141.3277904438128, 391.13332671740574, 175.2484840119417, 299.3656620814683, 183.59950542422453, 521.8088866128762, 384.6684563352413, 193.44685262992408, 161.08725556150216, 237.95328183367727, 176.99959995106826, 178.6712121372562, 163.87817499628602, 176.45598739208802, 158.9215095952717, 160.71103371896177, 161.50768843506646, 1.1288489179204717, 1.115776032695863, 2.0673540121893157, 2.4865526713995068, 0.782786973753912, 1.3157219350686749, 1.4156690727178554, 0.5625744733166664, 0.6919823781506315, 1.0356015074347145, 0.8765157417108095, 0.3783079734470859, 0.9786139455591482, 1.167022311045566, 0.511779560450608, 0.3619338339455769, 0.8246169751377842, 1.4036056082241042, 0.35331102147246635, 0.8059229600461962, 0.664473550796012, 1.1161626786275427, 0.34466306865689605, 0.4824362541456445, 0.6205658382288382, 0.618455720842329, 0.33665518478190026, 0.6344941450782309, 0.7665968253459725, 0.3310311299997318, 10.906496555454817, 1.0666920559338229, 3.4946544976429714, 78.61582514289867, 38.845158675165884, 4.3554568521216845, 138.39130697999636, 42.14385388341173, 678.3238613926967, 98.15246688741617, 780.654564613774, 75.36837964861719, 289.3862878184158, 60.24434184204283, 80.94338462446137, 189.64569189464154, 74.84043152841838, 32.158360565423514, 145.18316581482873, 215.5032644147258, 120.9617213964655, 209.12628817853775, 582.8487820146656, 479.30144481393864, 386.0307211755977, 75.20862245236208, 173.29637944467643, 79.14817084987087, 178.20006902882477, 325.1948860844807, 395.64974100555776, 139.00076496530826, 166.09870654824866, 169.42657439631952, 288.5146861199318, 209.40873210308536, 156.28962777209094, 340.3332101053837, 370.78485833003106, 224.10565726563757, 318.80707039116476, 161.8844397164698, 152.23726344579046, 156.12091494979867, 205.51860307261364, 147.16179461397817, 145.38795073403236, 149.2483663403596, 1.5571717017916713, 1.0338285689994124, 0.9882721600233331, 0.9381892745050039, 0.8802317381638918, 1.1716072875362917, 1.1320889904612341, 2.657340062506294, 0.7749730625459529, 0.39222782349583246, 1.577489994151294, 0.740208427118738, 0.8765996168608812, 0.37721624351902333, 2.171712039502111, 0.7198727717514485, 0.7177886610792082, 1.728614864122207, 1.3206277976281338, 0.36186244278424284, 0.503856019979072, 0.6766068595941505, 0.6700857903664175, 0.3498745687454859, 0.6342342947970188, 0.6683633250306465, 0.6624790979389993, 0.662259563551824, 2.3051885804031698, 0.654226080149672, 0.9196641822670032, 13.492647940050329, 1.0805849038245932, 155.4162372790469, 198.1339845326187, 45.737646157489124, 161.905764656314, 4.231221849576219, 132.51747102929696, 57.83727621012084, 460.76355098268687, 202.47439413694093, 41.23600522160408, 186.3776373592506, 71.28810339916652, 114.17693940813665, 111.01743862406477, 352.64129813855277, 85.67097024274054, 87.43733146090209, 645.6033950394572, 523.5789728303281, 119.141515694821, 140.48479101857154, 282.1209713621002, 224.09823953852217, 529.0307322058009, 439.3940634730085, 437.0404320095895, 208.84863480831515, 142.80652219307612, 110.9532862048141, 338.5329966125432, 287.46842148404187, 135.77836078309863, 155.50762222434875, 354.2028876491976, 158.21337658275533, 331.96371851299006, 186.34612409590022, 216.33267714858383, 161.91104227764177, 154.2318921409098, 169.78023369436235, 163.82196340799413, 168.83277165750957, 157.5674309163807, 163.1567016475599, 15.874380456936628, 1.4436345019686416, 1.3145457901882454, 1.9321072816075888, 1.4490512808876204, 0.447202645442442, 0.42458967711279355, 0.42273139238836666, 0.4162553223291518, 0.4134264272748773, 1.8620318420212172, 0.7458130928250685, 0.5459559089041063, 0.38647101726799205, 0.37799748604542416, 0.37609688985979384, 0.8572512685235749, 0.36138376314000625, 0.3613209114705354, 1.27238451643439, 0.6821027013064995, 1.408616478890154, 0.4990246106247751, 0.35371059332903854, 0.35137302188029007, 0.35032718104291477, 0.8079205729965816, 0.347652508529072, 1.1159429040018807, 1.4975568117326528, 12.750808325372773, 1.2407894358541633, 5.649271279442057, 1.5696104033187788, 510.7311549442104, 54.34960883365678, 77.94221697782604, 195.14124110273787, 327.25453589219666, 27.42519489013486, 15.394653109812152, 21.176483643926723, 41.81644336963493, 199.20614111496474, 723.3495040149368, 204.13380975554304, 444.32734930538635, 173.84640208871383, 274.4207220250096, 66.29350403651439, 104.28300996976232, 73.35523438679412, 176.19334005480923, 86.65730998609095, 380.86627369491094, 54.94889669801492, 171.18909058748451, 464.3920628307954, 177.7175097725654, 512.8556221653299, 317.3866160578877, 130.54131603857456, 322.79330879992494, 179.6786722616306, 138.55909865801613, 111.90392859130657, 184.24668764591613, 147.2988373629241, 200.801767595614, 156.09274641029967, 180.5900903162705, 327.7826296165244, 344.6317888117451, 359.630892496989, 176.34780898655163, 154.35435814151825, 164.36033589668628, 147.68311880766905, 164.07461389425904, 0.7494317695244553, 0.46329633137161325, 1.0708371434420483, 0.8704565355626835, 0.8561140647589375, 0.9875432699696148, 0.805615923146454, 1.2968260872233601, 0.3938879263846558, 0.7351316348254997, 0.7332063890794813, 0.7277608279360984, 0.7042274163958158, 0.700583780022239, 1.6232746016753603, 0.5077329442773596, 0.814358374308372, 0.6713204725960776, 0.6676605390982913, 0.3483956194594013, 0.8047017364191406, 0.802391186596836, 1.2179945302412252, 0.6528034797692215, 0.4802533980663685, 1.2014447550836314, 0.3385443037721738, 0.6447959469683107, 1.5329211599677754, 1.9141123519577, 2.8993427049249574, 29.012630706382517, 103.67788305782449, 602.0992882436775, 212.60767190072795, 111.96575771475423, 93.04118309804414, 204.70130800509526, 34.08549901625584, 43.235624470140614, 35.79970738293327, 27.66519685890115, 218.83073624590492, 119.12571842012655, 98.78534579601026, 607.2939971317761, 18.93697864018675, 189.8950964319227, 156.93565258461052, 41.060301082987536, 192.0242590796831, 62.62894735254277, 204.4208241182731, 193.36553097539627, 466.3714246311951, 111.73056053161291, 82.8916065480703, 604.4765721493045, 166.64921933320403, 220.50212560306113, 379.21857350832653, 193.20047807157948, 383.03158343558874, 268.5379163275403, 295.4003434331269, 159.77069812703212, 358.92136659456384, 142.86029801983773, 135.2022185354044, 186.3495997015195, 299.6068558916521, 210.50180521813942, 358.5094743519245, 166.28969931041593, 228.00027985985355, 151.39392821130733, 177.1860228380301, 158.52068721344065, 1.87900328988942, 0.5199999656610996, 0.4489189780860321, 0.4339204427984169, 0.43207273965359133, 0.4277068797992348, 0.8144720287795005, 0.7923608225431905, 0.7694054643024323, 0.40194468924844395, 0.4008059895155957, 0.761297534913064, 0.5495178974950626, 0.7363267368664433, 0.37898000732369436, 0.727810717000838, 0.9754810242608947, 0.5031607199916523, 0.5012060186079452, 0.35532196605289523, 0.3537212732957349, 0.6662854297072197, 0.34501756946439965, 0.6601085787137535, 0.6595564642150923, 0.7611226261874184, 0.3415846831521301, 0.6493644225012329, 0.6485429969765136, 0.47393419810782306, 0.881286355118831, 68.86272178207005, 2.9918471919183216, 867.3362942740798, 79.5777920451732, 55.86319976214067, 13.256003656815322, 21.675752181971212, 38.495112943687516, 7.9169538045863055, 151.94862308405024, 17.949593513690697, 89.56951082244599, 174.49860404061286, 121.03054107399214, 274.7006317936896, 136.64762569473928, 105.859455594178, 75.51558628965036, 174.62728809264863, 343.54967501413785, 87.77383813753093, 75.53415333050945, 544.168662952486, 454.5125308025215, 367.71347378539645, 179.40405525161736, 78.75298166456183, 64.9809250085412, 204.45311630166142, 111.16599160870977, 63.52134674649489, 93.6981413715491, 195.99411937014068, 190.33462597443213, 185.30044481017833, 235.46842855720723, 277.718062815877, 349.5033378118384, 331.50726214741843, 156.90698691891214, 158.37627328761286, 339.073273920983, 178.08573797410472, 160.66977332114948, 352.06161899542616, 185.20272112664554, 270.88784749465185, 158.45173488260014, 195.45698336981155, 149.654859118536, 142.36784639590294, 0.9625950361278283, 0.45411648367981633, 0.4407224525166596, 0.42634467627237016, 0.42233049795879374, 0.919214111286583, 0.7558305999561615, 0.5353113657338405, 0.7132013877643435, 0.7091609538300111, 0.36460986536772133, 0.6974532750574454, 1.1653650827050106, 0.35923192527489467, 0.35323493024210906, 0.6330392267933876, 0.6586825612998116, 0.6576947636269694, 0.6513371957137362, 0.7793492554772063, 1.5113859685775017, 1.1865817799097262, 0.3266639833609961, 0.7523084666338625, 0.32291591805089465, 1.4607227088850665, 4.228370719224763, 0.6067460980077616, 2.5898075247759405, 0.44005739634953045, 56.74590254331007, 18.30994458752611, 4.631028643645502, 20.445832179320142, 65.28884588398334, 62.94562976974182, 211.54659510004575, 55.08097232494594, 15.411486849537727, 88.94124176006027, 73.04435444514154, 119.0206466220867, 177.3705504781416, 171.24528884834302, 219.6850987555518, 177.54140084658405, 172.0709442238475, 109.41420940366412, 159.25446256351648, 51.45396689664304, 404.89983333007456, 187.12969349099376, 538.8734079445901, 442.8452586873169, 52.95309058496127, 194.3364225014492, 126.33246847545615, 51.29411474474796, 157.55422547637667, 284.78147309074524, 129.6874929199395, 162.24580087486578, 344.8164604450594, 136.93195690518206, 157.1295497349731, 242.2454484345538, 367.4791216819077, 263.5377087122276, 354.3074191489462, 148.09083681256536, 276.32131160979435, 167.71339895461614, 145.6005271398344, 324.3577689611183, 149.31733938002463, 171.48658740165416, 187.1981219331348, 147.1741384984768, 1.8748629712258131, 0.826032438385663, 0.816938333650893, 0.3906044096735119, 0.5308800022640825, 1.6640011252873461, 0.8624945748573185, 0.7103261672514294, 0.848941434225394, 0.6885610571050302, 1.158824108110858, 0.6721305086303222, 0.48824296030281666, 0.6597017127216596, 0.3347306799538159, 0.6259921846200727, 0.6247943559967581, 0.6234025545087798, 0.6054747818336158, 0.600879123355805, 0.5997177493153099, 0.5991119792431449, 0.440328009062079, 0.7240432714011249, 1.101216753610565, 0.5902879175779534, 0.5892329104564729, 0.7099276299879043, 1.1137925173193326, 0.42393366885544154, 0.57338990476252, 1.706027676143762, 15.280549906150886, 4.578880502382985, 6.941257342255228, 7.796410916549756, 10.565287554726037, 185.70918218889062, 64.68480156608608, 28.992278482768956, 188.29250500051637, 81.8605142271687, 73.76962516112214, 178.83307279874992, 27.53549817880362, 24.663807137129474, 171.11448551970653, 603.7578842876085, 315.89227820400777, 478.15671026939225, 76.73325269014872, 114.67984867513908, 37.79814241432065, 58.644312662242015, 58.290360338763925, 165.43418103090434, 350.5875195051093, 70.13523330821934, 90.2722666786013, 168.80205375723446, 46.81431053521958, 236.77351118016512, 55.97965212269399, 144.75889673045353, 61.5424191544146, 69.47008101957931, 317.8340213768713, 150.06591680061476, 152.6415572194359, 341.97144798430514, 402.35732546517596, 164.18995918886705, 94.45085779854614, 112.43071520522803, 94.08033735980614, 110.59248991078483, 177.24020064030694, 148.501188893787, 169.0733441647008, 197.83563429707877, 234.5993835070344, 128.8116785504888, 101.7161839021182, 106.10210504292367, 126.62438256246865, 188.39364774791918, 163.66660012008975, 117.83901464537273, 117.10184123786826, 116.55667510333234, 0.5987899831645823, 1.0494496483439333, 3.0411230587946037, 0.34789108057239865, 0.3284413918508646, 1.0501209282176214, 1.3003879418417803, 1.143064015301592, 0.5949651017075228, 0.5835642948534953, 0.5786562860765032, 0.5462371212343876, 0.574995097532397, 0.3003481779478574, 0.5737594326078579, 0.964582432435758, 2.8153353682194964, 0.5684185733498592, 0.41751916459276156, 0.5660519726410455, 0.5625089568139288, 11.692270789132953, 0.4138195249675047, 0.5554726541349985, 0.5570583015356843, 1.409618923245879, 0.6724994390101043, 0.554563557797659, 0.7634384933374913, 0.5520140999282198, 0.927832515377132, 43.38404643622648, 3.194107856421538, 5.062710756589402, 6.736844514796018, 15.09473888415684, 7.5877142287601025, 26.12610676980397, 13.097937055649979, 66.79511362153914, 5.704571998208979, 51.100192016013764, 115.14963986908008, 68.72930973478464, 134.31031784265858, 264.62403766568207, 17.40010389667717, 473.3984685355727, 43.05900771988582, 51.419236776783954, 9.333879406575763, 6.325012432639351, 47.57537478731348, 55.84740482782007, 158.2347364636478, 390.1108135610911, 129.98366522239655, 56.242984974159704, 126.56766496197154, 94.90174413239434, 122.69106112095561, 60.72435591879333, 165.3818119265263, 91.92575042198742, 66.94027613716098, 152.44488920224438, 82.8603110478807, 304.17964634889296, 167.75057504895804, 326.4389169147035, 148.33039959573475, 168.16225414402882, 108.07846692211653, 115.50307403462845, 162.65842212382537, 310.76207655211624, 106.47285045708013, 126.80261128328496, 259.47304355366657, 337.72048275730407, 103.0582833064512, 135.0889358094583, 160.47085847502638, 139.6291845532688, 355.04062932649913, 109.19614611388205, 303.50418090544457, 292.56769116469115, 204.41949263730308, 175.04035477342862, 152.06783487669932, 175.90025203304245, 147.0246273583977, 139.58954912978453, 134.88887577405674], \"Total\": [6121.0, 4837.0, 4154.0, 3297.0, 5122.0, 1495.0, 2175.0, 2174.0, 3650.0, 1371.0, 1904.0, 1539.0, 1515.0, 3771.0, 1380.0, 1471.0, 1428.0, 1365.0, 2983.0, 1310.0, 1017.0, 1441.0, 2472.0, 1396.0, 1632.0, 863.0, 1501.0, 1632.0, 616.0, 1760.0, 3.106472331509619, 3.128041567603701, 3.1047865179348415, 3.098432301841805, 3.12767896936897, 3.0965774438481377, 3.097620675958229, 3.0956016080806936, 3.101031111808846, 1.6229654410004724, 5.2268558958778755, 3.10160873166803, 1.6236243981123264, 5.900315180948145, 1.624665651690553, 1.6255534842315784, 1.6235567563104887, 3.107604362914082, 1.621140948968516, 3.103134593196769, 3.10658118984651, 3.0972012697614653, 8.044971352018731, 5.235470231967837, 2.9551999934262283, 6.421219121564739, 4.270540122059241, 82.73486916217037, 7.738120118135985, 7.2298021861490005, 8.732498837542272, 2174.2248255286277, 4837.507640098403, 5122.4609345488125, 993.5178741389118, 1125.071608146797, 378.358041891701, 4177.314441682906, 3297.1303767087184, 940.2639214603308, 611.4656699272775, 253.07250155088684, 3650.8744352003296, 595.2146423586294, 1720.949881999476, 1424.04947833885, 6121.51833704877, 823.4771625952733, 2472.9517637962917, 1310.0141377193363, 3658.9629756999666, 753.45744486626, 686.445481697863, 3771.8652412330284, 535.5907146257169, 2788.415195270578, 1111.7808134010847, 2175.9599318886994, 856.8295700270359, 824.7382691900295, 4154.553985200841, 912.2554997871262, 956.7326712815643, 2983.2235364266307, 1501.4309640035658, 1402.572316529586, 1747.0519235415084, 1475.4564944359515, 1371.3538756037299, 1326.7437803697844, 1760.938699563047, 1632.7099032374988, 1396.3283535519297, 1471.984774151804, 1515.401267150904, 1904.5018028951772, 3.0891408158489804, 1.624992680196613, 1.6252458255194846, 3.1055085804370677, 3.09795275787082, 3.7879349915002813, 1.6262829480854868, 1.6251819403463268, 4.278452689512314, 7.8909806319918365, 3.097080492116807, 5.912949088615524, 3.098399762947675, 3.0962218581108116, 1.6259127095624206, 3.7589732559723985, 1.6250416118668534, 3.7687202506303827, 3.7707614244560768, 4.422246863540774, 5.752229669030202, 3.1033414303553575, 1.6252670753950527, 3.1021710391100097, 10.700737998165856, 3.1086141610609785, 3.102357836413492, 1.6263101046155084, 3.1067579852579543, 3.767833138151753, 51.70813300576749, 30.406755150941294, 1904.5018028951772, 1747.0519235415084, 215.11810089553342, 591.1620082375256, 262.79127627689434, 23.445043970220556, 1016.4441119245529, 1515.401267150904, 3650.8744352003296, 575.4401839264043, 1539.8519607645703, 3297.1303767087184, 23.620141026738477, 968.9376496489699, 613.3940793529459, 526.1245109034388, 1371.3538756037299, 706.028756298756, 910.8153269218305, 298.00718079250134, 2788.415195270578, 641.8274273719105, 1263.112399009717, 1111.7808134010847, 823.4771625952733, 5122.4609345488125, 558.9474853014518, 4154.553985200841, 3658.9629756999666, 1365.8115046553357, 2174.2248255286277, 4837.507640098403, 830.3100969683712, 1149.9531410655852, 3771.8652412330284, 1495.3568124583242, 2983.2235364266307, 1632.7099032374988, 6121.51833704877, 4177.314441682906, 1760.938699563047, 1428.5512907783211, 2472.9517637962917, 1632.5765958468176, 1664.234999426893, 1475.4564944359515, 1720.949881999476, 1402.572316529586, 1441.5966770489913, 1460.3539530507442, 3.0975030018873704, 3.0998388178005207, 8.057675218264077, 9.738545639436202, 3.094965764981351, 5.2493978381551845, 5.764434600802873, 2.292339198768466, 2.9511795983811497, 4.4328137976422095, 3.757659638470857, 1.6268190316719502, 4.271466219266383, 5.1010732761228885, 2.282838666737987, 1.626569609679283, 3.758381647200356, 6.4177675397088265, 1.6289912792451675, 3.7677506246946697, 3.106545599150732, 5.248461471856006, 1.6215481691337563, 2.2922613168973975, 2.951410364817472, 2.954994105331335, 1.6272058200355872, 3.1045456090240733, 3.75791266224751, 1.6247984763265475, 54.58452292334136, 5.256406341759931, 17.843873153704493, 450.56750747939356, 218.00526993676323, 22.662741607528126, 863.626995910433, 248.08628526344302, 4837.507640098403, 644.5890915789364, 6121.51833704877, 502.0606208415239, 2175.9599318886994, 398.0839648362644, 549.6214404428142, 1396.3283535519297, 512.2950574754033, 202.8352541447144, 1068.3928840009596, 1664.234999426893, 885.0486776153899, 1632.7099032374988, 5122.4609345488125, 4154.553985200841, 3297.1303767087184, 534.4486371274854, 1371.3538756037299, 571.5299937226554, 1475.4564944359515, 2983.2235364266307, 3771.8652412330284, 1111.7808134010847, 1402.572316529586, 1441.5966770489913, 2788.415195270578, 1904.5018028951772, 1326.7437803697844, 3650.8744352003296, 4177.314441682906, 2174.2248255286277, 3658.9629756999666, 1460.3539530507442, 1373.2095353236887, 1501.4309640035658, 2472.9517637962917, 1380.524729728725, 1346.4249460723465, 1720.949881999476, 3.7527125534861225, 3.0974885278711386, 3.103083227542168, 3.104552898051387, 3.0931888412226156, 4.4327907490353295, 4.4295656285326865, 10.544015519405521, 3.0992876223991863, 1.6208775566028035, 6.566175959557098, 3.09492762749367, 3.7629506348767974, 1.6241116814462258, 9.36134432502756, 3.1082763440529617, 3.103134593196769, 7.734879541541237, 5.914167441833591, 1.6219991496634365, 2.2881507753765176, 3.1015875670759154, 3.1021710391100097, 1.621140948968516, 2.9476561113982522, 3.1103696459907435, 3.104350204975718, 3.1044120401202715, 10.83141848569619, 3.0986222975274984, 4.42321913797125, 72.9537799166607, 5.2408973573970785, 1017.6370525563012, 1380.524729728725, 288.34137277619175, 1123.7015044176333, 22.41874052410235, 931.4073587626445, 381.8084130270776, 3658.9629756999666, 1501.4309640035658, 269.1997482530216, 1424.04947833885, 497.0086188971808, 848.3413382009184, 823.4771625952733, 2983.2235364266307, 620.6466558511306, 636.6457642966731, 6121.51833704877, 4837.507640098403, 912.2554997871262, 1103.682558543506, 2472.9517637962917, 1904.5018028951772, 5122.4609345488125, 4177.314441682906, 4154.553985200841, 1760.938699563047, 1145.9176161065736, 870.6582416541133, 3297.1303767087184, 2788.415195270578, 1118.582549096, 1326.7437803697844, 3771.8652412330284, 1371.3538756037299, 3650.8744352003296, 1747.0519235415084, 2174.2248255286277, 1471.984774151804, 1373.2095353236887, 1632.5765958468176, 1549.3412497778515, 1720.949881999476, 1632.7099032374988, 2175.9599318886994, 30.235303130113923, 3.763669369269867, 3.759275530852857, 5.912896576127642, 5.241860986252731, 1.6283737468799155, 1.6271804343016532, 1.6318334591483594, 1.6253843702090682, 1.6314866503638223, 7.397581159498232, 3.105890091078355, 2.289061371244323, 1.624390422844429, 1.6260213367536311, 1.6276739797363406, 3.766895657366164, 1.6236781320875233, 1.6317307038507887, 5.765525184589492, 3.1079974577341734, 6.43145006332268, 2.2919129888641665, 1.6264788259163563, 1.6258327707745082, 1.6272515849937939, 3.7676093092928276, 1.6272362141416836, 5.259597367902712, 7.07936017308176, 60.35108720852057, 5.920169775888126, 29.919287806526167, 7.903392586640002, 3771.8652412330284, 343.77493777162886, 507.1418008847054, 1365.8115046553357, 2472.9517637962917, 168.08231180528588, 90.11024085600344, 127.72153632050694, 270.0077901621142, 1475.4564944359515, 6121.51833704877, 1549.3412497778515, 3650.8744352003296, 1310.0141377193363, 2175.9599318886994, 452.28196205359177, 753.916565077516, 512.9227655710038, 1371.3538756037299, 623.6471357682949, 3297.1303767087184, 374.9218911660626, 1346.4249460723465, 4177.314441682906, 1428.5512907783211, 4837.507640098403, 2788.415195270578, 1021.1416075649513, 2983.2235364266307, 1515.401267150904, 1123.7015044176333, 873.4801600821261, 1632.5765958468176, 1263.112399009717, 1904.5018028951772, 1373.2095353236887, 1664.234999426893, 3658.9629756999666, 4154.553985200841, 5122.4609345488125, 1760.938699563047, 1424.04947833885, 1720.949881999476, 1402.572316529586, 2174.2248255286277, 1.619688670947569, 1.6240028611697666, 3.760060678857275, 3.1089430841490504, 3.09940311864728, 3.7674146030348004, 3.099623923553415, 5.258593653805086, 1.6238497396979543, 3.0974885278711386, 3.0995701294336926, 3.098807685726976, 3.105604466272352, 3.0931888412226156, 7.249953081345974, 2.283378642363239, 3.7677506246946697, 3.109532449223933, 3.1134542933722154, 1.6286266267361584, 3.765189001071859, 3.7688238386906168, 5.752103819227116, 3.107583475873254, 2.290191456661727, 5.7514775605806765, 1.624719749322114, 3.102280939499654, 7.399162164484729, 9.36134432502756, 14.664278448639, 160.02410746010307, 641.8274273719105, 4154.553985200841, 1460.3539530507442, 743.1890227330327, 616.6014885927718, 1471.984774151804, 212.3930720631777, 275.1458288775345, 225.05886559756638, 171.9040253343119, 1632.5765958468176, 842.5921390626255, 686.445481697863, 5122.4609345488125, 113.93767824526482, 1441.5966770489913, 1191.7767550598758, 268.82300692783195, 1495.3568124583242, 431.0553188191584, 1632.7099032374988, 1539.8519607645703, 4177.314441682906, 856.8295700270359, 614.9806458037892, 6121.51833704877, 1373.2095353236887, 1904.5018028951772, 3658.9629756999666, 1664.234999426893, 3771.8652412330284, 2472.9517637962917, 2788.415195270578, 1346.4249460723465, 3650.8744352003296, 1206.5925855996825, 1145.9176161065736, 1747.0519235415084, 3297.1303767087184, 2175.9599318886994, 4837.507640098403, 1549.3412497778515, 2983.2235364266307, 1380.524729728725, 2174.2248255286277, 1760.938699563047, 5.737988790020416, 1.6251167108785936, 1.6251941992593975, 1.62442882834881, 1.6239646779870311, 1.6237413633674609, 3.09492762749367, 3.119944745751595, 3.1026540567648557, 1.6260959859348014, 1.6235652438545831, 3.0997344003993224, 2.2887097119492044, 3.1002468241843477, 1.6245782113962204, 3.120325394397682, 4.431678651602793, 2.286973914823679, 2.290295123087848, 1.6259934988354203, 1.6256500344971112, 3.10875104576123, 1.6236824292431562, 3.1084847256948707, 3.108206364979624, 3.615216015403202, 1.6250759214535369, 3.1082147819602644, 3.1220050457428314, 2.2919559253035713, 4.271466219266383, 371.9648004274002, 15.185851495418978, 6121.51833704877, 493.9347039797325, 345.6512492141048, 76.62892582606644, 130.61395863865056, 243.0906847370219, 44.52915208196098, 1068.3928840009596, 108.38904963996448, 624.0461707478867, 1310.0141377193363, 882.3293926481521, 2174.2248255286277, 1012.9137538959719, 765.3975115650043, 529.4154718526968, 1380.524729728725, 2983.2235364266307, 647.1271133242508, 554.9706591644909, 5122.4609345488125, 4177.314441682906, 3297.1303767087184, 1471.984774151804, 581.7086300644518, 471.4122836625062, 1760.938699563047, 875.9989597244611, 460.66060596659827, 729.4042384187841, 1720.949881999476, 1664.234999426893, 1632.7099032374988, 2175.9599318886994, 2788.415195270578, 3771.8652412330284, 3658.9629756999666, 1441.5966770489913, 1460.3539530507442, 4154.553985200841, 1747.0519235415084, 1515.401267150904, 4837.507640098403, 1904.5018028951772, 3650.8744352003296, 1632.5765958468176, 2472.9517637962917, 1501.4309640035658, 1428.5512907783211, 3.1271699509515396, 1.6387488316312904, 1.6377522451083641, 1.6371585434550155, 1.638411316221159, 3.7964352253094704, 3.12767896936897, 2.297996951651105, 3.1207679979019685, 3.1261471490227537, 1.6349598538111652, 3.128041567603701, 5.291954180989309, 1.6345057126498057, 1.633228327145, 2.963710010063774, 3.122886252828179, 3.118727452139452, 3.116545321728451, 3.7905718449531567, 7.420900694365244, 5.941349417325147, 1.6357956176730124, 3.786691508617456, 1.6317307038507887, 7.419583928845547, 21.714560769259876, 3.121547256776243, 13.427778369677757, 2.2991484002333573, 307.1906957589231, 102.96997961010635, 24.99289858467145, 117.677702760404, 397.007933492674, 399.3559503492933, 1495.3568124583242, 357.94715442980106, 93.28634401685703, 629.979161398994, 511.504788160365, 875.9989597244611, 1371.3538756037299, 1326.7437803697844, 1760.938699563047, 1396.3283535519297, 1365.8115046553357, 830.3100969683712, 1263.112399009717, 363.32427131715804, 3650.8744352003296, 1539.8519607645703, 5122.4609345488125, 4154.553985200841, 388.4456429547612, 1720.949881999476, 1063.2449103288316, 379.17901355704726, 1380.524729728725, 2788.415195270578, 1125.071608146797, 1475.4564944359515, 3658.9629756999666, 1206.5925855996825, 1428.5512907783211, 2472.9517637962917, 4177.314441682906, 2983.2235364266307, 4837.507640098403, 1441.5966770489913, 3771.8652412330284, 1747.0519235415084, 1460.3539530507442, 6121.51833704877, 1549.3412497778515, 2175.9599318886994, 3297.1303767087184, 1904.5018028951772, 5.256577474674428, 3.107604362914082, 3.1160585407031305, 1.628520334671255, 2.2964124448353926, 7.263243334479529, 3.7879349915002813, 3.120756247425897, 3.769783735057191, 3.1129532835578013, 5.253622961877662, 3.1088265388065355, 2.286833147982411, 3.1220050457428314, 1.6266582827070026, 3.1057432917111525, 3.118260682493405, 3.1204206588334302, 3.1182289060090067, 3.105465596921196, 3.0998388178005207, 3.1157862069314204, 2.290191456661727, 3.7676093092928276, 5.76611796938772, 3.112345782120364, 3.1116225345382444, 3.7740363666958383, 5.930154852367625, 2.2926250212003567, 3.105858401764233, 9.375632446405278, 88.62590089664225, 25.981976962761472, 40.23318673209538, 46.02119913375512, 65.3142186580239, 1428.5512907783211, 463.822112378232, 197.77055319405198, 1501.4309640035658, 616.6014885927718, 554.0544544514494, 1495.3568124583242, 193.42424198304914, 171.7463387035203, 1471.984774151804, 6121.51833704877, 2983.2235364266307, 4837.507640098403, 624.0461707478867, 993.5178741389118, 282.4370246442363, 467.85526966394383, 466.0636595055649, 1539.8519607645703, 3658.9629756999666, 584.1035516690285, 782.5544055090921, 1632.5765958468176, 369.8984798414724, 2472.9517637962917, 456.3142235538108, 1402.572316529586, 512.2950574754033, 595.2146423586294, 3771.8652412330284, 1515.401267150904, 1549.3412497778515, 4177.314441682906, 5122.4609345488125, 1720.949881999476, 882.3293926481521, 1118.6273957779727, 885.0486776153899, 1103.682558543506, 2175.9599318886994, 1747.0519235415084, 2174.2248255286277, 2788.415195270578, 3650.8744352003296, 1441.5966770489913, 1021.1416075649513, 1111.7808134010847, 1664.234999426893, 4154.553985200841, 3297.1303767087184, 1632.7099032374988, 1760.938699563047, 1904.5018028951772, 1.636738542380777, 3.120425143641947, 13.878584403054445, 1.6289059992507238, 1.6286266267361584, 5.273128872847207, 6.611526131875307, 5.9324639956136185, 3.1089395954812895, 3.1181479368579685, 3.1188995155984323, 2.957619616234479, 3.1176286542422513, 1.6298149167387566, 3.119753648712475, 5.261192187517722, 15.372003740045443, 3.114144817477139, 2.2959254687196675, 3.1143479739466864, 3.1146712196530104, 64.80408425962644, 2.297401165898288, 3.1069406461487246, 3.120563641244763, 7.910122795874109, 3.77513670663362, 3.115546393504709, 4.289989547571303, 3.1158451511570386, 5.27589474973344, 270.26194631158916, 18.6847881944648, 30.75241222340209, 41.55405163756281, 97.19477727383489, 47.18627012271615, 174.44547412079427, 84.73840322268609, 472.832126712885, 35.61122081435827, 361.3465034789221, 866.1922039867851, 505.1338411702062, 1048.8125189405653, 2175.9599318886994, 118.32066928770732, 4154.553985200841, 317.9619291701464, 389.00573169956914, 61.208418954093936, 40.21868475256268, 364.1746765832114, 436.7593302840072, 1373.2095353236887, 3771.8652412330284, 1118.582549096, 444.21187837723755, 1103.682558543506, 799.0086871577272, 1069.4314159954743, 487.6796916315475, 1515.401267150904, 779.1720737674204, 544.9832782969497, 1396.3283535519297, 695.3059199448592, 3297.1303767087184, 1632.7099032374988, 3658.9629756999666, 1424.04947833885, 1664.234999426893, 976.2626448918628, 1063.2449103288316, 1632.5765958468176, 3650.8744352003296, 968.9376496489699, 1206.5925855996825, 2983.2235364266307, 4177.314441682906, 931.4073587626445, 1346.4249460723465, 1760.938699563047, 1441.5966770489913, 6121.51833704877, 1016.4441119245529, 5122.4609345488125, 4837.507640098403, 2788.415195270578, 2174.2248255286277, 1747.0519235415084, 2472.9517637962917, 1720.949881999476, 1549.3412497778515, 1460.3539530507442], \"Category\": [\"Default\", \"Default\", \"Default\", \"Default\", \"Default\", \"Default\", \"Default\", \"Default\", \"Default\", \"Default\", \"Default\", \"Default\", \"Default\", \"Default\", \"Default\", \"Default\", \"Default\", \"Default\", \"Default\", \"Default\", \"Default\", \"Default\", \"Default\", \"Default\", \"Default\", \"Default\", \"Default\", \"Default\", \"Default\", \"Default\", \"Topic1\", \"Topic1\", \"Topic1\", \"Topic1\", \"Topic1\", \"Topic1\", \"Topic1\", \"Topic1\", \"Topic1\", \"Topic1\", \"Topic1\", \"Topic1\", \"Topic1\", \"Topic1\", \"Topic1\", \"Topic1\", \"Topic1\", \"Topic1\", \"Topic1\", \"Topic1\", \"Topic1\", \"Topic1\", \"Topic1\", \"Topic1\", \"Topic1\", \"Topic1\", \"Topic1\", \"Topic1\", \"Topic1\", \"Topic1\", \"Topic1\", \"Topic1\", \"Topic1\", \"Topic1\", \"Topic1\", \"Topic1\", \"Topic1\", \"Topic1\", \"Topic1\", \"Topic1\", \"Topic1\", \"Topic1\", \"Topic1\", \"Topic1\", \"Topic1\", \"Topic1\", \"Topic1\", \"Topic1\", \"Topic1\", \"Topic1\", \"Topic1\", \"Topic1\", \"Topic1\", \"Topic1\", \"Topic1\", \"Topic1\", \"Topic1\", \"Topic1\", \"Topic1\", \"Topic1\", \"Topic1\", \"Topic1\", \"Topic1\", \"Topic1\", \"Topic1\", \"Topic1\", \"Topic1\", \"Topic1\", \"Topic1\", \"Topic1\", \"Topic1\", \"Topic1\", \"Topic1\", \"Topic1\", \"Topic1\", \"Topic1\", \"Topic2\", \"Topic2\", \"Topic2\", \"Topic2\", \"Topic2\", \"Topic2\", \"Topic2\", \"Topic2\", \"Topic2\", \"Topic2\", \"Topic2\", \"Topic2\", \"Topic2\", \"Topic2\", \"Topic2\", \"Topic2\", \"Topic2\", \"Topic2\", \"Topic2\", \"Topic2\", \"Topic2\", \"Topic2\", \"Topic2\", \"Topic2\", \"Topic2\", \"Topic2\", \"Topic2\", \"Topic2\", \"Topic2\", \"Topic2\", \"Topic2\", \"Topic2\", \"Topic2\", \"Topic2\", \"Topic2\", \"Topic2\", \"Topic2\", \"Topic2\", \"Topic2\", \"Topic2\", \"Topic2\", \"Topic2\", \"Topic2\", \"Topic2\", \"Topic2\", \"Topic2\", \"Topic2\", \"Topic2\", \"Topic2\", \"Topic2\", \"Topic2\", \"Topic2\", \"Topic2\", \"Topic2\", \"Topic2\", \"Topic2\", \"Topic2\", \"Topic2\", \"Topic2\", \"Topic2\", \"Topic2\", \"Topic2\", \"Topic2\", \"Topic2\", \"Topic2\", \"Topic2\", \"Topic2\", \"Topic2\", \"Topic2\", \"Topic2\", \"Topic2\", \"Topic2\", \"Topic2\", \"Topic2\", \"Topic2\", \"Topic2\", \"Topic2\", \"Topic2\", \"Topic2\", \"Topic2\", \"Topic2\", \"Topic2\", \"Topic3\", \"Topic3\", \"Topic3\", \"Topic3\", \"Topic3\", \"Topic3\", \"Topic3\", \"Topic3\", \"Topic3\", \"Topic3\", \"Topic3\", \"Topic3\", \"Topic3\", \"Topic3\", \"Topic3\", \"Topic3\", \"Topic3\", \"Topic3\", \"Topic3\", \"Topic3\", \"Topic3\", \"Topic3\", \"Topic3\", \"Topic3\", \"Topic3\", \"Topic3\", \"Topic3\", \"Topic3\", \"Topic3\", \"Topic3\", \"Topic3\", \"Topic3\", \"Topic3\", \"Topic3\", \"Topic3\", \"Topic3\", \"Topic3\", \"Topic3\", \"Topic3\", \"Topic3\", \"Topic3\", \"Topic3\", \"Topic3\", \"Topic3\", \"Topic3\", \"Topic3\", \"Topic3\", \"Topic3\", \"Topic3\", \"Topic3\", \"Topic3\", \"Topic3\", \"Topic3\", \"Topic3\", \"Topic3\", \"Topic3\", \"Topic3\", \"Topic3\", \"Topic3\", \"Topic3\", \"Topic3\", \"Topic3\", \"Topic3\", \"Topic3\", \"Topic3\", \"Topic3\", \"Topic3\", \"Topic3\", \"Topic3\", \"Topic3\", \"Topic3\", \"Topic3\", \"Topic3\", \"Topic3\", \"Topic3\", \"Topic3\", \"Topic3\", \"Topic3\", \"Topic4\", \"Topic4\", \"Topic4\", \"Topic4\", \"Topic4\", \"Topic4\", \"Topic4\", \"Topic4\", \"Topic4\", \"Topic4\", \"Topic4\", \"Topic4\", \"Topic4\", \"Topic4\", \"Topic4\", \"Topic4\", \"Topic4\", \"Topic4\", \"Topic4\", \"Topic4\", \"Topic4\", \"Topic4\", \"Topic4\", \"Topic4\", \"Topic4\", \"Topic4\", \"Topic4\", \"Topic4\", \"Topic4\", \"Topic4\", \"Topic4\", \"Topic4\", \"Topic4\", \"Topic4\", \"Topic4\", \"Topic4\", \"Topic4\", \"Topic4\", \"Topic4\", \"Topic4\", \"Topic4\", \"Topic4\", \"Topic4\", \"Topic4\", \"Topic4\", \"Topic4\", \"Topic4\", \"Topic4\", \"Topic4\", \"Topic4\", \"Topic4\", \"Topic4\", \"Topic4\", \"Topic4\", \"Topic4\", \"Topic4\", \"Topic4\", \"Topic4\", \"Topic4\", \"Topic4\", \"Topic4\", \"Topic4\", \"Topic4\", \"Topic4\", \"Topic4\", \"Topic4\", \"Topic4\", \"Topic4\", \"Topic4\", \"Topic4\", \"Topic4\", \"Topic4\", \"Topic4\", \"Topic4\", \"Topic4\", \"Topic4\", \"Topic4\", \"Topic4\", \"Topic5\", \"Topic5\", \"Topic5\", \"Topic5\", \"Topic5\", \"Topic5\", \"Topic5\", \"Topic5\", \"Topic5\", \"Topic5\", \"Topic5\", \"Topic5\", \"Topic5\", \"Topic5\", \"Topic5\", \"Topic5\", \"Topic5\", \"Topic5\", \"Topic5\", \"Topic5\", \"Topic5\", \"Topic5\", \"Topic5\", \"Topic5\", \"Topic5\", \"Topic5\", \"Topic5\", \"Topic5\", \"Topic5\", \"Topic5\", \"Topic5\", \"Topic5\", \"Topic5\", \"Topic5\", \"Topic5\", \"Topic5\", \"Topic5\", \"Topic5\", \"Topic5\", \"Topic5\", \"Topic5\", \"Topic5\", \"Topic5\", \"Topic5\", \"Topic5\", \"Topic5\", \"Topic5\", \"Topic5\", \"Topic5\", \"Topic5\", \"Topic5\", \"Topic5\", \"Topic5\", \"Topic5\", \"Topic5\", \"Topic5\", \"Topic5\", \"Topic5\", \"Topic5\", \"Topic5\", \"Topic5\", \"Topic5\", \"Topic5\", \"Topic5\", \"Topic5\", \"Topic5\", \"Topic5\", \"Topic5\", \"Topic5\", \"Topic5\", \"Topic5\", \"Topic5\", \"Topic5\", \"Topic5\", \"Topic5\", \"Topic5\", \"Topic5\", \"Topic5\", \"Topic5\", \"Topic6\", \"Topic6\", \"Topic6\", \"Topic6\", \"Topic6\", \"Topic6\", \"Topic6\", \"Topic6\", \"Topic6\", \"Topic6\", \"Topic6\", \"Topic6\", \"Topic6\", \"Topic6\", \"Topic6\", \"Topic6\", \"Topic6\", \"Topic6\", \"Topic6\", \"Topic6\", \"Topic6\", \"Topic6\", \"Topic6\", \"Topic6\", \"Topic6\", \"Topic6\", \"Topic6\", \"Topic6\", \"Topic6\", \"Topic6\", \"Topic6\", \"Topic6\", \"Topic6\", \"Topic6\", \"Topic6\", \"Topic6\", \"Topic6\", \"Topic6\", \"Topic6\", \"Topic6\", \"Topic6\", \"Topic6\", \"Topic6\", \"Topic6\", \"Topic6\", \"Topic6\", \"Topic6\", \"Topic6\", \"Topic6\", \"Topic6\", \"Topic6\", \"Topic6\", \"Topic6\", \"Topic6\", \"Topic6\", \"Topic6\", \"Topic6\", \"Topic6\", \"Topic6\", \"Topic6\", \"Topic6\", \"Topic6\", \"Topic6\", \"Topic6\", \"Topic6\", \"Topic6\", \"Topic6\", \"Topic6\", \"Topic6\", \"Topic6\", \"Topic6\", \"Topic6\", \"Topic6\", \"Topic6\", \"Topic6\", \"Topic6\", \"Topic6\", \"Topic6\", \"Topic7\", \"Topic7\", \"Topic7\", \"Topic7\", \"Topic7\", \"Topic7\", \"Topic7\", \"Topic7\", \"Topic7\", \"Topic7\", \"Topic7\", \"Topic7\", \"Topic7\", \"Topic7\", \"Topic7\", \"Topic7\", \"Topic7\", \"Topic7\", \"Topic7\", \"Topic7\", \"Topic7\", \"Topic7\", \"Topic7\", \"Topic7\", \"Topic7\", \"Topic7\", \"Topic7\", \"Topic7\", \"Topic7\", \"Topic7\", \"Topic7\", \"Topic7\", \"Topic7\", \"Topic7\", \"Topic7\", \"Topic7\", \"Topic7\", \"Topic7\", \"Topic7\", \"Topic7\", \"Topic7\", \"Topic7\", \"Topic7\", \"Topic7\", \"Topic7\", \"Topic7\", \"Topic7\", \"Topic7\", \"Topic7\", \"Topic7\", \"Topic7\", \"Topic7\", \"Topic7\", \"Topic7\", \"Topic7\", \"Topic7\", \"Topic7\", \"Topic7\", \"Topic7\", \"Topic7\", \"Topic7\", \"Topic7\", \"Topic7\", \"Topic7\", \"Topic7\", \"Topic7\", \"Topic7\", \"Topic7\", \"Topic7\", \"Topic7\", \"Topic7\", \"Topic7\", \"Topic7\", \"Topic7\", \"Topic7\", \"Topic7\", \"Topic7\", \"Topic7\", \"Topic7\", \"Topic7\", \"Topic7\", \"Topic7\", \"Topic8\", \"Topic8\", \"Topic8\", \"Topic8\", \"Topic8\", \"Topic8\", \"Topic8\", \"Topic8\", \"Topic8\", \"Topic8\", \"Topic8\", \"Topic8\", \"Topic8\", \"Topic8\", \"Topic8\", \"Topic8\", \"Topic8\", \"Topic8\", \"Topic8\", \"Topic8\", \"Topic8\", \"Topic8\", \"Topic8\", \"Topic8\", \"Topic8\", \"Topic8\", \"Topic8\", \"Topic8\", \"Topic8\", \"Topic8\", \"Topic8\", \"Topic8\", \"Topic8\", \"Topic8\", \"Topic8\", \"Topic8\", \"Topic8\", \"Topic8\", \"Topic8\", \"Topic8\", \"Topic8\", \"Topic8\", \"Topic8\", \"Topic8\", \"Topic8\", \"Topic8\", \"Topic8\", \"Topic8\", \"Topic8\", \"Topic8\", \"Topic8\", \"Topic8\", \"Topic8\", \"Topic8\", \"Topic8\", \"Topic8\", \"Topic8\", \"Topic8\", \"Topic8\", \"Topic8\", \"Topic8\", \"Topic8\", \"Topic8\", \"Topic8\", \"Topic8\", \"Topic8\", \"Topic8\", \"Topic8\", \"Topic8\", \"Topic8\", \"Topic8\", \"Topic8\", \"Topic8\", \"Topic8\", \"Topic8\", \"Topic8\", \"Topic8\", \"Topic8\", \"Topic9\", \"Topic9\", \"Topic9\", \"Topic9\", \"Topic9\", \"Topic9\", \"Topic9\", \"Topic9\", \"Topic9\", \"Topic9\", \"Topic9\", \"Topic9\", \"Topic9\", \"Topic9\", \"Topic9\", \"Topic9\", \"Topic9\", \"Topic9\", \"Topic9\", \"Topic9\", \"Topic9\", \"Topic9\", \"Topic9\", \"Topic9\", \"Topic9\", \"Topic9\", \"Topic9\", \"Topic9\", \"Topic9\", \"Topic9\", \"Topic9\", \"Topic9\", \"Topic9\", \"Topic9\", \"Topic9\", \"Topic9\", \"Topic9\", \"Topic9\", \"Topic9\", \"Topic9\", \"Topic9\", \"Topic9\", \"Topic9\", \"Topic9\", \"Topic9\", \"Topic9\", \"Topic9\", \"Topic9\", \"Topic9\", \"Topic9\", \"Topic9\", \"Topic9\", \"Topic9\", \"Topic9\", \"Topic9\", \"Topic9\", \"Topic9\", \"Topic9\", \"Topic9\", \"Topic9\", \"Topic9\", \"Topic9\", \"Topic9\", \"Topic9\", \"Topic9\", \"Topic9\", \"Topic9\", \"Topic9\", \"Topic9\", \"Topic9\", \"Topic9\", \"Topic9\", \"Topic9\", \"Topic9\", \"Topic9\", \"Topic9\", \"Topic9\", \"Topic9\", \"Topic9\", \"Topic9\", \"Topic9\", \"Topic9\", \"Topic9\", \"Topic9\", \"Topic9\", \"Topic9\", \"Topic9\", \"Topic9\", \"Topic9\", \"Topic9\", \"Topic10\", \"Topic10\", \"Topic10\", \"Topic10\", \"Topic10\", \"Topic10\", \"Topic10\", \"Topic10\", \"Topic10\", \"Topic10\", \"Topic10\", \"Topic10\", \"Topic10\", \"Topic10\", \"Topic10\", \"Topic10\", \"Topic10\", \"Topic10\", \"Topic10\", \"Topic10\", \"Topic10\", \"Topic10\", \"Topic10\", \"Topic10\", \"Topic10\", \"Topic10\", \"Topic10\", \"Topic10\", \"Topic10\", \"Topic10\", \"Topic10\", \"Topic10\", \"Topic10\", \"Topic10\", \"Topic10\", \"Topic10\", \"Topic10\", \"Topic10\", \"Topic10\", \"Topic10\", \"Topic10\", \"Topic10\", \"Topic10\", \"Topic10\", \"Topic10\", \"Topic10\", \"Topic10\", \"Topic10\", \"Topic10\", \"Topic10\", \"Topic10\", \"Topic10\", \"Topic10\", \"Topic10\", \"Topic10\", \"Topic10\", \"Topic10\", \"Topic10\", \"Topic10\", \"Topic10\", \"Topic10\", \"Topic10\", \"Topic10\", \"Topic10\", \"Topic10\", \"Topic10\", \"Topic10\", \"Topic10\", \"Topic10\", \"Topic10\", \"Topic10\", \"Topic10\", \"Topic10\", \"Topic10\", \"Topic10\", \"Topic10\", \"Topic10\", \"Topic10\", \"Topic10\", \"Topic10\", \"Topic10\", \"Topic10\", \"Topic10\", \"Topic10\", \"Topic10\", \"Topic10\", \"Topic10\", \"Topic10\", \"Topic10\", \"Topic10\", \"Topic10\", \"Topic10\", \"Topic10\", \"Topic10\", \"Topic10\"], \"logprob\": [30.0, 29.0, 28.0, 27.0, 26.0, 25.0, 24.0, 23.0, 22.0, 21.0, 20.0, 19.0, 18.0, 17.0, 16.0, 15.0, 14.0, 13.0, 12.0, 11.0, 10.0, 9.0, 8.0, 7.0, 6.0, 5.0, 4.0, 3.0, 2.0, 1.0, -10.548399925231934, -10.680100440979004, -10.702899932861328, -10.752400398254395, -10.756400108337402, -10.808500289916992, -10.81089973449707, -10.840200424194336, -10.845399856567383, -11.590200424194336, -10.49269962310791, -11.063599586486816, -11.714799880981445, -10.432100296020508, -11.726099967956543, -11.743200302124023, -11.748200416564941, -11.099499702453613, -11.756099700927734, -11.111900329589844, -11.116600036621094, -11.12600040435791, -10.203499794006348, -10.63659954071045, -11.251700401306152, -10.481800079345703, -10.890800476074219, -7.930699825286865, -10.300700187683105, -10.375, -10.195799827575684, -4.930200099945068, -4.207900047302246, -4.32889986038208, -5.848199844360352, -5.749499797821045, -6.7540998458862305, -4.570300102233887, -4.798799991607666, -5.958799839019775, -6.348599910736084, -7.1596999168396, -4.759699821472168, -6.395299911499023, -5.453000068664551, -5.629000186920166, -4.336100101470947, -6.1219000816345215, -5.172500133514404, -5.734499931335449, -4.851099967956543, -6.220200061798096, -6.307600021362305, -4.88040018081665, -6.522900104522705, -5.167900085449219, -5.926599979400635, -5.379799842834473, -6.142899990081787, -6.184299945831299, -4.906199932098389, -6.108699798583984, -6.075300216674805, -5.271599769592285, -5.764900207519531, -5.817800045013428, -5.671000003814697, -5.784299850463867, -5.840000152587891, -5.863100051879883, -5.682799816131592, -5.7322001457214355, -5.832099914550781, -5.8059000968933105, -5.8028998374938965, -5.75600004196167, -11.08810043334961, -11.814299583435059, -11.842300415039062, -11.204899787902832, -11.215200424194336, -11.01990032196045, -11.889900207519531, -11.896499633789062, -10.9483003616333, -10.346500396728516, -11.285300254821777, -10.638699531555176, -11.287400245666504, -11.297300338745117, -11.94219970703125, -11.105500221252441, -11.94629955291748, -11.108200073242188, -11.108400344848633, -10.951000213623047, -10.696200370788574, -11.316699981689453, -11.964900016784668, -11.320699691772461, -10.088000297546387, -11.324600219726562, -11.32699966430664, -11.976200103759766, -11.33180046081543, -11.145299911499023, -8.592900276184082, -9.110400199890137, -5.111999988555908, -5.27370023727417, -7.274600028991699, -6.325399875640869, -7.0960001945495605, -9.392200469970703, -5.812300205230713, -5.4532999992370605, -4.628200054168701, -6.3703999519348145, -5.456900119781494, -4.7733001708984375, -9.396200180053711, -5.947700023651123, -6.37529993057251, -6.5258002281188965, -5.652100086212158, -6.272600173950195, -6.0467000007629395, -7.065499782562256, -5.034900188446045, -6.376100063323975, -5.767199993133545, -5.884500026702881, -6.167500019073486, -4.522799968719482, -6.520299911499023, -4.721399784088135, -4.8403000831604, -5.723800182342529, -5.317299842834473, -4.632599830627441, -6.172399997711182, -5.889900207519531, -4.8719000816345215, -5.674799919128418, -5.1392998695373535, -5.628200054168701, -4.583700180053711, -4.888599872589111, -5.576000213623047, -5.758999824523926, -5.368899822235107, -5.66480016708374, -5.655399799346924, -5.7418999671936035, -5.667900085449219, -5.772600173950195, -5.76140022277832, -5.756400108337402, -10.719300270080566, -10.730999946594238, -10.1141996383667, -9.92959976196289, -11.085399627685547, -10.566100120544434, -10.492899894714355, -11.41569995880127, -11.208700180053711, -10.805500030517578, -10.972299575805664, -11.812600135803223, -10.862099647521973, -10.686100006103516, -11.51039981842041, -11.856800079345703, -11.033300399780273, -10.501500129699707, -11.880900382995605, -11.056300163269043, -11.249300003051758, -10.730600357055664, -11.905699729919434, -11.5693998336792, -11.31760025024414, -11.321000099182129, -11.929200172424316, -11.29539966583252, -11.106300354003906, -11.946100234985352, -8.45110034942627, -10.775899887084961, -9.589300155639648, -6.475900173187256, -7.1809000968933105, -9.369099617004395, -5.910399913787842, -7.099400043487549, -4.320899963378906, -6.254000186920166, -4.1803998947143555, -6.518099784851074, -5.172699928283691, -6.742099761962891, -6.446800231933594, -5.595300197601318, -6.525100231170654, -7.369800090789795, -5.862500190734863, -5.46750020980835, -6.045000076293945, -5.497600078582764, -4.472599983215332, -4.6682000160217285, -4.8846001625061035, -6.520199775695801, -5.685500144958496, -6.469200134277344, -5.657599925994873, -5.056099891662598, -4.860000133514404, -5.906000137329102, -5.72790002822876, -5.708099842071533, -5.17579984664917, -5.496200084686279, -5.78879976272583, -5.0106000900268555, -4.924900054931641, -5.428400039672852, -5.075900077819824, -5.753600120544434, -5.815100193023682, -5.789899826049805, -5.514999866485596, -5.848999977111816, -5.861100196838379, -5.83489990234375, -10.384300231933594, -10.793899536132812, -10.83899974822998, -10.890999794006348, -10.95479965209961, -10.668800354003906, -10.703100204467773, -9.849900245666504, -11.082099914550781, -11.763099670410156, -10.371299743652344, -11.128000259399414, -10.958900451660156, -11.80210018157959, -10.0516996383667, -11.155900001525879, -11.15880012512207, -10.279899597167969, -10.549099922180176, -11.843700408935547, -11.51259994506836, -11.21780014038086, -11.227499961853027, -11.877400398254395, -11.282500267028809, -11.23009967803955, -11.238900184631348, -11.239299774169922, -9.991999626159668, -11.251500129699707, -10.910900115966797, -8.225000381469727, -10.749699592590332, -5.781099796295166, -5.5381999015808105, -7.004300117492676, -5.740200042724609, -9.384699821472168, -5.940499782562256, -6.769499778747559, -4.694300174713135, -5.516600131988525, -7.107900142669678, -5.599400043487549, -6.560500144958496, -6.089399814605713, -6.117499828338623, -4.961699962615967, -6.376699924468994, -6.356299877166748, -4.35699987411499, -4.566500186920166, -6.046899795532227, -5.8821001052856445, -5.184800148010254, -5.41510009765625, -4.556099891662598, -4.741799831390381, -4.747200012207031, -5.485599994659424, -5.865699768066406, -6.118100166320801, -5.002600193023682, -5.166100025177002, -5.916200160980225, -5.7804999351501465, -4.957300186157227, -5.763199806213379, -5.022200107574463, -5.599599838256836, -5.450399875640869, -5.740099906921387, -5.788700103759766, -5.692699909210205, -5.728400230407715, -5.698299884796143, -5.767300128936768, -5.732500076293945, -8.057700157165527, -10.4552001953125, -10.54889965057373, -10.163800239562988, -10.451499938964844, -11.627099990844727, -11.678999900817871, -11.68340015411377, -11.69890022277832, -11.705699920654297, -10.200699806213379, -11.115699768066406, -11.427599906921387, -11.773099899291992, -11.795299530029297, -11.800299644470215, -10.976400375366211, -11.840200424194336, -11.840399742126465, -10.581500053405762, -11.204999923706055, -10.4798002243042, -11.517499923706055, -11.861700057983398, -11.868300437927246, -11.871299743652344, -11.035699844360352, -11.878999710083008, -10.712699890136719, -10.418600082397461, -8.276800155639648, -10.60669994354248, -9.090900421142578, -10.371600151062012, -4.586599826812744, -6.827000141143799, -6.466400146484375, -5.548699855804443, -5.031700134277344, -7.510900020599365, -8.088399887084961, -7.769499778747559, -7.089099884033203, -5.52810001373291, -4.238500118255615, -5.503600120544434, -4.725800037384033, -5.6641998291015625, -5.207699775695801, -6.628300189971924, -6.175300121307373, -6.527100086212158, -5.6508002281188965, -6.360400199890137, -4.880000114440918, -6.815999984741211, -5.679599761962891, -4.681700229644775, -5.642199993133545, -4.582399845123291, -5.062300205230713, -5.950699806213379, -5.045400142669678, -5.631199836730957, -5.89109992980957, -6.104800224304199, -5.606100082397461, -5.829899787902832, -5.520100116729736, -5.771999835968018, -5.626200199127197, -5.030099868774414, -4.979899883270264, -4.937300205230713, -5.649899959564209, -5.783199787139893, -5.720300197601318, -5.827300071716309, -5.722099781036377, -11.109299659729004, -11.590200424194336, -10.752400398254395, -10.959600448608398, -10.976200103759766, -10.833399772644043, -11.036999702453613, -10.56089973449707, -11.7524995803833, -11.128499984741211, -11.131199836730957, -11.13860034942627, -11.171500205993652, -11.1766996383667, -10.336400032043457, -11.498600006103516, -11.026200294494629, -11.219300270080566, -11.224800109863281, -11.875200271606445, -11.038100242614746, -11.041000366210938, -10.623600006103516, -11.247300148010254, -11.554300308227539, -10.637299537658691, -11.903900146484375, -11.259699821472168, -10.393699645996094, -10.171600341796875, -9.75629997253418, -7.453100204467773, -6.179500102996826, -4.420400142669678, -5.461400032043457, -6.10260009765625, -6.287799835205078, -5.499300003051758, -7.291999816894531, -7.054200172424316, -7.2428998947143555, -7.500699996948242, -5.432499885559082, -6.0406999588012695, -6.22790002822876, -4.411799907684326, -7.879700183868408, -5.574399948120117, -5.764999866485596, -7.105800151824951, -5.563199996948242, -6.683599948883057, -5.500699996948242, -5.55620002746582, -4.67579984664917, -6.104700088500977, -6.403299808502197, -4.416500091552734, -5.704899787902832, -5.424900054931641, -4.882699966430664, -5.55709981918335, -4.872700214385986, -5.227799892425537, -5.132500171661377, -5.747099876403809, -4.937699794769287, -5.859000205993652, -5.914100170135498, -5.593200206756592, -5.1184000968933105, -5.47130012512207, -4.938899993896484, -5.707099914550781, -5.391499996185303, -5.800899982452393, -5.643599987030029, -5.754899978637695, -10.174699783325195, -11.45930004119873, -11.606300354003906, -11.640299797058105, -11.644599914550781, -11.65470027923584, -11.010600090026855, -11.038100242614746, -11.067500114440918, -11.71679973602295, -11.71969985961914, -11.078100204467773, -11.40410041809082, -11.111499786376953, -11.775699615478516, -11.123100280761719, -10.8302001953125, -11.492199897766113, -11.496100425720215, -11.840100288391113, -11.844599723815918, -11.211400032043457, -11.869600296020508, -11.22070026397705, -11.221599578857422, -11.078399658203125, -11.879599571228027, -11.237199783325195, -11.23840045928955, -11.55210018157959, -10.93179988861084, -6.573299884796143, -9.709500312805176, -4.039999961853027, -6.428699970245361, -6.78249979019165, -8.22089958190918, -7.7291998863220215, -7.154900074005127, -8.73639965057373, -5.781899929046631, -7.917799949645996, -6.310400009155273, -5.643499851226807, -6.009399890899658, -5.189700126647949, -5.888000011444092, -6.1433000564575195, -6.481100082397461, -5.6427001953125, -4.966100215911865, -6.330599784851074, -6.480800151824951, -4.506100177764893, -4.686200141906738, -4.898099899291992, -5.615799903869629, -6.4390997886657715, -6.63129997253418, -5.485099792480469, -6.094399929046631, -6.6539998054504395, -6.2652997970581055, -5.527299880981445, -5.556600093841553, -5.583399772644043, -5.343800067901611, -5.178800106048584, -4.94890022277832, -5.001699924468994, -5.74970006942749, -5.7403998374938965, -4.9791998863220215, -5.6230998039245605, -5.72599983215332, -4.9415998458862305, -5.583899974822998, -5.203700065612793, -5.7399001121521, -5.530099868774414, -5.797100067138672, -5.8470001220703125, -10.80459976196289, -11.555800437927246, -11.585800170898438, -11.618900299072266, -11.628399848937988, -10.850700378417969, -11.04640007019043, -11.391300201416016, -11.104399681091309, -11.110099792480469, -11.775400161743164, -11.126799583435059, -10.61340045928955, -11.790200233459473, -11.807100296020508, -11.223699569702148, -11.184000015258789, -11.185500144958496, -11.195199966430664, -11.015700340270996, -10.353400230407715, -10.595399856567383, -11.885299682617188, -11.050999641418457, -11.89680004119873, -10.387499809265137, -9.324600219726562, -11.26609992980957, -9.814900398254395, -11.587300300598145, -6.72790002822876, -7.859000205993652, -9.233699798583984, -7.748700141906738, -6.587600231170654, -6.624199867248535, -5.4120001792907715, -6.757599830627441, -8.031299591064453, -6.278500080108643, -6.475399971008301, -5.987100124359131, -5.588200092315674, -5.623300075531006, -5.374199867248535, -5.587200164794922, -5.618500232696533, -6.071300029754639, -5.695899963378906, -6.825799942016602, -4.762800216674805, -5.534599781036377, -4.4770002365112305, -4.6732001304626465, -6.796999931335449, -5.496799945831299, -5.927499771118164, -6.82889986038208, -5.706699848175049, -5.114699840545654, -5.901299953460693, -5.677299976348877, -4.923399925231934, -5.8470001220703125, -5.709400177001953, -5.276500225067139, -4.859799861907959, -5.192200183868408, -4.896299839019775, -5.768599987030029, -5.144899845123291, -5.644199848175049, -5.785600185394287, -4.984600067138672, -5.76039981842041, -5.6219000816345215, -5.534299850463867, -5.774799823760986, -10.088899612426758, -10.908599853515625, -10.919699668884277, -11.657500267028809, -11.350700378417969, -10.208200454711914, -10.865400314331055, -11.059499740600586, -10.881199836730957, -11.09060001373291, -10.570099830627441, -11.114800453186035, -11.434399604797363, -11.133399963378906, -11.81190013885498, -11.18589973449707, -11.187800407409668, -11.1899995803833, -11.219200134277344, -11.226799964904785, -11.228799819946289, -11.2298002243042, -11.537699699401855, -11.040399551391602, -10.621100425720215, -11.244600296020508, -11.246399879455566, -11.060099601745605, -10.609700202941895, -11.575599670410156, -11.273699760437012, -10.183300018310547, -7.990900039672852, -9.196000099182129, -8.779999732971191, -8.663800239562988, -8.35990047454834, -5.493299961090088, -6.547900199890137, -7.350399971008301, -5.479499816894531, -6.3125, -6.416500091552734, -5.531000137329102, -7.4019999504089355, -7.5121002197265625, -5.575099945068359, -4.314300060272217, -4.962100028991699, -4.547500133514404, -6.377099990844727, -5.975299835205078, -7.08519983291626, -6.645999908447266, -6.6519999504089355, -5.60890007019043, -4.857900142669678, -6.4670000076293945, -6.214600086212158, -5.588699817657471, -6.871300220489502, -5.250400066375732, -6.692500114440918, -5.742400169372559, -6.597700119018555, -6.476600170135498, -4.955900192260742, -5.706399917602539, -5.6894001960754395, -4.882699966430664, -4.720099925994873, -5.616399765014648, -6.169400215148926, -5.995100021362305, -6.173299789428711, -6.011600017547607, -5.539999961853027, -5.716899871826172, -5.587100028991699, -5.429999828338623, -5.2596001625061035, -5.859099864959717, -6.095300197601318, -6.053100109100342, -5.876200199127197, -5.478899955749512, -5.61959981918335, -5.948200225830078, -5.954400062561035, -5.959099769592285, -11.225700378417969, -10.664600372314453, -9.600600242614746, -11.768699645996094, -11.826199531555176, -10.663900375366211, -10.450200080871582, -10.579099655151367, -11.232099533081055, -11.251399993896484, -11.259900093078613, -11.317500114440918, -11.266200065612793, -11.915599822998047, -11.268400192260742, -10.748900413513184, -9.67770004272461, -11.277700424194336, -11.586199760437012, -11.281900405883789, -11.288200378417969, -8.253899574279785, -11.595100402832031, -11.300800323486328, -11.297900199890137, -10.369500160217285, -11.109600067138672, -11.302399635314941, -10.98270034790039, -11.307000160217285, -10.787699699401855, -6.942699909210205, -9.55150032043457, -9.090900421142578, -8.80519962310791, -7.998499870300293, -8.686300277709961, -7.449900150299072, -8.140399932861328, -6.511199951171875, -8.971599578857422, -6.7789998054504395, -5.966599941253662, -6.482600212097168, -5.812699794769287, -5.134500026702881, -7.856299877166748, -4.5528998374938965, -6.950200080871582, -6.772799968719482, -8.47920036315918, -8.868300437927246, -6.850500106811523, -6.690199851989746, -5.64870023727417, -4.746399879455566, -5.845399856567383, -6.68310022354126, -5.872000217437744, -6.159999847412109, -5.903200149536133, -6.606500148773193, -5.604599952697754, -6.191800117492676, -6.508999824523926, -5.685999870300293, -6.2957000732421875, -4.995200157165527, -5.5903000831604, -4.924600124359131, -5.713399887084961, -5.587900161743164, -6.03000020980835, -5.963500022888184, -5.621200084686279, -4.973800182342529, -6.044899940490723, -5.870200157165527, -5.154200077056885, -4.890600204467773, -6.077499866485596, -5.8069000244140625, -5.634699821472168, -5.773799896240234, -4.84060001373291, -6.019700050354004, -4.997399806976318, -5.03410005569458, -5.392600059509277, -5.547800064086914, -5.688499927520752, -5.542900085449219, -5.7221999168396, -5.774099826812744, -5.8084001541137695], \"loglift\": [30.0, 29.0, 28.0, 27.0, 26.0, 25.0, 24.0, 23.0, 22.0, 21.0, 20.0, 19.0, 18.0, 17.0, 16.0, 15.0, 14.0, 13.0, 12.0, 11.0, 10.0, 9.0, 8.0, 7.0, 6.0, 5.0, 4.0, 3.0, 2.0, 1.0, 1.4255, 1.2869, 1.2715, 1.224, 1.2107, 1.1686, 1.1658, 1.1372, 1.1302, 1.0329, 0.9608, 0.9118, 0.9079, 0.9002, 0.896, 0.8783, 0.8745, 0.874, 0.8681, 0.863, 0.8573, 0.8508, 0.8188, 0.8152, 0.7721, 0.7659, 0.7648, 0.761, 0.7605, 0.7541, 0.7445, 0.4927, 0.4153, 0.237, 0.3579, 0.3323, 0.4174, 0.1996, 0.2077, 0.3024, 0.3429, 0.414, 0.1449, 0.3231, 0.2037, 0.217, 0.0517, 0.2719, 0.1217, 0.1951, 0.0513, 0.2624, 0.2682, -0.0084, 0.3011, 0.0062, 0.167, 0.0423, 0.2112, 0.208, -0.1308, 0.1827, 0.1685, -0.165, 0.0282, 0.0435, -0.0293, 0.0263, 0.0438, 0.0538, -0.0491, -0.0229, 0.0336, 0.0071, -0.019, -0.2006, 0.8913, 0.8075, 0.7794, 0.7692, 0.7614, 0.7557, 0.7311, 0.7252, 0.7054, 0.6951, 0.6916, 0.6915, 0.689, 0.6799, 0.6791, 0.6777, 0.6755, 0.6724, 0.6717, 0.6696, 0.6616, 0.6581, 0.6568, 0.6546, 0.649, 0.6485, 0.6482, 0.6448, 0.642, 0.6356, 0.5688, 0.5822, 0.4434, 0.3679, 0.4616, 0.3999, 0.44, 0.5605, 0.3709, 0.3306, 0.2764, 0.3818, 0.311, 0.2332, 0.549, 0.2834, 0.313, 0.316, 0.2317, 0.2751, 0.2463, 0.3447, 0.1392, 0.267, 0.1988, 0.2091, 0.2263, 0.0432, 0.2609, 0.054, 0.0621, 0.164, 0.1056, -0.0094, 0.2132, 0.17, 0.0001, 0.1224, -0.0327, 0.0811, -0.1959, -0.1187, 0.0578, 0.0839, -0.0747, 0.0446, 0.0348, 0.0688, -0.0112, 0.0887, 0.0725, 0.0645, 1.2574, 1.245, 0.9065, 0.9016, 0.8922, 0.8831, 0.8627, 0.862, 0.8164, 0.8128, 0.8112, 0.8082, 0.7933, 0.7918, 0.7716, 0.7641, 0.75, 0.7468, 0.7385, 0.7246, 0.7246, 0.7188, 0.7183, 0.7084, 0.7074, 0.7028, 0.6913, 0.679, 0.6772, 0.6759, 0.6564, 0.6719, 0.6364, 0.5209, 0.5419, 0.6175, 0.4358, 0.4941, 0.3023, 0.3847, 0.2074, 0.3705, 0.2494, 0.3786, 0.3514, 0.2704, 0.3433, 0.4251, 0.2709, 0.2227, 0.2767, 0.2118, 0.0934, 0.1072, 0.1219, 0.3059, 0.1983, 0.2898, 0.153, 0.0505, 0.012, 0.1876, 0.1334, 0.1257, -0.0016, 0.0591, 0.1281, -0.106, -0.155, -0.0055, -0.1735, 0.0673, 0.0674, 0.0033, -0.2208, 0.0281, 0.041, -0.1782, 1.4006, 1.1828, 1.136, 1.0835, 1.0234, 0.9495, 0.9159, 0.9019, 0.8941, 0.8613, 0.8541, 0.8496, 0.8233, 0.8203, 0.8191, 0.8174, 0.8162, 0.7817, 0.7809, 0.78, 0.7669, 0.7576, 0.7477, 0.7468, 0.7438, 0.7425, 0.7356, 0.7352, 0.7329, 0.7249, 0.7095, 0.5925, 0.7012, 0.401, 0.3389, 0.4389, 0.3428, 0.6128, 0.3302, 0.3929, 0.2081, 0.2766, 0.404, 0.2467, 0.3383, 0.2746, 0.2763, 0.1449, 0.2999, 0.2949, 0.0308, 0.0567, 0.2446, 0.2189, 0.1093, 0.1403, 0.0098, 0.0281, 0.0282, 0.1482, 0.1977, 0.22, 0.004, 0.008, 0.1714, 0.1364, -0.0853, 0.1205, -0.1175, 0.0421, -0.0275, 0.0728, 0.0937, 0.0167, 0.0334, -0.0416, -0.058, -0.3104, 1.6406, 1.3267, 1.2342, 1.1664, 0.9992, 0.9926, 0.9415, 0.9342, 0.9227, 0.9122, 0.9055, 0.8584, 0.8516, 0.8491, 0.8259, 0.8199, 0.8047, 0.7824, 0.7773, 0.7739, 0.7684, 0.7663, 0.7605, 0.7592, 0.753, 0.7492, 0.7452, 0.7415, 0.7346, 0.7316, 0.7304, 0.7223, 0.618, 0.6685, 0.2855, 0.4404, 0.4121, 0.3392, 0.2625, 0.4719, 0.5179, 0.488, 0.4198, 0.2826, 0.1493, 0.2581, 0.1788, 0.2653, 0.2144, 0.3647, 0.3068, 0.3401, 0.233, 0.3113, 0.1266, 0.3646, 0.2225, 0.0882, 0.2007, 0.0408, 0.1118, 0.228, 0.0612, 0.1527, 0.1919, 0.2301, 0.1033, 0.1361, 0.0353, 0.1105, 0.064, -0.1276, -0.2045, -0.3714, -0.0162, 0.0629, -0.0636, 0.0339, -0.2992, 1.5158, 1.0322, 1.0305, 1.0135, 0.9999, 0.9476, 0.9391, 0.8866, 0.87, 0.8482, 0.8449, 0.8377, 0.8026, 0.8015, 0.79, 0.7831, 0.7547, 0.7535, 0.7468, 0.7444, 0.7434, 0.7396, 0.7341, 0.7262, 0.7244, 0.7206, 0.7181, 0.7155, 0.7123, 0.6992, 0.6656, 0.5789, 0.4635, 0.355, 0.3595, 0.3938, 0.3953, 0.3137, 0.4569, 0.4359, 0.4481, 0.4597, 0.2769, 0.3302, 0.3479, 0.1541, 0.492, 0.2595, 0.2591, 0.4075, 0.234, 0.3575, 0.2087, 0.2116, 0.0941, 0.2494, 0.2825, -0.0287, 0.1775, 0.1304, 0.0197, 0.1331, -0.0007, 0.0663, 0.0416, 0.155, -0.0331, 0.1528, 0.1493, 0.0484, -0.1118, -0.0492, -0.3157, 0.0547, -0.2849, 0.0762, -0.2207, -0.1212, 1.1856, 1.1624, 1.0154, 0.9819, 0.9779, 0.9679, 0.967, 0.9314, 0.9075, 0.9043, 0.903, 0.8979, 0.8752, 0.8644, 0.8464, 0.8463, 0.7883, 0.7879, 0.7825, 0.7811, 0.7768, 0.7617, 0.7531, 0.7525, 0.7517, 0.7438, 0.7422, 0.7361, 0.7304, 0.7259, 0.7236, 0.6153, 0.6775, 0.3478, 0.4763, 0.4794, 0.5474, 0.5059, 0.459, 0.5748, 0.3516, 0.5038, 0.3607, 0.2861, 0.3154, 0.2332, 0.2988, 0.3237, 0.3545, 0.2344, 0.1405, 0.3042, 0.3076, 0.0598, 0.0837, 0.1084, 0.1972, 0.3023, 0.3203, 0.1487, 0.2376, 0.3207, 0.2498, 0.1294, 0.1336, 0.1259, 0.0783, -0.0047, -0.0769, -0.0993, 0.0841, 0.0805, -0.2038, 0.0185, 0.0579, -0.3184, -0.0286, -0.2991, -0.0305, -0.2359, -0.0039, -0.0041, 1.1627, 1.0576, 1.0282, 0.9954, 0.9852, 0.9226, 0.9207, 0.884, 0.8648, 0.8574, 0.8404, 0.8402, 0.8277, 0.8258, 0.8097, 0.7972, 0.7846, 0.7845, 0.7754, 0.7591, 0.7496, 0.73, 0.73, 0.7248, 0.7209, 0.7157, 0.7047, 0.7029, 0.6952, 0.6875, 0.652, 0.6139, 0.6551, 0.5907, 0.5358, 0.4933, 0.3852, 0.4693, 0.5403, 0.3832, 0.3946, 0.3448, 0.2956, 0.2935, 0.2595, 0.2785, 0.2693, 0.3142, 0.2701, 0.3863, 0.1418, 0.2333, 0.089, 0.1022, 0.3482, 0.1599, 0.2107, 0.3405, 0.1705, 0.0594, 0.1804, 0.1333, -0.021, 0.1648, 0.1336, 0.0177, -0.0899, -0.0857, -0.2731, 0.0652, -0.2729, -0.0025, 0.0353, -0.5968, 0.0014, -0.1998, -0.5277, -0.2195, 1.3589, 1.0649, 1.0511, 0.9621, 0.9253, 0.9163, 0.9101, 0.9098, 0.8991, 0.8811, 0.8784, 0.8583, 0.8458, 0.8354, 0.8089, 0.7882, 0.7823, 0.7793, 0.7509, 0.7473, 0.7472, 0.7411, 0.741, 0.7405, 0.7343, 0.7273, 0.7258, 0.7191, 0.7176, 0.702, 0.7004, 0.6859, 0.632, 0.6539, 0.6327, 0.6144, 0.5682, 0.3496, 0.4199, 0.4698, 0.3137, 0.3707, 0.3736, 0.2662, 0.4405, 0.4492, 0.2378, 0.0735, 0.1445, 0.0757, 0.294, 0.2308, 0.3787, 0.3132, 0.311, 0.159, 0.0445, 0.2702, 0.2301, 0.1207, 0.3228, 0.0438, 0.2917, 0.1189, 0.2707, 0.2418, -0.0839, 0.0775, 0.0724, -0.1128, -0.1542, 0.0403, 0.1554, 0.0923, 0.1484, 0.0893, -0.1179, -0.0752, -0.1642, -0.2559, -0.355, -0.0253, 0.0834, 0.0406, -0.186, -0.7036, -0.6131, -0.2388, -0.3207, -0.4037, 1.389, 1.3048, 0.8764, 0.8507, 0.7934, 0.7808, 0.7684, 0.7478, 0.741, 0.7187, 0.71, 0.7054, 0.7041, 0.7032, 0.7012, 0.6981, 0.6971, 0.6937, 0.69, 0.6894, 0.683, 0.6821, 0.6804, 0.6729, 0.6714, 0.6697, 0.6693, 0.6685, 0.6683, 0.6638, 0.6565, 0.5652, 0.6281, 0.5905, 0.5751, 0.5322, 0.5669, 0.4958, 0.5274, 0.4374, 0.5631, 0.4385, 0.3766, 0.3999, 0.3393, 0.2876, 0.4776, 0.2225, 0.3952, 0.3709, 0.5139, 0.5447, 0.3592, 0.3378, 0.2337, 0.1256, 0.2421, 0.3279, 0.2289, 0.264, 0.2293, 0.3112, 0.1793, 0.2573, 0.2976, 0.1797, 0.2673, 0.0113, 0.119, -0.0222, 0.1327, 0.1023, 0.1936, 0.1747, 0.0883, -0.0692, 0.1862, 0.1416, -0.0476, -0.1207, 0.1931, 0.0952, -0.001, 0.06, -0.4528, 0.1636, -0.4315, -0.4109, -0.2185, -0.1249, -0.0468, -0.2487, -0.0655, -0.0124, 0.0125]}, \"token.table\": {\"Topic\": [1, 2, 3, 4, 5, 6, 7, 8, 9, 10, 1, 1, 3, 1, 2, 3, 4, 5, 6, 7, 8, 9, 10, 1, 2, 2, 3, 5, 8, 6, 10, 1, 2, 3, 4, 5, 6, 7, 8, 9, 10, 10, 1, 2, 3, 4, 5, 6, 7, 8, 9, 10, 1, 2, 3, 4, 5, 6, 7, 8, 9, 10, 1, 2, 3, 4, 5, 6, 7, 8, 9, 10, 2, 8, 5, 7, 1, 2, 3, 4, 5, 6, 7, 8, 9, 10, 6, 10, 7, 1, 2, 3, 4, 5, 6, 7, 8, 9, 10, 1, 2, 3, 4, 5, 6, 7, 8, 9, 10, 1, 2, 3, 4, 5, 6, 7, 8, 9, 10, 1, 7, 1, 2, 3, 4, 5, 6, 7, 8, 9, 10, 1, 2, 3, 4, 5, 6, 7, 8, 9, 10, 1, 2, 3, 4, 5, 6, 7, 8, 9, 10, 1, 2, 3, 4, 5, 6, 7, 8, 9, 10, 1, 2, 3, 4, 5, 7, 8, 9, 10, 4, 5, 4, 1, 2, 3, 4, 5, 6, 7, 8, 9, 10, 4, 1, 2, 3, 4, 5, 6, 7, 8, 9, 10, 1, 2, 3, 4, 5, 6, 7, 8, 9, 10, 6, 1, 2, 3, 4, 5, 6, 7, 8, 9, 10, 9, 5, 7, 8, 3, 5, 7, 10, 1, 2, 3, 4, 5, 6, 7, 8, 9, 10, 1, 2, 3, 5, 6, 7, 8, 9, 10, 7, 4, 6, 8, 9, 1, 1, 8, 1, 2, 3, 4, 5, 6, 7, 8, 9, 10, 3, 4, 1, 2, 3, 4, 5, 6, 7, 8, 9, 10, 1, 2, 3, 4, 5, 6, 7, 8, 9, 10, 6, 1, 2, 3, 4, 5, 7, 9, 10, 1, 3, 5, 7, 8, 9, 1, 2, 3, 4, 5, 6, 7, 8, 9, 10, 1, 2, 3, 4, 5, 6, 7, 8, 9, 10, 3, 5, 7, 10, 6, 7, 1, 2, 3, 8, 2, 4, 7, 2, 3, 4, 7, 8, 9, 10, 9, 1, 2, 3, 4, 5, 6, 7, 8, 9, 10, 1, 2, 3, 4, 5, 6, 7, 8, 9, 10, 4, 5, 7, 1, 2, 3, 4, 5, 6, 7, 8, 9, 10, 1, 1, 2, 3, 4, 5, 6, 7, 8, 9, 10, 2, 4, 5, 6, 1, 2, 3, 4, 5, 6, 7, 8, 9, 10, 4, 2, 7, 1, 9, 1, 2, 3, 4, 5, 6, 7, 8, 9, 10, 1, 2, 3, 4, 5, 6, 7, 8, 9, 10, 4, 6, 1, 2, 3, 4, 5, 6, 7, 8, 9, 10, 4, 8, 1, 2, 3, 4, 7, 8, 9, 10, 2, 3, 4, 1, 2, 3, 4, 5, 6, 7, 8, 9, 10, 1, 7, 8, 10, 9, 1, 2, 3, 4, 5, 6, 7, 8, 9, 10, 1, 5, 1, 2, 3, 4, 5, 6, 7, 8, 9, 10, 1, 2, 3, 4, 5, 6, 7, 8, 9, 10, 1, 2, 3, 4, 5, 6, 7, 8, 9, 10, 1, 2, 3, 4, 5, 6, 7, 8, 9, 10, 1, 2, 3, 4, 5, 6, 7, 8, 9, 10, 1, 2, 3, 4, 5, 6, 7, 8, 9, 10, 9, 1, 2, 3, 4, 5, 6, 7, 8, 9, 10, 1, 2, 3, 4, 5, 6, 7, 8, 9, 10, 1, 2, 3, 4, 5, 6, 7, 8, 9, 10, 3, 10, 6, 7, 1, 2, 3, 4, 5, 6, 7, 8, 9, 10, 1, 2, 3, 4, 5, 6, 7, 8, 9, 10, 1, 2, 3, 4, 5, 6, 7, 8, 9, 10, 1, 2, 3, 4, 5, 6, 7, 8, 9, 10, 1, 3, 4, 5, 6, 7, 8, 9, 10, 1, 2, 3, 4, 5, 6, 7, 8, 9, 10, 4, 5, 1, 2, 3, 4, 5, 6, 7, 8, 9, 10, 1, 2, 3, 4, 5, 6, 7, 8, 9, 10, 1, 2, 3, 4, 5, 6, 7, 8, 9, 10, 5, 9, 1, 2, 3, 4, 5, 6, 7, 8, 9, 10, 1, 2, 3, 4, 5, 6, 7, 8, 9, 10, 1, 2, 3, 4, 5, 6, 7, 8, 9, 10, 1, 4, 2, 3, 4, 5, 6, 8, 9, 10, 1, 2, 3, 4, 5, 6, 7, 8, 9, 10, 1, 4, 1, 2, 3, 2, 3, 4, 5, 6, 7, 8, 10, 1, 2, 3, 4, 5, 6, 7, 8, 9, 10, 1, 2, 3, 4, 5, 6, 7, 8, 9, 10, 1, 2, 3, 4, 5, 6, 7, 8, 9, 10, 1, 2, 4, 7, 8, 9, 1, 2, 3, 4, 5, 6, 7, 8, 9, 10, 6, 8, 5, 1, 2, 3, 4, 5, 6, 7, 8, 9, 10, 9, 1, 2, 3, 4, 5, 6, 7, 8, 9, 10, 4, 9, 1, 2, 3, 4, 5, 6, 7, 8, 9, 10, 5, 7, 3, 7, 1, 3, 5, 6, 8, 10, 1, 2, 3, 4, 5, 6, 7, 8, 9, 10, 1, 2, 3, 4, 5, 6, 7, 8, 9, 10, 1, 2, 3, 4, 5, 6, 7, 8, 9, 10, 1, 2, 3, 4, 5, 6, 7, 8, 9, 10, 1, 2, 3, 4, 5, 6, 7, 8, 9, 10, 9, 1, 2, 3, 4, 5, 6, 7, 8, 9, 10, 1, 2, 3, 4, 5, 6, 7, 8, 9, 10, 1, 2, 3, 4, 5, 6, 7, 8, 9, 10, 7, 9, 1, 2, 3, 4, 5, 6, 7, 8, 9, 10, 1, 2, 3, 4, 5, 6, 7, 8, 9, 10, 9, 1, 5, 8, 3, 6, 7, 1, 2, 3, 4, 5, 6, 7, 8, 9, 10, 9, 1, 2, 3, 4, 5, 6, 7, 8, 9, 10, 1, 2, 3, 4, 5, 6, 7, 8, 9, 10, 1, 2, 3, 4, 5, 6, 7, 8, 9, 10, 2, 3, 6, 8, 1, 2, 3, 4, 5, 6, 7, 8, 9, 10, 1, 2, 3, 4, 5, 6, 7, 8, 9, 10, 1, 2, 3, 4, 5, 6, 7, 8, 9, 10, 1, 2, 3, 4, 5, 6, 7, 8, 9, 10, 1, 2, 3, 4, 5, 6, 7, 8, 9, 10, 1, 2, 3, 4, 5, 6, 7, 8, 9, 10, 1, 2, 3, 4, 5, 6, 7, 8, 9, 10, 1, 2, 3, 6, 7, 8, 10, 1, 2, 3, 4, 5, 6, 7, 8, 9, 10, 1, 2, 3, 4, 5, 6, 7, 8, 9, 10, 1, 2, 3, 4, 5, 6, 7, 8, 9, 10, 1, 2, 3, 4, 5, 6, 7, 8, 9, 10, 1, 2, 1, 2, 3, 4, 5, 6, 7, 8, 9, 10, 1, 2, 3, 4, 5, 6, 7, 8, 9, 10, 1, 2, 1, 2, 3, 4, 5, 6, 7, 8, 9, 10, 1, 2, 5, 1, 2, 3, 4, 8, 1, 2, 3, 4, 5, 6, 7, 8, 9, 10, 1, 2, 3, 4, 5, 6, 7, 8, 9, 10, 1, 2, 3, 4, 5, 6, 7, 8, 9, 10, 3, 4, 5, 6, 7, 10, 3, 1, 2, 3, 4, 5, 6, 7, 8, 9, 10, 1, 2, 3, 4, 5, 6, 7, 8, 9, 10, 1, 2, 3, 3, 6, 2, 6, 1, 2, 3, 4, 5, 6, 7, 8, 9, 10, 1, 2, 3, 4, 5, 6, 7, 8, 9, 10, 1, 2, 3, 4, 5, 6, 7, 8, 9, 10, 1, 2, 3, 4, 5, 6, 7, 8, 9, 10, 1, 2, 3, 4, 5, 6, 7, 8, 9, 10, 1, 2, 4, 6, 7, 8, 9, 10, 1, 2, 3, 4, 5, 6, 7, 8, 9, 10, 1, 2, 3, 4, 5, 6, 7, 8, 9, 10, 10, 1, 2, 3, 4, 5, 6, 7, 8, 9, 10, 1, 2, 3, 4, 5, 6, 7, 8, 9, 10, 1, 2, 3, 4, 5, 6, 7, 8, 10, 3, 9, 1, 4, 7, 9, 4, 5, 6, 8, 4, 1, 2, 1, 2, 3, 4, 5, 6, 7, 8, 9, 10, 3, 6, 7, 9, 1, 4, 5, 6, 1, 2, 3, 5, 6, 8, 9, 10, 2, 6, 10, 1, 2, 6, 7, 9, 1, 2, 3, 4, 5, 7, 8, 3, 4, 5, 6, 8, 1, 2, 3, 4, 5, 6, 7, 8, 9, 10, 1, 2, 3, 4, 5, 6, 7, 8, 9, 10, 2, 3, 1, 2, 3, 4, 5, 6, 7, 8, 9, 10, 1, 2, 3, 4, 5, 6, 7, 8, 9, 10, 1, 4, 1, 2, 4, 10, 2, 6, 1, 2, 3, 4, 5, 6, 7, 8, 9, 10, 10, 1, 2, 3, 4, 5, 6, 7, 8, 9, 10, 2, 1, 2, 3, 4, 5, 6, 7, 8, 9, 10, 1, 2, 3, 4, 5, 6, 7, 8, 9, 10, 1, 4, 6, 10, 1, 2, 3, 4, 5, 6, 7, 8, 9, 10, 1, 2, 3, 4, 5, 6, 7, 8, 9, 10, 1, 2, 3, 4, 5, 6, 7, 8, 9, 10, 1, 2, 3, 4, 5, 6, 7, 8, 9, 10, 1, 2, 3, 4, 5, 6, 7, 8, 9, 10, 1, 2, 3, 4, 5, 6, 7, 8, 9, 10, 10, 1, 2, 3, 4, 5, 6, 7, 8, 9, 10, 1, 2, 3, 4, 5, 6, 7, 8, 9, 10, 1, 2, 3, 4, 5, 6, 7, 8, 9, 10, 1, 2, 3, 4, 5, 6, 7, 8, 9, 10, 1, 2, 3, 4, 5, 6, 7, 8, 9, 10, 5, 8, 2, 3, 4, 7, 8, 9, 1, 2, 3, 4, 5, 6, 7, 8, 9, 10, 9, 1, 2, 3, 4, 5, 6, 7, 8, 9, 10, 4, 5, 4, 1, 2, 3, 4, 5, 6, 7, 8, 9, 10, 1, 3, 4, 10, 1, 2, 3, 4, 5, 6, 7, 8, 9, 10, 7, 3, 4, 7, 1, 2, 3, 4, 5, 6, 7, 8, 9, 10, 2, 1, 2, 3, 4, 5, 6, 7, 8, 9, 10, 10, 1, 2, 3, 4, 5, 6, 7, 8, 9, 10, 1, 2, 3, 4, 5, 6, 7, 8, 9, 10, 7, 4, 5, 1, 2, 3, 4, 5, 6, 7, 8, 9, 10, 1, 2, 3, 4, 5, 6, 7, 8, 9, 10, 3, 6, 1, 2, 3, 4, 5, 6, 7, 8, 9, 10, 1, 2, 3, 4, 5, 6, 7, 8, 9, 10, 1, 2, 3, 4, 5, 6, 7, 8, 9, 10, 1, 2, 3, 4, 5, 6, 7, 8, 9, 10, 1, 2, 3, 4, 5, 6, 7, 8, 9, 10, 1, 2, 3, 4, 5, 6, 7, 8, 9, 10, 1, 2, 3, 4, 5, 6, 7, 8, 9, 10, 1, 2, 3, 4, 5, 6, 7, 8, 9, 10, 1, 2, 3, 4, 5, 6, 7, 8, 9, 10, 1, 2, 3, 4, 5, 6, 7, 8, 9, 10, 6, 1, 2, 3, 4, 5, 6, 7, 8, 9, 10, 1, 2, 3, 4, 5, 6, 7, 8, 9, 10, 1, 2, 3, 4, 5, 6, 7, 8, 9, 10, 1, 2, 3, 4, 5, 6, 10, 1, 2, 3, 4, 5, 6, 7, 8, 9, 10, 3, 1, 2, 3, 4, 5, 6, 7, 8, 9, 10, 2, 8, 9, 1, 2, 3, 4, 5, 6, 7, 8, 9, 10, 4, 8, 9, 10, 5, 1, 2, 3, 4, 5, 6, 7, 8, 9, 10, 1, 5, 6, 7, 8, 1, 2, 3, 4, 5, 6, 7, 8, 9, 10, 1, 2, 3, 4, 5, 6, 7, 10, 1, 2, 3, 4, 5, 6, 7, 8, 9, 10, 1, 2, 3, 4, 5, 6, 7, 8, 9, 10, 1, 2, 3, 4, 5, 6, 7, 8, 9, 10, 1, 2, 3, 4, 5, 6, 7, 8, 9, 10, 7, 9, 4, 5, 9, 1, 2, 3, 4, 5, 6, 7, 8, 9, 10, 1, 2, 3, 4, 5, 6, 7, 8, 9, 10, 1, 2, 3, 4, 5, 6, 7, 8, 9, 10, 3, 1, 2, 3, 4, 5, 6, 7, 8, 9, 10, 4, 6, 1, 2, 3, 4, 5, 6, 7, 8, 9, 10, 10, 1, 2, 3, 4, 5, 6, 7, 8, 9, 10, 1, 2, 3, 4, 5, 6, 7, 8, 9, 10, 4, 1, 6, 1, 2, 3, 4, 5, 6, 7, 8, 9, 10, 6, 6, 8, 10, 1, 2, 3, 4, 5, 6, 7, 8, 9, 10, 10, 2, 8, 9, 10, 2, 4, 6, 7, 8, 9, 1, 2, 3, 4, 5, 6, 7, 8, 9, 10, 1, 2, 3, 4, 5, 6, 7, 8, 9, 10, 1, 2, 3, 4, 5, 6, 7, 8, 9, 10, 1, 2, 3, 4, 5, 6, 7, 8, 9, 10, 3, 7, 1, 2, 3, 4, 5, 6, 7, 8, 9, 10, 1, 2, 3, 4, 5, 6, 7, 8, 9, 10, 5, 9, 1, 2, 3, 4, 5, 6, 7, 8, 9, 10, 1, 3, 6, 7, 9, 3, 1, 2, 3, 4, 5, 6, 7, 8, 9, 10, 1, 1, 2, 3, 4, 5, 6, 7, 8, 9, 10, 1, 8, 7, 1, 2, 3, 4, 5, 6, 7, 8, 9, 10, 1, 3, 7, 1, 2, 3, 4, 5, 6, 7, 8, 9, 10, 1, 2, 3, 4, 5, 6, 7, 8, 9, 10, 8, 2, 1, 2, 3, 4, 5, 6, 7, 8, 9, 10, 1, 2, 3, 4, 5, 6, 7, 8, 9, 10, 5, 7, 10, 1, 2, 3, 4, 5, 6, 7, 8, 9, 10, 1, 2, 3, 4, 5, 6, 7, 8, 9, 10, 2, 6, 1, 9, 2, 1, 2, 3, 4, 5, 6, 7, 8, 9, 10, 2, 4, 9, 4, 5, 1, 1, 2, 3, 4, 5, 6, 7, 8, 9, 10, 1, 2, 3, 4, 5, 6, 7, 8, 9, 10, 1, 2, 3, 4, 5, 6, 7, 8, 10, 1, 2, 3, 4, 5, 6, 7, 8, 9, 10, 1, 2, 3, 4, 5, 6, 7, 8, 9, 10, 1, 2, 3, 4, 5, 6, 7, 8, 9, 10, 8, 1, 2, 3, 4, 5, 6, 7, 8, 9, 10, 1, 2, 3, 4, 5, 6, 7, 8, 9, 10, 1, 2, 3, 4, 5, 6, 7, 8, 9, 10, 1, 2, 3, 4, 5, 6, 7, 8, 9, 10, 1, 2, 3, 4, 5, 6, 7, 8, 9, 10, 2, 4, 1, 2, 4, 3, 3, 1, 2, 3, 4, 5, 6, 7, 8, 9, 10, 1, 2, 3, 4, 5, 6, 7, 8, 9, 10, 1, 2, 3, 4, 5, 6, 7, 8, 9, 10, 1, 2, 3, 4, 5, 6, 7, 8, 9, 10, 1, 2, 3, 4, 5, 6, 7, 8, 9, 10, 1, 2, 3, 4, 5, 6, 7, 8, 9, 10, 1, 2, 3, 4, 5, 6, 7, 8, 9, 10, 1, 2, 3, 4, 5, 6, 9, 1, 2, 3, 4, 5, 6, 7, 8, 9, 10, 6, 1, 2, 3, 4, 5, 6, 7, 8, 9, 10, 1, 2, 3, 4, 5, 6, 7, 8, 9, 10, 1, 2, 3, 4, 5, 6, 7, 8, 9, 10, 1, 1, 2, 3, 4, 5, 6, 7, 8, 9, 10, 1, 2, 3, 4, 5, 6, 7, 8, 9, 10, 2, 4, 6, 8, 1, 2, 3, 4, 5, 6, 7, 8, 9, 10, 1, 2, 3, 4, 5, 6, 7, 8, 9, 10, 1, 2, 3, 4, 5, 6, 7, 8, 9, 10, 1, 2, 3, 4, 5, 6, 7, 8, 9, 10, 1, 2, 3, 4, 5, 6, 7, 8, 9, 10, 1, 2, 3, 4, 5, 6, 7, 8, 9, 10, 1, 2, 3, 4, 5, 6, 7, 8, 9, 10, 6, 1, 2, 3, 4, 5, 6, 7, 8, 9, 10, 1, 2, 3, 4, 5, 6, 7, 8, 9, 10, 1, 2, 3, 4, 5, 6, 7, 8, 9, 10, 8, 1, 2, 3, 4, 5, 6, 7, 8, 9, 10, 1, 2, 3, 4, 5, 6, 7, 8, 9, 10, 4, 5, 8, 1, 2, 3, 4, 5, 6, 7, 8, 9, 10, 8, 5, 9, 1, 2, 3, 4, 5, 6, 7, 8, 9, 10, 1, 3, 7, 8, 9, 10, 1, 2, 3, 4, 5, 6, 7, 8, 9, 10, 1, 2, 3, 4, 5, 6, 7, 8, 9, 10, 1, 2, 3, 4, 5, 6, 7, 8, 9, 10, 1, 2, 3, 4, 5, 6, 7, 8, 9, 10, 2, 1, 2, 3, 4, 5, 6, 7, 8, 9, 10, 1, 2, 3, 4, 5, 6, 7, 8, 9, 10, 1, 2, 3, 4, 5, 6, 7, 8, 9, 10, 1, 2, 3, 4, 5, 6, 7, 8, 9, 10, 4, 6, 1, 2, 3, 4, 5, 6, 7, 8, 9, 10, 1, 2, 3, 4, 5, 6, 7, 8, 9, 10, 10, 2, 4, 6, 7, 8, 9, 10, 1, 2, 3, 5, 8, 10, 1, 2, 3, 4, 5, 6, 7, 8, 9, 10, 9, 6, 7, 8, 9, 10, 1, 2, 3, 4, 5, 6, 7, 8, 9, 10, 10, 8, 9, 1, 2, 3, 4, 5, 6, 7, 8, 9, 10, 2, 5, 7, 9, 4, 6, 1, 2, 3, 4, 5, 6, 7, 8, 9, 10, 1, 2, 3, 4, 5, 6, 7, 8, 9, 10, 3, 1, 2, 3, 4, 5, 6, 7, 8, 9, 10, 1, 3, 4, 5, 6, 7, 8, 9, 10, 8, 6], \"Freq\": [0.1125939850313989, 0.06663725644715446, 0.13281494560846646, 0.07490946759231845, 0.1259214363208298, 0.09696869731275579, 0.10799831217297445, 0.07858600587905801, 0.08134340959411268, 0.1217853307482478, 0.3383865735735233, 0.32208333623696395, 0.32208333623696395, 0.07586947054574972, 0.10867789024120907, 0.10867789024120907, 0.09637473285541182, 0.08202104923864835, 0.12918315255087115, 0.0922736803934794, 0.07586947054574972, 0.10867789024120907, 0.12508210008893875, 0.32274724906661045, 0.32274724906661045, 0.1902440441210608, 0.1902440441210608, 0.1902440441210608, 0.1902440441210608, 0.3216530811513537, 0.3216530811513537, 0.10822041144173102, 0.15052475409622587, 0.08165721954239703, 0.06591606878723616, 0.09641454837536036, 0.1151071648971139, 0.09936601414195302, 0.08067339762019948, 0.0954307264531628, 0.10723658951953345, 0.3204549289695337, 0.1307009744198746, 0.09802573081490595, 0.08168810901242163, 0.09802573081490595, 0.0653504872099373, 0.08168810901242163, 0.08168810901242163, 0.1143633526173903, 0.09802573081490595, 0.14703859622235893, 0.11231700775835855, 0.08915886182880009, 0.1597912069139534, 0.06831653049219748, 0.11810654424074817, 0.07294815967810916, 0.07410606697458709, 0.10305374938653517, 0.09842212020062348, 0.10536956397949102, 0.09244220303471416, 0.0778460657134435, 0.09082040999901742, 0.10541654732028807, 0.06487172142786958, 0.15082675231979678, 0.08433323785623047, 0.0940639960704109, 0.13298702892713266, 0.10703834035598482, 0.26540453447217494, 0.32043394468037373, 0.3225549631078463, 0.3225549631078463, 0.09297218558894069, 0.1627013247806462, 0.11156662270672882, 0.07437774847115254, 0.08367496703004662, 0.09762079486838772, 0.10226940414783475, 0.09762079486838772, 0.09762079486838772, 0.07902635775059959, 0.321860026917338, 0.321860026917338, 0.6153404203562499, 0.07328084566421163, 0.09160105708026453, 0.20152232557658198, 0.09160105708026453, 0.09160105708026453, 0.09160105708026453, 0.10992126849631745, 0.12824147991237034, 0.07328084566421163, 0.054960634248158724, 0.08740231114707162, 0.07711968630623965, 0.11310887324915149, 0.07969034251644765, 0.11310887324915149, 0.09254362356748759, 0.12339149808998345, 0.09254362356748759, 0.0899729673572796, 0.1311034667206074, 0.12916433944668534, 0.08303421821572629, 0.08303421821572629, 0.10148626670810991, 0.07380819396953447, 0.09226024246191811, 0.16606843643145258, 0.11993831520049353, 0.07380819396953447, 0.08303421821572629, 0.23416241773132038, 0.23416241773132038, 0.13129629295409184, 0.10076227133686118, 0.10076227133686118, 0.09847221971556888, 0.13282299403495337, 0.09541881755384582, 0.13282299403495337, 0.09923557025599965, 0.06335809485575362, 0.04503768188541522, 0.0658507690728876, 0.0658507690728876, 0.0658507690728876, 0.0658507690728876, 0.0658507690728876, 0.1317015381457752, 0.19755230721866282, 0.0658507690728876, 0.0658507690728876, 0.0658507690728876, 0.06819292224315412, 0.13638584448630825, 0.13638584448630825, 0.13638584448630825, 0.06819292224315412, 0.20457876672946235, 0.06819292224315412, 0.06819292224315412, 0.06819292224315412, 0.06819292224315412, 0.10549107036479492, 0.06593191897799683, 0.12395200767863404, 0.10549107036479492, 0.09230468656919556, 0.1081283471239148, 0.08966740981007569, 0.13450111471511353, 0.08966740981007569, 0.08966740981007569, 0.12652794215112292, 0.12652794215112292, 0.12652794215112292, 0.12652794215112292, 0.25305588430224585, 0.12652794215112292, 0.12652794215112292, 0.12652794215112292, 0.12652794215112292, 0.32272407024177674, 0.32272407024177674, 0.32210757324433514, 0.07943279761572244, 0.11093201046333652, 0.11093201046333652, 0.08491092158922055, 0.08901951456934412, 0.1458550507943869, 0.10819294847658747, 0.09997576251634031, 0.07874803211903518, 0.09244334205278043, 0.32150519514264064, 0.06503554860903016, 0.13007109721806032, 0.09755332291354525, 0.06503554860903016, 0.09755332291354525, 0.09755332291354525, 0.06503554860903016, 0.09755332291354525, 0.09755332291354525, 0.16258887152257542, 0.09593797854058657, 0.09919011340636916, 0.08780764137613008, 0.10894651800371695, 0.11057258543660825, 0.13496359692997772, 0.08455550651034749, 0.06341662988276062, 0.10244224827215176, 0.11057258543660825, 0.26595315485810495, 0.10442630056223773, 0.08453557664562102, 0.10774142121500718, 0.09448093860392938, 0.10691264105181482, 0.1185155633365079, 0.09448093860392938, 0.11354288235735373, 0.07044631387135085, 0.10525508072543009, 0.3213010603592782, 0.22564812988828348, 0.22564812988828348, 0.3198825750453251, 0.16856402343771257, 0.16856402343771257, 0.16856402343771257, 0.16856402343771257, 0.07113488037789265, 0.10389436476244848, 0.13571786387887413, 0.10295837949431831, 0.09921443842179764, 0.10389436476244848, 0.1422697607557853, 0.07675079198667364, 0.09172655627675631, 0.07207086564602282, 0.14125570327702142, 0.14125570327702142, 0.14125570327702142, 0.14125570327702142, 0.14125570327702142, 0.14125570327702142, 0.14125570327702142, 0.14125570327702142, 0.14125570327702142, 0.3223047048444396, 0.1901649121103712, 0.1901649121103712, 0.1901649121103712, 0.1901649121103712, 0.32274385966269736, 0.31968884632376227, 0.31968884632376227, 0.12249839271976072, 0.09187379453982054, 0.09952994408480559, 0.07656149544985046, 0.07656149544985046, 0.11484224317477568, 0.168435289989671, 0.09187379453982054, 0.0842176449948355, 0.0842176449948355, 0.3224155302320773, 0.3224155302320773, 0.1111454831690816, 0.09832100434187988, 0.11328289630694854, 0.07694687296321033, 0.1196951357205494, 0.07053463354960947, 0.07694687296321033, 0.09190876492827901, 0.12610737513415027, 0.1154203094448155, 0.15209357544318167, 0.07522908032673502, 0.11447903527981415, 0.08831239864442807, 0.1226561092283723, 0.07686449511644665, 0.11120820570039089, 0.09648947259298621, 0.0850415690650048, 0.07686449511644665, 0.32261978377480005, 0.15573366693586954, 0.15573366693586954, 0.15573366693586954, 0.15573366693586954, 0.15573366693586954, 0.15573366693586954, 0.15573366693586954, 0.15573366693586954, 0.16891407474036216, 0.16891407474036216, 0.16891407474036216, 0.16891407474036216, 0.16891407474036216, 0.16891407474036216, 0.09152206384124956, 0.12070301173266247, 0.10611253778695602, 0.11539738484331466, 0.13794629912304282, 0.10876535123162992, 0.06101470922749971, 0.0769315898955431, 0.08886925039657566, 0.09019565711891261, 0.10155044867183946, 0.1128338318575994, 0.06770029911455964, 0.10155044867183946, 0.10155044867183946, 0.06770029911455964, 0.12411721504335935, 0.09026706548607952, 0.16925074778639912, 0.06770029911455964, 0.1900709885437219, 0.1900709885437219, 0.1900709885437219, 0.1900709885437219, 0.3217934474693371, 0.2766086440587066, 0.19603717607445506, 0.19603717607445506, 0.19603717607445506, 0.19603717607445506, 0.2660300917042073, 0.32310933254675767, 0.32310933254675767, 0.1686296605898492, 0.1686296605898492, 0.1686296605898492, 0.1686296605898492, 0.1686296605898492, 0.1686296605898492, 0.1686296605898492, 0.26526720636530865, 0.11071057377043854, 0.08683182256504984, 0.09117341369330233, 0.1041981870780598, 0.12590614271932227, 0.07814864030854486, 0.13893091610407973, 0.06512386692378738, 0.10636898264218606, 0.09551500482155482, 0.09779867832189995, 0.10067511003724995, 0.11649548447167495, 0.08916938317584995, 0.08054008802979996, 0.08773116731817496, 0.09923689417957494, 0.09779867832189995, 0.11074262104097495, 0.11937191618702493, 0.3217217162538625, 0.3217217162538625, 0.3217289595913158, 0.14130765310025636, 0.06992543658569388, 0.11217205452288391, 0.04953051758153316, 0.11945595416722703, 0.14422121295799362, 0.09760425523419769, 0.08740679573211733, 0.09469069537646045, 0.08595001580324871, 0.323038984535226, 0.10345600494602601, 0.11321600541263224, 0.14640000699909342, 0.08784000419945605, 0.07027200335956484, 0.08393600401281355, 0.11321600541263224, 0.0858880041061348, 0.12102400578591722, 0.07612800363952857, 0.1908070186851848, 0.1908070186851848, 0.1908070186851848, 0.1908070186851848, 0.11831010556678706, 0.08676074408231052, 0.13211295121624556, 0.07098606334007224, 0.15380313723682318, 0.09070441426787008, 0.12028194065956685, 0.08676074408231052, 0.07295789843285203, 0.07098606334007224, 0.3392526001025402, 0.322008448567629, 0.4369274070796594, 0.3217912846094326, 0.3217912846094326, 0.10267308428186771, 0.11550721981710117, 0.05903702346207393, 0.10138967072834436, 0.11550721981710117, 0.12577452824528793, 0.08727212163958754, 0.10780673849596109, 0.06802091833673736, 0.11807404692414786, 0.10095406871016899, 0.09774917764000489, 0.10095406871016899, 0.08012227675410237, 0.10095406871016899, 0.07531494014885623, 0.14422009815738426, 0.11056874192066128, 0.12338830620131766, 0.06570026693836395, 0.321652720211734, 0.321652720211734, 0.1026847372312457, 0.1026847372312457, 0.2053694744624914, 0.1026847372312457, 0.1026847372312457, 0.1026847372312457, 0.1026847372312457, 0.1026847372312457, 0.1026847372312457, 0.1026847372312457, 0.2640827745603988, 0.2640827745603988, 0.15229564455160474, 0.15229564455160474, 0.15229564455160474, 0.3045912891032095, 0.15229564455160474, 0.15229564455160474, 0.15229564455160474, 0.3204691521081863, 0.2660719676366307, 0.2660719676366307, 0.2660719676366307, 0.08612486442690748, 0.09395439755662634, 0.1017839306863452, 0.09395439755662634, 0.1644201957240961, 0.10961346381606407, 0.07829533129718862, 0.1017839306863452, 0.1017839306863452, 0.07046579816746976, 0.18954130956659515, 0.18954130956659515, 0.18954130956659515, 0.18954130956659515, 0.3209462824424174, 0.06556238091415464, 0.06767729642751447, 0.11843526874815032, 0.08882645156111274, 0.10997560669471101, 0.12055018426151015, 0.10363086015463153, 0.09517119810119222, 0.08671153604775292, 0.14169933939510843, 0.2660087008235687, 0.2660087008235687, 0.08344172276596153, 0.1328480059826493, 0.08563755757559209, 0.08673547498040737, 0.11418341010078946, 0.11088965788634361, 0.08563755757559209, 0.10540007086226719, 0.09112714459966852, 0.10540007086226719, 0.14208044292480732, 0.12993681532439644, 0.10079210908341033, 0.1347942663645608, 0.08743411872295835, 0.08136230492275291, 0.08136230492275291, 0.06678995180225986, 0.07893357940267073, 0.09714902080328705, 0.07205345811637076, 0.07205345811637076, 0.07205345811637076, 0.07205345811637076, 0.14410691623274152, 0.07205345811637076, 0.07205345811637076, 0.07205345811637076, 0.07205345811637076, 0.21616037434911228, 0.09893783525981538, 0.1598226569581633, 0.09513253390366863, 0.08752193119137514, 0.07991132847908165, 0.10274313661596211, 0.10274313661596211, 0.08752193119137514, 0.0761060271229349, 0.10274313661596211, 0.11066342794275136, 0.08318324784958492, 0.10769259766240903, 0.09506656897095418, 0.12700299448463412, 0.11883321121369272, 0.09283844626069744, 0.09209573869061187, 0.07204263429830121, 0.10026552196155324, 0.16386595006680607, 0.08986197261728075, 0.09514797100653256, 0.10043396939578436, 0.0581459822817699, 0.12157796295279161, 0.07136097825489941, 0.10571996778503617, 0.1189349637581657, 0.07928997583877713, 0.3204696127008242, 0.08224385366809157, 0.10965847155745544, 0.08224385366809157, 0.17819501628086507, 0.0959511626127735, 0.0959511626127735, 0.0959511626127735, 0.06853654472340964, 0.0959511626127735, 0.08224385366809157, 0.11008908182339665, 0.08256681136754748, 0.17889475796301954, 0.11467612689937151, 0.09632794659547207, 0.0688056761396229, 0.09632794659547207, 0.08256681136754748, 0.0688056761396229, 0.10091499167144692, 0.09235825447491618, 0.1085209490080265, 0.0819679508464881, 0.08889481993210682, 0.09697616719866198, 0.09351273265585262, 0.09582168901772553, 0.11429333991270876, 0.09466721083678908, 0.132764990807692, 0.3207031931293355, 0.3207031931293355, 0.32234346904806216, 0.32234346904806216, 0.09365389145408995, 0.09524124554653216, 0.09047918326920554, 0.09047918326920554, 0.09206653736164774, 0.11111478647095417, 0.09682859963897435, 0.141274514227356, 0.11270214056339638, 0.07619299643722571, 0.12003409647890735, 0.08002273098593823, 0.08002273098593823, 0.08002273098593823, 0.08002273098593823, 0.08002273098593823, 0.08002273098593823, 0.2000568274648456, 0.08002273098593823, 0.08002273098593823, 0.09745165408091011, 0.13184635552123133, 0.08598675360080303, 0.08598675360080303, 0.0802543033607495, 0.0802543033607495, 0.10891655456101718, 0.0802543033607495, 0.09171920384085658, 0.14904370624139193, 0.10684368985257243, 0.1036622400306596, 0.10498784412312329, 0.0938527697464284, 0.13547673824978787, 0.10154127348271773, 0.09279228647245745, 0.07317334590399502, 0.08430842028068991, 0.10339711921216688, 0.1351504370048685, 0.1351504370048685, 0.1351504370048685, 0.1351504370048685, 0.270300874009737, 0.1351504370048685, 0.1351504370048685, 0.1351504370048685, 0.1351504370048685, 0.08740411558862408, 0.09711568398736009, 0.07769254718988806, 0.08740411558862408, 0.08740411558862408, 0.07769254718988806, 0.1165388207848321, 0.17480823117724817, 0.1165388207848321, 0.06798097879115206, 0.2654705866472569, 0.2654705866472569, 0.05351947207494923, 0.10703894414989847, 0.10703894414989847, 0.10703894414989847, 0.10703894414989847, 0.10703894414989847, 0.10703894414989847, 0.10703894414989847, 0.05351947207494923, 0.1605584162248477, 0.13564545973418624, 0.08705604132194042, 0.12147354603061454, 0.07895780491989945, 0.08300692312091994, 0.08300692312091994, 0.16196472804081938, 0.07895780491989945, 0.08908060042245065, 0.08300692312091994, 0.11555351147821347, 0.09796928147065924, 0.1507219714933219, 0.08540911717954908, 0.0628008214555508, 0.1029933471871033, 0.08289708432132704, 0.11555351147821347, 0.09796928147065924, 0.08792115003777111, 0.3220129055660493, 0.3220129055660493, 0.11351951487822182, 0.0918967501395129, 0.09009485307795383, 0.09009485307795383, 0.11712330900133998, 0.08829295601639475, 0.13694417667848982, 0.08468916189327659, 0.10991572075510367, 0.0774815736470403, 0.12050566439639653, 0.08516941694181408, 0.1177874915152748, 0.12684806778568056, 0.06795432202804315, 0.07610884067140833, 0.09876028134742272, 0.09151182033109811, 0.10057239660150387, 0.11506931863415307, 0.11447952346544489, 0.09616279971097372, 0.11447952346544489, 0.10074198064959151, 0.07326689501788473, 0.09158361877235592, 0.1099003425268271, 0.07097730454857583, 0.10074198064959151, 0.12821706628129828, 0.3224133301501911, 0.43703413724362156, 0.10665947131741615, 0.10665947131741615, 0.10665947131741615, 0.10665947131741615, 0.10665947131741615, 0.10665947131741615, 0.2133189426348323, 0.10665947131741615, 0.2290295180345987, 0.11451475901729935, 0.11451475901729935, 0.11451475901729935, 0.11451475901729935, 0.11451475901729935, 0.11451475901729935, 0.11451475901729935, 0.11451475901729935, 0.11451475901729935, 0.32265479098254557, 0.32265479098254557, 0.19053202645429185, 0.19053202645429185, 0.19053202645429185, 0.10682226454660998, 0.10682226454660998, 0.21364452909321996, 0.10682226454660998, 0.21364452909321996, 0.10682226454660998, 0.10682226454660998, 0.10682226454660998, 0.10558259615343661, 0.14451617848501636, 0.06928857872569277, 0.0745677085333646, 0.11878042067261618, 0.08182651201891337, 0.10624248737939558, 0.09106498918233907, 0.09898368389384682, 0.1088820522832315, 0.07258751357380076, 0.07258751357380076, 0.09409492500307505, 0.11291391000369007, 0.07527594000246005, 0.11829076286100865, 0.18550142357749083, 0.10216020428905291, 0.07258751357380076, 0.09409492500307505, 0.11265016294556754, 0.11336313866041291, 0.11835396866433046, 0.10266850293773244, 0.1055204057971139, 0.0855570857814437, 0.08840898864082516, 0.0976776729338149, 0.10338147865257781, 0.07272352291422715, 0.1734269061626892, 0.1734269061626892, 0.1734269061626892, 0.1734269061626892, 0.1734269061626892, 0.1734269061626892, 0.10991991532291503, 0.10824174867676366, 0.1124371652921421, 0.11495441526136917, 0.08390833230756874, 0.1317360817228829, 0.10991991532291503, 0.09313824886140129, 0.06880483249220636, 0.06712666584605498, 0.32118666464086404, 0.3197779512097571, 0.26569815302187266, 0.09941825868470684, 0.0662788391231379, 0.04970912934235342, 0.11598796846549132, 0.21540622715019817, 0.11598796846549132, 0.09941825868470684, 0.09941825868470684, 0.09941825868470684, 0.04970912934235342, 0.32091823274101666, 0.16200890949724886, 0.10668879405916389, 0.08693160997413354, 0.08298017315712747, 0.09878592042515175, 0.09878592042515175, 0.09483448360814568, 0.0790287363401214, 0.10273735724215782, 0.08693160997413354, 0.22559151934199048, 0.22559151934199048, 0.12259216345693269, 0.08605026858034698, 0.07662010216058293, 0.13437987148163777, 0.1072681430248161, 0.09312289339517002, 0.09783797660505206, 0.1072681430248161, 0.09194412259269952, 0.08369272697540597, 0.3217280883560202, 0.3217280883560202, 0.3228406879317567, 0.3228406879317567, 0.15548593087938398, 0.15548593087938398, 0.15548593087938398, 0.15548593087938398, 0.15548593087938398, 0.15548593087938398, 0.09373587666308199, 0.09373587666308199, 0.06873964288626012, 0.09998493510728745, 0.07498870133046559, 0.18122269488195852, 0.15622646110513666, 0.08123775977467106, 0.06873964288626012, 0.07498870133046559, 0.0917558440710213, 0.09685339096385583, 0.11068958967297808, 0.11214603164235937, 0.11360247361174067, 0.12161290444333776, 0.0852018552088055, 0.07500676142313646, 0.07864786634658968, 0.11505891558112195, 0.11409121051909743, 0.14764744890706727, 0.10402433900270648, 0.09060184364751855, 0.07046810061473666, 0.06711247677593966, 0.11409121051909743, 0.11744683435789442, 0.08724621980872156, 0.08724621980872156, 0.09345149840799798, 0.18690299681599595, 0.09345149840799798, 0.09345149840799798, 0.09345149840799798, 0.09345149840799798, 0.09345149840799798, 0.09345149840799798, 0.09345149840799798, 0.09345149840799798, 0.11122722522965324, 0.09124628656564368, 0.10390088105284974, 0.13453832033766439, 0.08192184852243921, 0.09391041172084495, 0.09990469332004782, 0.07725962950083698, 0.12521388229445993, 0.0812558172336389, 0.26496829994129023, 0.06124240758269558, 0.12248481516539116, 0.09186361137404336, 0.10717421326971725, 0.07655300947836947, 0.10717421326971725, 0.09186361137404336, 0.10717421326971725, 0.16841662085241282, 0.07655300947836947, 0.11189345943095151, 0.13597179880216892, 0.0807332555387878, 0.12747356137703336, 0.07506776392203075, 0.10622796781419447, 0.09631335748486965, 0.09631335748486965, 0.09064786586811262, 0.07931688263459853, 0.10566717869139389, 0.07695327143829772, 0.11140996014201313, 0.12748974820374698, 0.09533017208027927, 0.10681573498151774, 0.09992439724077466, 0.09877584095065081, 0.08499316546916465, 0.09303305950003157, 0.32047939673068315, 0.32047939673068315, 0.12002500003412267, 0.05334444445961008, 0.0773494444664346, 0.10668888891922015, 0.1466972222639277, 0.13336111114902519, 0.09335277780431764, 0.08801833335835663, 0.10935611114220066, 0.0720150000204736, 0.0986622868868377, 0.1973245737736754, 0.06577485792455846, 0.0986622868868377, 0.06577485792455846, 0.0986622868868377, 0.13154971584911693, 0.0986622868868377, 0.0986622868868377, 0.06577485792455846, 0.43546184495254303, 0.3208681077178737, 0.3208681077178737, 0.3208681077178737, 0.2654340191797475, 0.2654340191797475, 0.2654340191797475, 0.13289506532684664, 0.08808161306546812, 0.08962690452275704, 0.10198923618106835, 0.09889865326649053, 0.08035515577902355, 0.13598564824142448, 0.10198923618106835, 0.09889865326649053, 0.07262869849257898, 0.3216647784999595, 0.12634137211170812, 0.08302433024483676, 0.1010730976893665, 0.12634137211170812, 0.07580482326702487, 0.08121945350038379, 0.08482920698928974, 0.10287797443381946, 0.13356087908952, 0.08482920698928974, 0.13412455318813854, 0.07864895265482469, 0.09690674523540899, 0.13061343923033386, 0.10814230990038394, 0.07864895265482469, 0.09620452244384806, 0.09550229965228713, 0.07654228428014188, 0.10392897315101833, 0.1189515567051184, 0.10543433435226404, 0.1000274454111223, 0.1081377788228349, 0.10543433435226404, 0.07299300070541356, 0.1081377788228349, 0.07299300070541356, 0.12706189011683103, 0.07839988964655531, 0.19049804012405236, 0.19049804012405236, 0.19049804012405236, 0.19049804012405236, 0.13019718959321097, 0.06695855464793707, 0.11159759107989511, 0.08927807286391609, 0.11903743048522145, 0.15251670780918997, 0.08555815316125291, 0.10787767137723193, 0.05951871524261072, 0.0743983940532634, 0.09693522910085477, 0.142551807501257, 0.08933246603412105, 0.09313384756748791, 0.12354489983442274, 0.09313384756748791, 0.12354489983442274, 0.07602763066733707, 0.08363039373407077, 0.0779283214340205, 0.10355418717762309, 0.08554476332064516, 0.11706125507035653, 0.09680065323125636, 0.08554476332064516, 0.11255889910611205, 0.06978651744578947, 0.11706125507035653, 0.08329358533852292, 0.1260659669988455, 0.08211866010265326, 0.07324096711858263, 0.17533443643539479, 0.09765462282477685, 0.08655750659468857, 0.08211866010265326, 0.12428770177698872, 0.10431289256282981, 0.09099635308672388, 0.08433808334867092, 0.07612126519118131, 0.15393411405327778, 0.07781284886209645, 0.1302519426604658, 0.08627076721667216, 0.10487818759673871, 0.10995293860948413, 0.07442968152026617, 0.11502768962222955, 0.0710465141784359, 0.08810168858081888, 0.11212942183013312, 0.10678992555250774, 0.14416639949588544, 0.12369833043165479, 0.09077143671963157, 0.08810168858081888, 0.08098236021065171, 0.08899160462708978, 0.07653277997929721, 0.09616990448125227, 0.0974607756823429, 0.08519749927198188, 0.10585143848943203, 0.1316688625112447, 0.10714230969052266, 0.09165185527743505, 0.09616990448125227, 0.09875164688343355, 0.09036098407634442, 0.15581742308562488, 0.15581742308562488, 0.15581742308562488, 0.15581742308562488, 0.15581742308562488, 0.15581742308562488, 0.15581742308562488, 0.11524104367202496, 0.06547786572274146, 0.12833661681657327, 0.1519086484767602, 0.08381166812510907, 0.12309838755875395, 0.10476458515638634, 0.0759543242383801, 0.09166901201183804, 0.05762052183601248, 0.1055656053862835, 0.09733971405748218, 0.12064640615575256, 0.11516247860321835, 0.10282364161001639, 0.08911382272868087, 0.12887229748455387, 0.06580713063041049, 0.10282364161001639, 0.07266204007107825, 0.16330723562101293, 0.10273885582739674, 0.1401548174063883, 0.10832024236127946, 0.10604634414377168, 0.07421176909866284, 0.07276474296024879, 0.07317817899979566, 0.09881121345170149, 0.060568379793616185, 0.11487991692716203, 0.06012406867215956, 0.10843805242657349, 0.14279466309637895, 0.10199618792598497, 0.11273262876029919, 0.08374423850765082, 0.0880388148413765, 0.0773023740070623, 0.11058534059343635, 0.32371460532632684, 0.32371460532632684, 0.11918240652415742, 0.1172754880197709, 0.09057862895835964, 0.11536856951538438, 0.0819974956886203, 0.09725284372371246, 0.07723019942765401, 0.07723019942765401, 0.09534592521932593, 0.12776353979389676, 0.10177099806687953, 0.12227163077099915, 0.06955571810326298, 0.10323532897431664, 0.14277226347511876, 0.10323532897431664, 0.09518150898341252, 0.12593245803959194, 0.07541304173301146, 0.06003756720492174, 0.32279381842068056, 0.32279381842068056, 0.15399823594779918, 0.09159372203431194, 0.09058719761635246, 0.09360677087023088, 0.10065244179594718, 0.08454805110859563, 0.07649585576491987, 0.09159372203431194, 0.11575030806533926, 0.10266549063186613, 0.19100481058873936, 0.19100481058873936, 0.19100481058873936, 0.17347755144289773, 0.17347755144289773, 0.17347755144289773, 0.17347755144289773, 0.17347755144289773, 0.10866387491859797, 0.11906404776559248, 0.10364310182004889, 0.10292584852025616, 0.11368464801714705, 0.10579486171942706, 0.09969820867118889, 0.10220859522046344, 0.07100807667947986, 0.07315983657885804, 0.25846070744140565, 0.12923035372070282, 0.12923035372070282, 0.12923035372070282, 0.12923035372070282, 0.12923035372070282, 0.12923035372070282, 0.12923035372070282, 0.12923035372070282, 0.12923035372070282, 0.0915117478346947, 0.10022715239037991, 0.10894255694606512, 0.11832837723680303, 0.10827214121101242, 0.07642739379600877, 0.11531150642906585, 0.08849487702695752, 0.10592568613832794, 0.08681883768932575, 0.17386836503610364, 0.17386836503610364, 0.17386836503610364, 0.17386836503610364, 0.17386836503610364, 0.17386836503610364, 0.32310535105580585, 0.11353392438501862, 0.08527296191220103, 0.12758272653913602, 0.10552937432046335, 0.11810795299333592, 0.0986683314079874, 0.14163152869325343, 0.05292804532481443, 0.0986683314079874, 0.05799214842688001, 0.1316635383039115, 0.09216447681273805, 0.08881304129227484, 0.10509144239166754, 0.11107614867820897, 0.11155492518113229, 0.10892165441505405, 0.08785548828642821, 0.08187078199988679, 0.08091322899404016, 0.2661230915546519, 0.2661230915546519, 0.2661230915546519, 0.225590346369138, 0.225590346369138, 0.3227047630628944, 0.3227047630628944, 0.0965991750366158, 0.13555045529331572, 0.11529578955983176, 0.08725086777500782, 0.07946061172366783, 0.16203732586787167, 0.0950411238263478, 0.09036697019554381, 0.07322840688259585, 0.06543815083125587, 0.0772308829925371, 0.13386686385373095, 0.0875283340582087, 0.12614377555447726, 0.06693343192686547, 0.12099505002164145, 0.09267705959104451, 0.13644122662014885, 0.07208215745970128, 0.0875283340582087, 0.09701995398465166, 0.07761596318772132, 0.10779994887183518, 0.08839595807490484, 0.10779994887183518, 0.07761596318772132, 0.11426794580414529, 0.10564394989439847, 0.14013993353338572, 0.08192796114259474, 0.10846240754727936, 0.07395164150950866, 0.1577635018869518, 0.10353229811331212, 0.08381186037744315, 0.08874196981141039, 0.11832262641521385, 0.08381186037744315, 0.08381186037744315, 0.09367207924537763, 0.10107694561610743, 0.14183377852582815, 0.10433749224888508, 0.07988339250305264, 0.11248885883082924, 0.07988339250305264, 0.10107694561610743, 0.10759803888166275, 0.09781639898332976, 0.07336229923749732, 0.13477844709219367, 0.13477844709219367, 0.13477844709219367, 0.13477844709219367, 0.13477844709219367, 0.13477844709219367, 0.13477844709219367, 0.13477844709219367, 0.08817278327774787, 0.1213973103099427, 0.1035071803695301, 0.08178345115617193, 0.12395304315857308, 0.08178345115617193, 0.1213973103099427, 0.06900478691302006, 0.11500797818836678, 0.09328424897500862, 0.10404334179016952, 0.10404334179016952, 0.07976656203912996, 0.15953312407825992, 0.09363900761115257, 0.09710711900415822, 0.07976656203912996, 0.1283201215412091, 0.07629845064612432, 0.07629845064612432, 0.6109711319838622, 0.10345576626173934, 0.11984479854082676, 0.09730987915708156, 0.11062596788384009, 0.10243145174429638, 0.1075530243315112, 0.07477495977333636, 0.08296947591288006, 0.09013967753498081, 0.11062596788384009, 0.11730095472965353, 0.1290310502026189, 0.1016608274323664, 0.07038057283779212, 0.08602070013507926, 0.07233558874995301, 0.09188574787156194, 0.14271616158774514, 0.1036158433445273, 0.08406568422291837, 0.09232401105363855, 0.1846480221072771, 0.1846480221072771, 0.1846480221072771, 0.09232401105363855, 0.09232401105363855, 0.09232401105363855, 0.09232401105363855, 0.09232401105363855, 0.32259741837465805, 0.32259741837465805, 0.32212218838104295, 0.32212218838104295, 0.3212383575692783, 0.3212383575692783, 0.169085506934847, 0.169085506934847, 0.169085506934847, 0.169085506934847, 0.3222601286115233, 0.32189726869794383, 0.26519842743544764, 0.2486025011758604, 0.1243012505879302, 0.1243012505879302, 0.1243012505879302, 0.1243012505879302, 0.1243012505879302, 0.1243012505879302, 0.1243012505879302, 0.1243012505879302, 0.1243012505879302, 0.19034483579358286, 0.19034483579358286, 0.19034483579358286, 0.19034483579358286, 0.1907719419920889, 0.1907719419920889, 0.1907719419920889, 0.1907719419920889, 0.3224733851240516, 0.1734447371200236, 0.1734447371200236, 0.1734447371200236, 0.1734447371200236, 0.1734447371200236, 0.1734447371200236, 0.1734447371200236, 0.22612939323774586, 0.22612939323774586, 0.32111544536651626, 0.32287213936116466, 0.32287213936116466, 0.3206948656248239, 0.3206948656248239, 0.3206948656248239, 0.13475453198818696, 0.13475453198818696, 0.13475453198818696, 0.13475453198818696, 0.13475453198818696, 0.13475453198818696, 0.2695090639763739, 0.17384943516794268, 0.17384943516794268, 0.17384943516794268, 0.17384943516794268, 0.17384943516794268, 0.11718353692319024, 0.07738535457191809, 0.09065141535567547, 0.09728444574755417, 0.14592666862133125, 0.07517434444129185, 0.1061284862700591, 0.07738535457191809, 0.10833949640068533, 0.10391747613943286, 0.09898366714882673, 0.1306584406364513, 0.1088820338637094, 0.1088820338637094, 0.07324791369013178, 0.09502432046287367, 0.06334954697524911, 0.1029430138347798, 0.08314628040501446, 0.1365974606653809, 0.32168675435059374, 0.33882106396337885, 0.09249183185899851, 0.10841757774200486, 0.0808537867906477, 0.1041298769273493, 0.11270527855666043, 0.13414378262993823, 0.09677953267365406, 0.06737815565887308, 0.10351734823954137, 0.09984217611269375, 0.056041644736327556, 0.056041644736327556, 0.16812493420898267, 0.11208328947265511, 0.11208328947265511, 0.056041644736327556, 0.11208328947265511, 0.11208328947265511, 0.056041644736327556, 0.056041644736327556, 0.32225479429489584, 0.32225479429489584, 0.32297427181466876, 0.32297427181466876, 0.32297427181466876, 0.3209402109179462, 0.26559091713996935, 0.26559091713996935, 0.11550835354933497, 0.11254660089422382, 0.10168684115881625, 0.06910756195259357, 0.0947760849635569, 0.11057209912414971, 0.135253371250076, 0.10464859381392741, 0.08589082699822344, 0.07108206372266768, 0.3207566105216764, 0.10197737980565157, 0.13418076290217312, 0.08050845774130387, 0.10376645664434721, 0.094821072450869, 0.11092276399912977, 0.10018830296695592, 0.10913368716043413, 0.08945384193478208, 0.0733521503865213, 0.32223331606973454, 0.07816013197113827, 0.07816013197113827, 0.11518335237851957, 0.07404644081476258, 0.10284227890939247, 0.12341073469127097, 0.15632026394227655, 0.09050120544026537, 0.09872858775301677, 0.08227382312751398, 0.1246276770334977, 0.13667958426311066, 0.09312837404700927, 0.09093711818707964, 0.12161470022609445, 0.09833260671434214, 0.07422879225511621, 0.11093232790893752, 0.06436814088543288, 0.08518507155476436, 0.33896494317081755, 0.16948247158540877, 0.16948247158540877, 0.16948247158540877, 0.06736568928995182, 0.09489145480627621, 0.10648125081314964, 0.1434237255850587, 0.07750676079596606, 0.109378699814868, 0.12676339382517815, 0.11444923556787513, 0.07967984754725484, 0.07967984754725484, 0.0965533336105616, 0.10513585215372265, 0.07295140761686877, 0.13517466705478626, 0.11586400033267394, 0.08367955579582007, 0.11371837069688367, 0.07080577798107851, 0.12444651887583497, 0.07724266688844929, 0.0785397567810374, 0.11926407511194569, 0.10471967570804988, 0.11635519523116652, 0.1570795135620748, 0.07563087690025824, 0.06399535737714158, 0.09890191594649154, 0.11344631535038736, 0.07272199701947908, 0.14570377196566714, 0.11698843004542617, 0.11379783649873274, 0.08508249457849176, 0.10741664940534584, 0.10316252467642126, 0.0925272128541098, 0.08082836984956718, 0.06912952684502456, 0.08401896339626061, 0.10987091332613522, 0.06761286973916013, 0.10987091332613522, 0.1014193046087402, 0.07606447845655515, 0.09296769589134518, 0.07606447845655515, 0.1014193046087402, 0.1014193046087402, 0.1436773481957153, 0.1032143413145793, 0.09406876676771783, 0.1280380436560604, 0.09537527741726948, 0.11105340521188911, 0.0640190218280302, 0.13849012885247347, 0.09668178806682111, 0.0783906389730982, 0.09014923481906292, 0.3209709866894616, 0.08821204566181585, 0.16172208371332908, 0.10973998537690187, 0.11761606088242114, 0.10553941177395826, 0.11604084578131729, 0.09713826456807104, 0.07718553995408887, 0.06143338894305033, 0.06563396254599395, 0.10379347225055688, 0.10379347225055688, 0.09070240367841456, 0.10379347225055688, 0.09911809061764891, 0.10098824327081209, 0.09724793796448572, 0.10659870123030166, 0.08041656408601704, 0.11501438816953599, 0.17661466996939315, 0.11544344313103563, 0.10302522414881268, 0.09934575185778366, 0.075429181966095, 0.08140832443901716, 0.1264818600041227, 0.06393083105662929, 0.07772885214798814, 0.0804884563662599, 0.08691646622189217, 0.08691646622189217, 0.08691646622189217, 0.06518734966641913, 0.10864558277736522, 0.10864558277736522, 0.08691646622189217, 0.08691646622189217, 0.17383293244378434, 0.10864558277736522, 0.1406847868081192, 0.08494175807282668, 0.13006706704901586, 0.09290504789215419, 0.0942322628620421, 0.09555947783193001, 0.1101588425006971, 0.07963289819327501, 0.07963289819327501, 0.0942322628620421, 0.26381243804451826, 0.26381243804451826, 0.12928449559289995, 0.12928449559289995, 0.2585689911857999, 0.12928449559289995, 0.12928449559289995, 0.12928449559289995, 0.14952589144535128, 0.0991239055648958, 0.10248403795692616, 0.07728304501669842, 0.09576377317286543, 0.10080397176091098, 0.08400330980075915, 0.08064317740872878, 0.11592456752504762, 0.09408370697685024, 0.3206915975993341, 0.08924199006363427, 0.10114092207211883, 0.09519145606787656, 0.10114092207211883, 0.16063558211454168, 0.09519145606787656, 0.10709038807636112, 0.08329252405939198, 0.08924199006363427, 0.07139359205090742, 0.5329478268038618, 0.2664739134019309, 0.32212860469066246, 0.1282227177197357, 0.0996015753715804, 0.09044280982017071, 0.08929796412624451, 0.1282227177197357, 0.11448456939262115, 0.08471858135053965, 0.06869074163557269, 0.09044280982017071, 0.10532580384121147, 0.26489106957181535, 0.26489106957181535, 0.26489106957181535, 0.26489106957181535, 0.10846223986670413, 0.12667122904140626, 0.10054528805161624, 0.10054528805161624, 0.11637919168179202, 0.09104494587351075, 0.06729409042824708, 0.12587953385989747, 0.0870864699659668, 0.07679443260635255, 0.3226082853650865, 0.17427709195584573, 0.17427709195584573, 0.34855418391169146, 0.11988557186821801, 0.07271747801842732, 0.08057882699339243, 0.1523136363899491, 0.11988557186821801, 0.10121486805267586, 0.11300689151512354, 0.05601211144662645, 0.08942284459022819, 0.09335351907771075, 0.3228847304890405, 0.09757912891580982, 0.09333655809338331, 0.1039429851494496, 0.1230345538503689, 0.09121527268217006, 0.10606427056066285, 0.13788355172886171, 0.07636627480367725, 0.09757912891580982, 0.074244989392464, 0.32062591147894903, 0.08878014223471042, 0.06658510667603282, 0.07768262445537162, 0.11097517779338803, 0.16646276669008203, 0.09987766001404923, 0.08878014223471042, 0.12207269557272683, 0.11097517779338803, 0.08878014223471042, 0.08359203588086063, 0.10903309027938342, 0.05451654513969171, 0.08359203588086063, 0.09812978125144509, 0.1562807627337829, 0.08359203588086063, 0.13447414467790622, 0.08722647222350674, 0.10903309027938342, 0.437259031910339, 0.32175058493420744, 0.32175058493420744, 0.08025537737544931, 0.10239479182384911, 0.10792964543594907, 0.11899935266014898, 0.09409251140569919, 0.08855765779359924, 0.07195309695729939, 0.10792964543594907, 0.08855765779359924, 0.14113876710854878, 0.09484052808529826, 0.09484052808529826, 0.09484052808529826, 0.28452158425589474, 0.09484052808529826, 0.09484052808529826, 0.09484052808529826, 0.09484052808529826, 0.09484052808529826, 0.09484052808529826, 0.26610517323782773, 0.26610517323782773, 0.07697643650698671, 0.07697643650698671, 0.11546465476048007, 0.11546465476048007, 0.11546465476048007, 0.07697643650698671, 0.11546465476048007, 0.11546465476048007, 0.19244109126746678, 0.038488218253493356, 0.11381248002377213, 0.09496935419202178, 0.1175811051901222, 0.1175811051901222, 0.08667837882605162, 0.08441720372624158, 0.10099915445818189, 0.1288869806891724, 0.08517092875951159, 0.0700964280941113, 0.10956968201612473, 0.1226136917799491, 0.1017432761578301, 0.11130888331796798, 0.08696006509216249, 0.11565688657257611, 0.08696006509216249, 0.07739445793202461, 0.09217766899769224, 0.09391687029953548, 0.10474788844800587, 0.14996692225889366, 0.08127978229298816, 0.1064650669471535, 0.08070738945993895, 0.1064650669471535, 0.1018859242827598, 0.09616199595226768, 0.08528653212433265, 0.0870037106234803, 0.08715735343723031, 0.10674327555795624, 0.0900952417553392, 0.10870186777002883, 0.12828778989075473, 0.10576397945191994, 0.07638509627083107, 0.09988820281570217, 0.09988820281570217, 0.09890890670966587, 0.09626016819943974, 0.0721951261495798, 0.12032521024929967, 0.12032521024929967, 0.1443902522991596, 0.0721951261495798, 0.09626016819943974, 0.09626016819943974, 0.04813008409971987, 0.16845529434901954, 0.22964924212012347, 0.10878121995163743, 0.08460761551794023, 0.10878121995163743, 0.09669441773478883, 0.06043401108424302, 0.09669441773478883, 0.07252081330109163, 0.07252081330109163, 0.07252081330109163, 0.0650533279142335, 0.0650533279142335, 0.130106655828467, 0.0650533279142335, 0.0650533279142335, 0.130106655828467, 0.130106655828467, 0.0650533279142335, 0.0650533279142335, 0.1951599837427005, 0.10311825480189352, 0.08861725022037724, 0.06283768651990386, 0.1385651548900444, 0.10311825480189352, 0.11117436845829144, 0.11439681392085062, 0.09828458660805475, 0.08539480475781806, 0.09828458660805475, 0.06510613855211157, 0.123701663249012, 0.07812736626253389, 0.08463798011774505, 0.11719104939380083, 0.08789328704535063, 0.10416982168337852, 0.185552494873518, 0.06510613855211157, 0.08789328704535063, 0.322642767565016, 0.09626812652546576, 0.11517793709296796, 0.09970627390137525, 0.11517793709296796, 0.08767275808569204, 0.07735831595796355, 0.13580682134842492, 0.07735831595796355, 0.09798720021342051, 0.09798720021342051, 0.08230894935291573, 0.11317480536025912, 0.08230894935291573, 0.10288618669114466, 0.10288618669114466, 0.09259756802203019, 0.09259756802203019, 0.08230894935291573, 0.09259756802203019, 0.15432928003671698, 0.1027215120136744, 0.08388923481116742, 0.06505695760866045, 0.11984176401595346, 0.11470568841526975, 0.09587341121276277, 0.09758543641299068, 0.1027215120136744, 0.11984176401595346, 0.09929746161321859, 0.1267269616587033, 0.2534539233174066, 0.1267269616587033, 0.1267269616587033, 0.1267269616587033, 0.1267269616587033, 0.1267269616587033, 0.1328427905350904, 0.13102302628118506, 0.11707150033457739, 0.10281668034565217, 0.11555503012298961, 0.0909882126952674, 0.11161220757286135, 0.056715985913383345, 0.049740222940079515, 0.09220138886453763, 0.32190095657162743, 0.13099925640089963, 0.1037077446507122, 0.14737416345101206, 0.09643000818399555, 0.09643000818399555, 0.08915227171727891, 0.0800551011338831, 0.08551340348392059, 0.10006887641735387, 0.07277736466716646, 0.2639960828905175, 0.2639960828905175, 0.2639960828905175, 0.10801788313149681, 0.077155630808212, 0.077155630808212, 0.09258675696985441, 0.10801788313149681, 0.077155630808212, 0.09258675696985441, 0.077155630808212, 0.077155630808212, 0.18517351393970882, 0.18896611077858086, 0.18896611077858086, 0.18896611077858086, 0.18896611077858086, 0.43686028367880964, 0.08886563942680899, 0.07109251154144719, 0.11108204928351123, 0.10219548534083034, 0.08886563942680899, 0.1599581509682562, 0.06664922957010674, 0.11108204928351123, 0.09330892139814943, 0.10663876731217078, 0.19012862203152908, 0.19012862203152908, 0.19012862203152908, 0.19012862203152908, 0.19012862203152908, 0.09755391424932354, 0.12886751635404467, 0.09514517562588345, 0.10959760736652398, 0.08430585182040307, 0.08671459044384315, 0.09273643700244337, 0.13127625497748477, 0.07346652801492266, 0.09755391424932354, 0.1264202877509811, 0.1264202877509811, 0.1264202877509811, 0.1264202877509811, 0.1264202877509811, 0.1264202877509811, 0.1264202877509811, 0.1264202877509811, 0.11172157294032799, 0.09453363864181599, 0.13607114652988664, 0.08665583542166466, 0.08092652398882733, 0.10097911400375799, 0.08593967149255999, 0.12747717938063066, 0.066603245406734, 0.10885691722390932, 0.1456335927229586, 0.12136132726913215, 0.10269035384311183, 0.10455745118571386, 0.07468389370408132, 0.10829164587091793, 0.07655099104668336, 0.11202584055612198, 0.08401938041709149, 0.06908260167627522, 0.11228599167567642, 0.06737159500540585, 0.06737159500540585, 0.08982879334054114, 0.06737159500540585, 0.06737159500540585, 0.17965758668108228, 0.08982879334054114, 0.11228599167567642, 0.11228599167567642, 0.07981850454104378, 0.11559921347323582, 0.11009448902212934, 0.09908504011991641, 0.07156141786438408, 0.09082795344325671, 0.09358031566880995, 0.1403704735032149, 0.10458976457102288, 0.09358031566880995, 0.3203069775186945, 0.3203069775186945, 0.22575577017271883, 0.22575577017271883, 0.22575577017271883, 0.13337564668610605, 0.09821297619613263, 0.11518805850163703, 0.12246309377542464, 0.08851292916441583, 0.09457545855923884, 0.12246309377542464, 0.06305030570615922, 0.06911283510098222, 0.09336295268027424, 0.13665306752830436, 0.1083463606831556, 0.11381248338428779, 0.1032706753178186, 0.07027872044312797, 0.11849773141382965, 0.10619895533628225, 0.10522286199679437, 0.07847790449482622, 0.059346475040863614, 0.08825057597336937, 0.08825057597336937, 0.17650115194673874, 0.08825057597336937, 0.08825057597336937, 0.08825057597336937, 0.08825057597336937, 0.08825057597336937, 0.08825057597336937, 0.08825057597336937, 0.43805110478040415, 0.1180102482427095, 0.08260717376989665, 0.08260717376989665, 0.1180102482427095, 0.1180102482427095, 0.0708061489456257, 0.0944081985941676, 0.0944081985941676, 0.08260717376989665, 0.15341332271552235, 0.32284219650921075, 0.32284219650921075, 0.09990307687961103, 0.10730330479661926, 0.08880273500409869, 0.0925028489626028, 0.07030216521157813, 0.10730330479661926, 0.09990307687961103, 0.07770239312858636, 0.09620296292110692, 0.15910490021567683, 0.23310080104184197, 0.07811341651849649, 0.09257886402192177, 0.09836504302329188, 0.10704431152534705, 0.11861666952808726, 0.1099374010260321, 0.1620130120383631, 0.0838995955198666, 0.07522032701781144, 0.07811341651849649, 0.1324849737838382, 0.10226910256998036, 0.0865800925166311, 0.09820158144503795, 0.09529620921293624, 0.0772829013739056, 0.1138905914983872, 0.11272844260554653, 0.09529620921293624, 0.0854179436237904, 0.2657489021332168, 0.26533476829933894, 0.26533476829933894, 0.09942041197569527, 0.09942041197569527, 0.09942041197569527, 0.07456530898177145, 0.07456530898177145, 0.09942041197569527, 0.1242755149696191, 0.09942041197569527, 0.17398572095746673, 0.07456530898177145, 0.3219985065259444, 0.26340499459423383, 0.26340499459423383, 0.26340499459423383, 0.0925899211463116, 0.09999711483801652, 0.08518272745460667, 0.10370071168386899, 0.15555106752580347, 0.08518272745460667, 0.07407193691704927, 0.11481150222142637, 0.09629351799216405, 0.09629351799216405, 0.32109449822742214, 0.1896407283253166, 0.1896407283253166, 0.1896407283253166, 0.1896407283253166, 0.1683119321486077, 0.1683119321486077, 0.1683119321486077, 0.1683119321486077, 0.1683119321486077, 0.1683119321486077, 0.11302698942806592, 0.13052794262983097, 0.12615270432938971, 0.11521460857828655, 0.12834032347961033, 0.07656667025772207, 0.060524129822770785, 0.1290695298630172, 0.06708698727343268, 0.05250285960529514, 0.12410527514602869, 0.12410527514602869, 0.24821055029205738, 0.12410527514602869, 0.12410527514602869, 0.12410527514602869, 0.12410527514602869, 0.12410527514602869, 0.12410527514602869, 0.12410527514602869, 0.09210409647480834, 0.13815614471221252, 0.09210409647480834, 0.09210409647480834, 0.09210409647480834, 0.04605204823740417, 0.09210409647480834, 0.18420819294961668, 0.09210409647480834, 0.09210409647480834, 0.07584546717266871, 0.09607092508538036, 0.07584546717266871, 0.10618365404173619, 0.12135274747626994, 0.07584546717266871, 0.09607092508538036, 0.11124001851991411, 0.1466345698671595, 0.09101456060720245, 0.32170014918650114, 0.32170014918650114, 0.0817192283823101, 0.10755692559142287, 0.12978936272484548, 0.08352185842015518, 0.10875867894998625, 0.11596919910136655, 0.11416656906352148, 0.0817192283823101, 0.07631133826877488, 0.10094728211932426, 0.08474110170084033, 0.11298813560112043, 0.13671564407735573, 0.12315706780522127, 0.09942955932898598, 0.10507896610904201, 0.08700086441286274, 0.0768319322087619, 0.10620884746505321, 0.06666300000466106, 0.32197217987528537, 0.32197217987528537, 0.09822153443688618, 0.08499940480115149, 0.12844354503285116, 0.0679995238409212, 0.10766591274812523, 0.08122165347665587, 0.14355455033083364, 0.09633265877463837, 0.10955478841037304, 0.08122165347665587, 0.2654103468116438, 0.2654103468116438, 0.2654103468116438, 0.32051849679764116, 0.32051849679764116, 0.32210832950666624, 0.11286204978200873, 0.08934912274409025, 0.07430084943982242, 0.10063532772229113, 0.08558705441802329, 0.11568360102655895, 0.1072189472929083, 0.11850515227110917, 0.08746808858105677, 0.10909998145594177, 0.32293718407936645, 0.1072786269524586, 0.08671689011990404, 0.09565677569927558, 0.12158244387945308, 0.08761087867784119, 0.1054906498365843, 0.09386879858340128, 0.10280868416277282, 0.08314093588815541, 0.11621851253183015, 0.3197259085070859, 0.3197259085070859, 0.4366249527928822, 0.08530587541402616, 0.17061175082805233, 0.08530587541402616, 0.08530587541402616, 0.08530587541402616, 0.08530587541402616, 0.12795881312103924, 0.12795881312103924, 0.04265293770701308, 0.04265293770701308, 0.23411164894375502, 0.23411164894375502, 0.23411164894375502, 0.08341440403497949, 0.15118860731340034, 0.11295700546403473, 0.0764632036987312, 0.1338106064727796, 0.08167660395091741, 0.10079240487560022, 0.08862780428716571, 0.1025302049596623, 0.06777420327842083, 0.06018630419855617, 0.11702892483052588, 0.08894198287119967, 0.08359208916466133, 0.0936231398644207, 0.12839744895691982, 0.08894198287119967, 0.14177218322326562, 0.11970387168379504, 0.07757345874480573, 0.4351615868252143, 0.32233547924828004, 0.10323167751127818, 0.11198012475799667, 0.13822546649815212, 0.10323167751127818, 0.07873602522046641, 0.10323167751127818, 0.10498136696062188, 0.09798260916324708, 0.07523664632177901, 0.0822354041191538, 0.1005268606015203, 0.09110246742012777, 0.09738539620772278, 0.13665370113019165, 0.08481953863253275, 0.11152198597981158, 0.09895612840462154, 0.09424393181392528, 0.08953173522322902, 0.09581466401082403, 0.32167258982139985, 0.32167258982139985, 0.32053812980159535, 0.08426378161916716, 0.08782422309603337, 0.07002201571170229, 0.10325280282912032, 0.12105501021345141, 0.14123084524902665, 0.10918687195723069, 0.0996923613522541, 0.0949451060497658, 0.08782422309603337, 0.11342011459424776, 0.11041379830379783, 0.08718317242304828, 0.1259919827179475, 0.08964288575159823, 0.10358126128004795, 0.09073609167539821, 0.09428901092774813, 0.09592881981344811, 0.08909628278969824, 0.3226253829535727, 0.3226253829535727, 0.32198411332606824, 0.32198411332606824, 0.23372935791747335, 0.10401198434139218, 0.0965825568884356, 0.1374444078796968, 0.15230326278561, 0.0928678431619573, 0.07057956080308755, 0.07429427452956584, 0.08543841570900072, 0.08915312943547901, 0.0965825568884356, 0.2653420613622709, 0.2653420613622709, 0.2653420613622709, 0.3219688948016841, 0.3219688948016841, 0.32190854876020764, 0.0935808529013457, 0.10642528369172649, 0.13578398264116828, 0.08073642211096492, 0.1266093892194677, 0.08624117816398526, 0.0789015034266248, 0.062387235267563804, 0.10459036500738637, 0.12293955185078749, 0.08921107757368454, 0.08921107757368454, 0.08921107757368454, 0.1784221551473691, 0.08921107757368454, 0.08921107757368454, 0.1338166163605268, 0.08921107757368454, 0.08921107757368454, 0.08921107757368454, 0.13517932124557167, 0.13517932124557167, 0.13517932124557167, 0.13517932124557167, 0.27035864249114333, 0.13517932124557167, 0.13517932124557167, 0.13517932124557167, 0.13517932124557167, 0.12648195428710812, 0.09553424206792209, 0.08746092583683007, 0.09418868936274008, 0.07535095149019207, 0.15070190298038413, 0.08207871501610207, 0.09957090018346809, 0.08073316231092008, 0.1076442164145601, 0.1289462550029386, 0.08491582646534981, 0.10378601012431644, 0.08806085707517758, 0.08177079585552205, 0.09435091829483312, 0.10693104073414421, 0.07233570402603873, 0.10378601012431644, 0.13523631622259416, 0.13304862949163032, 0.08519780660428958, 0.11204095115084657, 0.05718756881657794, 0.08636489984544424, 0.130714443009321, 0.0968687390158361, 0.10620548494507331, 0.09570164577468145, 0.0968687390158361, 0.3374149281152111, 0.10439921888189492, 0.06524951180118432, 0.10439921888189492, 0.0782994141614212, 0.10439921888189492, 0.10439921888189492, 0.16964873068307923, 0.10439921888189492, 0.0782994141614212, 0.09134931652165805, 0.12227334893148183, 0.09898318723024718, 0.11062826808086451, 0.10480572765555585, 0.09316064680493853, 0.09898318723024718, 0.11062826808086451, 0.06404794467839524, 0.14556351063271644, 0.05822540425308658, 0.1130774531628214, 0.09748056307139776, 0.12282550946996118, 0.10137978559425367, 0.14232162208424073, 0.07993406171854617, 0.11112784190139345, 0.058488337842838654, 0.09943017433282572, 0.07603483919569025, 0.0978117215672798, 0.12186378424775843, 0.10743254663947124, 0.11865684255702795, 0.1395019635467761, 0.0753631297321664, 0.10101866325801027, 0.07375965888680115, 0.08658742564972309, 0.08017354226826212, 0.11468613990332417, 0.10865002727683343, 0.1006018771081791, 0.1428546654936143, 0.1227342900719785, 0.09456576448168835, 0.10462595219250626, 0.04828890101192597, 0.08249353922870686, 0.08249353922870686, 0.32235488868688966, 0.32235488868688966, 0.19131960396854317, 0.19131960396854317, 0.19131960396854317, 0.43623561492873264, 0.3388475579556539, 0.07447248327081216, 0.07447248327081216, 0.07447248327081216, 0.07447248327081216, 0.07447248327081216, 0.07447248327081216, 0.07447248327081216, 0.22341744981243644, 0.1489449665416243, 0.07447248327081216, 0.09156724386024122, 0.14157205079101123, 0.08961900462917226, 0.08117663462787342, 0.09416489616833316, 0.12533672386543657, 0.08896959155214927, 0.12144024540329863, 0.10715315770879291, 0.057797763855045876, 0.1275173344259043, 0.078391803950351, 0.10243195716179197, 0.07943702800302235, 0.10347718121446332, 0.1097485255304914, 0.11392942174117679, 0.0919797166350785, 0.08779882042439312, 0.10452240526713467, 0.13367981283802033, 0.09423331068909631, 0.08985036600588253, 0.08765889366427564, 0.10080772771391698, 0.09204183834748941, 0.07889300429784807, 0.08108447663945496, 0.1227224511299859, 0.120530978788379, 0.11945594644083514, 0.06515778896772825, 0.15203484092469927, 0.09773668345159238, 0.10859631494621376, 0.11480181865742597, 0.0837743001013649, 0.0837743001013649, 0.07601742046234963, 0.1008394353071985, 0.12014888141140981, 0.1126395763231967, 0.08886011021052183, 0.10513027123498357, 0.0800992542742732, 0.09636941529873495, 0.07884770342623769, 0.11514267801926772, 0.08260235597034424, 0.11889733056337429, 0.09498608825138159, 0.08660496281743615, 0.1173357560752361, 0.0977797967293634, 0.08101754586147254, 0.07543012890550892, 0.09219237977339978, 0.15365396628899963, 0.08939867129541797, 0.11174833911927247, 0.2766327416027564, 0.1383163708013782, 0.1383163708013782, 0.1383163708013782, 0.1383163708013782, 0.1383163708013782, 0.1383163708013782, 0.08981218524194731, 0.11413631874497471, 0.14033153944054266, 0.108523057167353, 0.07671457489416333, 0.12162066751513698, 0.07671457489416333, 0.08607001085686618, 0.11413631874497471, 0.06923022612400105, 0.43794751402466714, 0.12772301724258328, 0.12772301724258328, 0.12502464363886673, 0.10613602841285089, 0.06835879796081921, 0.09804090760170124, 0.08904632892264608, 0.08724741318683506, 0.09534253399798469, 0.07465500303615782, 0.10954852405634263, 0.07568807116620037, 0.14938435098592176, 0.12149927213521637, 0.08166344520563723, 0.11950748078873741, 0.09560598463098993, 0.09361419328451097, 0.07170448847324244, 0.08166344520563723, 0.06520547771546056, 0.11168172247009735, 0.11723112482885995, 0.0908714636247376, 0.085322061265975, 0.13179830602061177, 0.10890702129071604, 0.10266394363710812, 0.08948411303504694, 0.09711454127834553, 0.32282842368704695, 0.12342322625374991, 0.073046399211403, 0.08312176461987239, 0.08312176461987239, 0.09571597138045912, 0.11334786084528053, 0.08312176461987239, 0.16372468788762742, 0.08815944732410708, 0.09319713002834176, 0.10191060976181111, 0.10906223149948206, 0.11710780595436189, 0.11800175867157076, 0.10191060976181111, 0.10191060976181111, 0.09297108258972242, 0.08403155541763373, 0.10012270432739337, 0.07241017009391842, 0.17384563161376607, 0.17384563161376607, 0.17384563161376607, 0.17384563161376607, 0.13369302190166094, 0.06684651095083047, 0.06684651095083047, 0.1002697664262457, 0.2005395328524914, 0.06684651095083047, 0.1002697664262457, 0.1002697664262457, 0.06684651095083047, 0.06684651095083047, 0.11603590482237608, 0.17405385723356412, 0.07735726988158405, 0.07735726988158405, 0.09669658735198007, 0.07735726988158405, 0.07735726988158405, 0.09669658735198007, 0.1353752222927721, 0.07735726988158405, 0.10869677649498526, 0.10258258281714235, 0.07404967898720871, 0.11005548620117257, 0.07812580810577066, 0.13926774488419988, 0.12160451870376476, 0.08424000178361357, 0.1161696798790155, 0.06521806589699115, 0.12407958668439945, 0.10339965557033287, 0.0827197244562663, 0.09822967279181623, 0.07754974167774965, 0.09305969001329958, 0.08788970723478294, 0.1189096039058828, 0.14475951779846602, 0.06720977612071637, 0.11170087465353673, 0.08813897140630632, 0.10035625457153691, 0.12479082090199806, 0.09075696065599859, 0.11780951623615202, 0.09599293915538312, 0.08726630832307557, 0.08639364523984482, 0.09773826532184464, 0.08330117425126887, 0.11270158869289318, 0.09800138147208103, 0.0840011841189266, 0.12460175644307446, 0.0840011841189266, 0.09940140120739648, 0.10990154922226229, 0.13020183538433622, 0.07420104597171849, 0.09459499176083071, 0.10951837468493124, 0.11529516807490563, 0.10518577964245043, 0.08304140498088192, 0.1449012341985244, 0.08159720663338832, 0.10662997798994403, 0.04525154822146609, 0.11385096972741203, 0.3215917557797401, 0.10016127208074485, 0.09515320847670761, 0.11268143109083796, 0.10016127208074485, 0.08012901766459588, 0.09765724027872623, 0.07261692225854002, 0.15775400352717314, 0.10016127208074485, 0.08012901766459588, 0.09945626080537419, 0.07459219560403063, 0.09945626080537419, 0.09945626080537419, 0.09945626080537419, 0.09945626080537419, 0.12432032600671773, 0.07459219560403063, 0.09945626080537419, 0.14918439120806126, 0.08575746090504291, 0.117916508744434, 0.10719682613130363, 0.117916508744434, 0.07503777829191255, 0.07503777829191255, 0.09647714351817327, 0.16079523919695546, 0.07503777829191255, 0.09647714351817327, 0.32021659421452514, 0.07021382323395269, 0.10532073485092902, 0.10532073485092902, 0.08776727904244085, 0.1140974627551731, 0.1667578301806376, 0.07021382323395269, 0.10532073485092902, 0.0614370953297086, 0.10532073485092902, 0.12171689088586474, 0.09624126256091631, 0.08330126087205361, 0.11403376488310252, 0.1322306422580657, 0.10877688919700204, 0.07885313529150706, 0.09785876277202414, 0.09583688750813935, 0.07117000928874483, 0.16912184867858795, 0.3382436973571759, 0.16912184867858795, 0.08477042134496539, 0.10596302668120673, 0.06357781600872404, 0.10596302668120673, 0.08477042134496539, 0.10596302668120673, 0.08477042134496539, 0.10596302668120673, 0.08477042134496539, 0.16954084268993078, 0.32064360074619486, 0.26542030181672366, 0.26542030181672366, 0.08351596286671308, 0.07423641143707829, 0.08583585072412177, 0.11135461715561744, 0.09975517786857395, 0.1461529350167479, 0.11367450501302613, 0.11367450501302613, 0.09047562643893917, 0.08351596286671308, 0.15125100923050544, 0.15125100923050544, 0.15125100923050544, 0.15125100923050544, 0.15125100923050544, 0.15125100923050544, 0.08613563214968929, 0.10880290376802859, 0.12240326673903217, 0.08726899573060626, 0.09066908647335715, 0.10653617660619466, 0.1371369932909527, 0.08160217782602144, 0.10653617660619466, 0.07366863275960268, 0.07062377249074372, 0.13183104198272164, 0.13183104198272164, 0.08004027548950957, 0.08474852698889247, 0.16008055097901913, 0.08474852698889247, 0.10828978448580706, 0.08004027548950957, 0.07062377249074372, 0.12100470990666645, 0.10502295576805012, 0.06506857042150932, 0.08675809389534575, 0.07990877069308162, 0.09474897096465391, 0.12671247924188656, 0.13584491017823874, 0.08789964776238977, 0.09703207869874196, 0.10534633229022583, 0.1126960764034974, 0.12800804330614649, 0.09677163082474233, 0.07288496245660973, 0.12494564992561667, 0.11330855507960336, 0.07104752642829183, 0.07227248378050376, 0.10289641758580197, 0.32187895057972143, 0.10278608792282927, 0.10960063518843122, 0.0800709303708228, 0.1186866982092338, 0.09994669322882846, 0.09029275126922572, 0.115847303515233, 0.12493336653603558, 0.06644183583961892, 0.09086063020802587, 0.1047095899295804, 0.11052678937011264, 0.09307519104851592, 0.08144079216745143, 0.08144079216745143, 0.16288158433490285, 0.09889239048904816, 0.09307519104851592, 0.09307519104851592, 0.08144079216745143, 0.09559653177202873, 0.12038081778699915, 0.12392143007485207, 0.07435285804491124, 0.07789347033276416, 0.08143408262061708, 0.08143408262061708, 0.10267775634773457, 0.13454326693841082, 0.10621836863558748, 0.15021266093308902, 0.07555074662315128, 0.10488221295919825, 0.09332739288742217, 0.1057710452724118, 0.08621673438171382, 0.09866038676670344, 0.11554820071776079, 0.09421622520063572, 0.07643957893636483, 0.22607968739678116, 0.22607968739678116, 0.0849778655210525, 0.10197343862526301, 0.09347565207315775, 0.07648007896894725, 0.10197343862526301, 0.11047122517736825, 0.09347565207315775, 0.169955731042105, 0.07648007896894725, 0.07648007896894725, 0.1293497271625495, 0.10304130807864112, 0.0865985461511984, 0.13044591129104569, 0.11509933349209912, 0.10852222872112204, 0.0800214413802213, 0.07234815248074802, 0.08879091440819076, 0.0865985461511984, 0.32106117451183336, 0.13793192711453345, 0.13793192711453345, 0.2758638542290669, 0.13793192711453345, 0.13793192711453345, 0.13793192711453345, 0.13793192711453345, 0.1691203467192617, 0.1691203467192617, 0.1691203467192617, 0.1691203467192617, 0.1691203467192617, 0.1691203467192617, 0.08237805077900634, 0.09336179088287386, 0.10434553098674136, 0.10159959596077449, 0.09336179088287386, 0.0878699208309401, 0.12905894622044325, 0.0988536609348076, 0.08237805077900634, 0.13180488124641015, 0.3213757417232476, 0.13767953983489364, 0.13767953983489364, 0.13767953983489364, 0.2753590796697873, 0.13767953983489364, 0.11047428413828823, 0.1111520404826949, 0.12064062930438837, 0.09691915725015471, 0.13487351253692859, 0.08200851767320783, 0.08200851767320783, 0.10979652779388156, 0.0684533907850743, 0.08404178670642785, 0.3381097401812473, 0.3204351511992752, 0.3204351511992752, 0.08467349952466244, 0.16934699904932488, 0.08467349952466244, 0.12701024928699364, 0.08467349952466244, 0.08467349952466244, 0.08467349952466244, 0.12701024928699364, 0.08467349952466244, 0.08467349952466244, 0.19023785054398654, 0.19023785054398654, 0.19023785054398654, 0.3804757010879731, 0.3232909632522596, 0.3232909632522596, 0.10217375703778882, 0.13726373420228197, 0.08772494291123283, 0.09288523367071712, 0.10423787334158253, 0.09701346627830454, 0.08772494291123283, 0.08978905921502654, 0.0908211173669234, 0.10939816410106681, 0.10883310204483364, 0.1410799470951547, 0.16929593651418565, 0.08061711262580269, 0.06449369010064215, 0.10480224641354349, 0.10077139078225336, 0.08061711262580269, 0.07658625699451256, 0.07255540136322242, 0.3384101505298512, 0.14040518369378746, 0.08424311021627247, 0.08424311021627247, 0.08424311021627247, 0.08424311021627247, 0.08424311021627247, 0.08424311021627247, 0.08424311021627247, 0.08424311021627247, 0.16848622043254494, 0.03307392010249153, 0.03307392010249153, 0.06614784020498306, 0.5291827216398645, 0.03307392010249153, 0.03307392010249153, 0.13229568040996612, 0.03307392010249153, 0.0992217603074746, 0.32035395197980865, 0.6174026020784404], \"Term\": [\"$\", \"$\", \"$\", \"$\", \"$\", \"$\", \"$\", \"$\", \"$\", \"$\", \"-cold\", \".worth\", \".worth\", \"1\", \"1\", \"1\", \"1\", \"1\", \"1\", \"1\", \"1\", \"1\", \"1\", \"1.5h\", \"1.5h\", \"10min\", \"10min\", \"10min\", \"10min\", \"12:45pm\", \"12:45pm\", \"2\", \"2\", \"2\", \"2\", \"2\", \"2\", \"2\", \"2\", \"2\", \"2\", \"28,000\", \"2nd\", \"2nd\", \"2nd\", \"2nd\", \"2nd\", \"2nd\", \"2nd\", \"2nd\", \"2nd\", \"2nd\", \"3\", \"3\", \"3\", \"3\", \"3\", \"3\", \"3\", \"3\", \"3\", \"3\", \"4\", \"4\", \"4\", \"4\", \"4\", \"4\", \"4\", \"4\", \"4\", \"4\", \"5:15\", \"5yr\", \"7-eleven\", \"7-eleven\", \"8\", \"8\", \"8\", \"8\", \"8\", \"8\", \"8\", \"8\", \"8\", \"8\", \"8/12/12\", \"8/12/12\", \"abiance\", \"accept\", \"accept\", \"accept\", \"accept\", \"accept\", \"accept\", \"accept\", \"accept\", \"accept\", \"accept\", \"add\", \"add\", \"add\", \"add\", \"add\", \"add\", \"add\", \"add\", \"add\", \"add\", \"affordable\", \"affordable\", \"affordable\", \"affordable\", \"affordable\", \"affordable\", \"affordable\", \"affordable\", \"affordable\", \"affordable\", \"aloo\", \"aloo\", \"amazing\", \"amazing\", \"amazing\", \"amazing\", \"amazing\", \"amazing\", \"amazing\", \"amazing\", \"amazing\", \"amazing\", \"ami\", \"ami\", \"ami\", \"ami\", \"ami\", \"ami\", \"ami\", \"ami\", \"ami\", \"ami\", \"anthony\", \"anthony\", \"anthony\", \"anthony\", \"anthony\", \"anthony\", \"anthony\", \"anthony\", \"anthony\", \"anthony\", \"appointment\", \"appointment\", \"appointment\", \"appointment\", \"appointment\", \"appointment\", \"appointment\", \"appointment\", \"appointment\", \"appointment\", \"approachable\", \"approachable\", \"approachable\", \"approachable\", \"approachable\", \"approachable\", \"approachable\", \"approachable\", \"approachable\", \"aptive\", \"aptive\", \"aryon\", \"ask\", \"ask\", \"ask\", \"ask\", \"ask\", \"ask\", \"ask\", \"ask\", \"ask\", \"ask\", \"avalanche\", \"ave\", \"ave\", \"ave\", \"ave\", \"ave\", \"ave\", \"ave\", \"ave\", \"ave\", \"ave\", \"away\", \"away\", \"away\", \"away\", \"away\", \"away\", \"away\", \"away\", \"away\", \"away\", \"axle\", \"bad\", \"bad\", \"bad\", \"bad\", \"bad\", \"bad\", \"bad\", \"bad\", \"bad\", \"bad\", \"bangle\", \"banking\", \"banking\", \"bannana\", \"bap\", \"bap\", \"bap\", \"bap\", \"bar\", \"bar\", \"bar\", \"bar\", \"bar\", \"bar\", \"bar\", \"bar\", \"bar\", \"bar\", \"barbara\", \"barbara\", \"barbara\", \"barbara\", \"barbara\", \"barbara\", \"barbara\", \"barbara\", \"barbara\", \"barhoppe\", \"basa\", \"basa\", \"basa\", \"basa\", \"bathing\", \"bb\", \"bb\", \"beat\", \"beat\", \"beat\", \"beat\", \"beat\", \"beat\", \"beat\", \"beat\", \"beat\", \"beat\", \"beause\", \"beause\", \"beef\", \"beef\", \"beef\", \"beef\", \"beef\", \"beef\", \"beef\", \"beef\", \"beef\", \"beef\", \"beer\", \"beer\", \"beer\", \"beer\", \"beer\", \"beer\", \"beer\", \"beer\", \"beer\", \"beer\", \"beleive\", \"belgian\", \"belgian\", \"belgian\", \"belgian\", \"belgian\", \"belgian\", \"belgian\", \"belgian\", \"believer\", \"believer\", \"believer\", \"believer\", \"believer\", \"believer\", \"big\", \"big\", \"big\", \"big\", \"big\", \"big\", \"big\", \"big\", \"big\", \"big\", \"bike\", \"bike\", \"bike\", \"bike\", \"bike\", \"bike\", \"bike\", \"bike\", \"bike\", \"bike\", \"bim\", \"bim\", \"bim\", \"bim\", \"biochemical\", \"biriyani\", \"blink\", \"blink\", \"blink\", \"blink\", \"blowdry\", \"booster\", \"booster\", \"botanical\", \"botanical\", \"botanical\", \"botanical\", \"botanical\", \"botanical\", \"botanical\", \"bouillabaisse\", \"bread\", \"bread\", \"bread\", \"bread\", \"bread\", \"bread\", \"bread\", \"bread\", \"bread\", \"bread\", \"bring\", \"bring\", \"bring\", \"bring\", \"bring\", \"bring\", \"bring\", \"bring\", \"bring\", \"bring\", \"brookline\", \"brookline\", \"browsing\", \"burger\", \"burger\", \"burger\", \"burger\", \"burger\", \"burger\", \"burger\", \"burger\", \"burger\", \"burger\", \"burger-\", \"business\", \"business\", \"business\", \"business\", \"business\", \"business\", \"business\", \"business\", \"business\", \"business\", \"busta\", \"busta\", \"busta\", \"busta\", \"busy\", \"busy\", \"busy\", \"busy\", \"busy\", \"busy\", \"busy\", \"busy\", \"busy\", \"busy\", \"buttered\", \"butterfly\", \"cage\", \"calabash\", \"calabash\", \"call\", \"call\", \"call\", \"call\", \"call\", \"call\", \"call\", \"call\", \"call\", \"call\", \"care\", \"care\", \"care\", \"care\", \"care\", \"care\", \"care\", \"care\", \"care\", \"care\", \"carina\", \"carina\", \"carpaccio\", \"carpaccio\", \"carpaccio\", \"carpaccio\", \"carpaccio\", \"carpaccio\", \"carpaccio\", \"carpaccio\", \"carpaccio\", \"carpaccio\", \"carriage\", \"carriage\", \"cartridge\", \"cartridge\", \"cartridge\", \"cartridge\", \"cartridge\", \"cartridge\", \"cartridge\", \"cary\", \"ccw\", \"ccw\", \"ccw\", \"center\", \"center\", \"center\", \"center\", \"center\", \"center\", \"center\", \"center\", \"center\", \"center\", \"ceux\", \"ceux\", \"ceux\", \"ceux\", \"chainsaw\", \"charge\", \"charge\", \"charge\", \"charge\", \"charge\", \"charge\", \"charge\", \"charge\", \"charge\", \"charge\", \"chauffeur\", \"chauffeur\", \"check\", \"check\", \"check\", \"check\", \"check\", \"check\", \"check\", \"check\", \"check\", \"check\", \"cheese\", \"cheese\", \"cheese\", \"cheese\", \"cheese\", \"cheese\", \"cheese\", \"cheese\", \"cheese\", \"cheese\", \"cheesetart\", \"cheesetart\", \"cheesetart\", \"cheesetart\", \"cheesetart\", \"cheesetart\", \"cheesetart\", \"cheesetart\", \"cheesetart\", \"cheesetart\", \"chef\", \"chef\", \"chef\", \"chef\", \"chef\", \"chef\", \"chef\", \"chef\", \"chef\", \"chef\", \"chicken\", \"chicken\", \"chicken\", \"chicken\", \"chicken\", \"chicken\", \"chicken\", \"chicken\", \"chicken\", \"chicken\", \"choice\", \"choice\", \"choice\", \"choice\", \"choice\", \"choice\", \"choice\", \"choice\", \"choice\", \"choice\", \"choo\", \"chop\", \"chop\", \"chop\", \"chop\", \"chop\", \"chop\", \"chop\", \"chop\", \"chop\", \"chop\", \"class\", \"class\", \"class\", \"class\", \"class\", \"class\", \"class\", \"class\", \"class\", \"class\", \"clean\", \"clean\", \"clean\", \"clean\", \"clean\", \"clean\", \"clean\", \"clean\", \"clean\", \"clean\", \"clinical\", \"clinical\", \"coffe\", \"coffe\", \"coffee\", \"coffee\", \"coffee\", \"coffee\", \"coffee\", \"coffee\", \"coffee\", \"coffee\", \"coffee\", \"coffee\", \"coin\", \"coin\", \"coin\", \"coin\", \"coin\", \"coin\", \"coin\", \"coin\", \"coin\", \"coin\", \"color\", \"color\", \"color\", \"color\", \"color\", \"color\", \"color\", \"color\", \"color\", \"color\", \"come\", \"come\", \"come\", \"come\", \"come\", \"come\", \"come\", \"come\", \"come\", \"come\", \"commonwealth\", \"commonwealth\", \"commonwealth\", \"commonwealth\", \"commonwealth\", \"commonwealth\", \"commonwealth\", \"commonwealth\", \"commonwealth\", \"concern\", \"concern\", \"concern\", \"concern\", \"concern\", \"concern\", \"concern\", \"concern\", \"concern\", \"concern\", \"condensation\", \"condensation\", \"consultation\", \"consultation\", \"consultation\", \"consultation\", \"consultation\", \"consultation\", \"consultation\", \"consultation\", \"consultation\", \"consultation\", \"cook\", \"cook\", \"cook\", \"cook\", \"cook\", \"cook\", \"cook\", \"cook\", \"cook\", \"cook\", \"cool\", \"cool\", \"cool\", \"cool\", \"cool\", \"cool\", \"cool\", \"cool\", \"cool\", \"cool\", \"cos\", \"cos\", \"cream\", \"cream\", \"cream\", \"cream\", \"cream\", \"cream\", \"cream\", \"cream\", \"cream\", \"cream\", \"customer\", \"customer\", \"customer\", \"customer\", \"customer\", \"customer\", \"customer\", \"customer\", \"customer\", \"customer\", \"cut\", \"cut\", \"cut\", \"cut\", \"cut\", \"cut\", \"cut\", \"cut\", \"cut\", \"cut\", \"daaayyuuummm\", \"dajuan\", \"daniel\", \"daniel\", \"daniel\", \"daniel\", \"daniel\", \"daniel\", \"daniel\", \"daniel\", \"dank\", \"dank\", \"dank\", \"dank\", \"dank\", \"dank\", \"dank\", \"dank\", \"dank\", \"dank\", \"darlene\", \"darlene\", \"daves\", \"daves\", \"daves\", \"dawn\", \"dawn\", \"dawn\", \"dawn\", \"dawn\", \"dawn\", \"dawn\", \"dawn\", \"day\", \"day\", \"day\", \"day\", \"day\", \"day\", \"day\", \"day\", \"day\", \"day\", \"decent\", \"decent\", \"decent\", \"decent\", \"decent\", \"decent\", \"decent\", \"decent\", \"decent\", \"decent\", \"definitely\", \"definitely\", \"definitely\", \"definitely\", \"definitely\", \"definitely\", \"definitely\", \"definitely\", \"definitely\", \"definitely\", \"delicacy\", \"delicacy\", \"delicacy\", \"delicacy\", \"delicacy\", \"delicacy\", \"delicious\", \"delicious\", \"delicious\", \"delicious\", \"delicious\", \"delicious\", \"delicious\", \"delicious\", \"delicious\", \"delicious\", \"delicious\\u200b\", \"delivary\", \"demonic\", \"dentist\", \"dentist\", \"dentist\", \"dentist\", \"dentist\", \"dentist\", \"dentist\", \"dentist\", \"dentist\", \"dentist\", \"dillion\", \"disappoint\", \"disappoint\", \"disappoint\", \"disappoint\", \"disappoint\", \"disappoint\", \"disappoint\", \"disappoint\", \"disappoint\", \"disappoint\", \"discontinue\", \"discontinue\", \"dish\", \"dish\", \"dish\", \"dish\", \"dish\", \"dish\", \"dish\", \"dish\", \"dish\", \"dish\", \"dojo\", \"dojo\", \"dolci\", \"dolci\", \"donovan\", \"donovan\", \"donovan\", \"donovan\", \"donovan\", \"donovan\", \"dr.\", \"dr.\", \"dr.\", \"dr.\", \"dr.\", \"dr.\", \"dr.\", \"dr.\", \"dr.\", \"dr.\", \"drink\", \"drink\", \"drink\", \"drink\", \"drink\", \"drink\", \"drink\", \"drink\", \"drink\", \"drink\", \"dry\", \"dry\", \"dry\", \"dry\", \"dry\", \"dry\", \"dry\", \"dry\", \"dry\", \"dry\", \"dye\", \"dye\", \"dye\", \"dye\", \"dye\", \"dye\", \"dye\", \"dye\", \"dye\", \"dye\", \"eat\", \"eat\", \"eat\", \"eat\", \"eat\", \"eat\", \"eat\", \"eat\", \"eat\", \"eat\", \"ecstacy\", \"enchilada\", \"enchilada\", \"enchilada\", \"enchilada\", \"enchilada\", \"enchilada\", \"enchilada\", \"enchilada\", \"enchilada\", \"enchilada\", \"end\", \"end\", \"end\", \"end\", \"end\", \"end\", \"end\", \"end\", \"end\", \"end\", \"enjoy\", \"enjoy\", \"enjoy\", \"enjoy\", \"enjoy\", \"enjoy\", \"enjoy\", \"enjoy\", \"enjoy\", \"enjoy\", \"erika\", \"erika\", \"especially\", \"especially\", \"especially\", \"especially\", \"especially\", \"especially\", \"especially\", \"especially\", \"especially\", \"especially\", \"est\", \"est\", \"est\", \"est\", \"est\", \"est\", \"est\", \"est\", \"est\", \"est\", \"ethan\", \"ev36\", \"ev36\", \"ev36\", \"everrr\", \"everrr\", \"everrr\", \"excellent\", \"excellent\", \"excellent\", \"excellent\", \"excellent\", \"excellent\", \"excellent\", \"excellent\", \"excellent\", \"excellent\", \"existant\", \"expect\", \"expect\", \"expect\", \"expect\", \"expect\", \"expect\", \"expect\", \"expect\", \"expect\", \"expect\", \"experience\", \"experience\", \"experience\", \"experience\", \"experience\", \"experience\", \"experience\", \"experience\", \"experience\", \"experience\", \"extremely\", \"extremely\", \"extremely\", \"extremely\", \"extremely\", \"extremely\", \"extremely\", \"extremely\", \"extremely\", \"extremely\", \"fabulously\", \"fabulously\", \"fabulously\", \"fabulously\", \"fact\", \"fact\", \"fact\", \"fact\", \"fact\", \"fact\", \"fact\", \"fact\", \"fact\", \"fact\", \"family\", \"family\", \"family\", \"family\", \"family\", \"family\", \"family\", \"family\", \"family\", \"family\", \"far\", \"far\", \"far\", \"far\", \"far\", \"far\", \"far\", \"far\", \"far\", \"far\", \"fast\", \"fast\", \"fast\", \"fast\", \"fast\", \"fast\", \"fast\", \"fast\", \"fast\", \"fast\", \"favorite\", \"favorite\", \"favorite\", \"favorite\", \"favorite\", \"favorite\", \"favorite\", \"favorite\", \"favorite\", \"favorite\", \"feel\", \"feel\", \"feel\", \"feel\", \"feel\", \"feel\", \"feel\", \"feel\", \"feel\", \"feel\", \"find\", \"find\", \"find\", \"find\", \"find\", \"find\", \"find\", \"find\", \"find\", \"find\", \"firefly\", \"firefly\", \"firefly\", \"firefly\", \"firefly\", \"firefly\", \"firefly\", \"fish\", \"fish\", \"fish\", \"fish\", \"fish\", \"fish\", \"fish\", \"fish\", \"fish\", \"fish\", \"flavor\", \"flavor\", \"flavor\", \"flavor\", \"flavor\", \"flavor\", \"flavor\", \"flavor\", \"flavor\", \"flavor\", \"food\", \"food\", \"food\", \"food\", \"food\", \"food\", \"food\", \"food\", \"food\", \"food\", \"fresh\", \"fresh\", \"fresh\", \"fresh\", \"fresh\", \"fresh\", \"fresh\", \"fresh\", \"fresh\", \"fresh\", \"fridendly\", \"fridendly\", \"friend\", \"friend\", \"friend\", \"friend\", \"friend\", \"friend\", \"friend\", \"friend\", \"friend\", \"friend\", \"friendly\", \"friendly\", \"friendly\", \"friendly\", \"friendly\", \"friendly\", \"friendly\", \"friendly\", \"friendly\", \"friendly\", \"froide\", \"froide\", \"fry\", \"fry\", \"fry\", \"fry\", \"fry\", \"fry\", \"fry\", \"fry\", \"fry\", \"fry\", \"fungus\", \"fungus\", \"fungus\", \"garment\", \"garment\", \"garment\", \"garment\", \"garment\", \"get\", \"get\", \"get\", \"get\", \"get\", \"get\", \"get\", \"get\", \"get\", \"get\", \"ghetto\", \"ghetto\", \"ghetto\", \"ghetto\", \"ghetto\", \"ghetto\", \"ghetto\", \"ghetto\", \"ghetto\", \"ghetto\", \"go\", \"go\", \"go\", \"go\", \"go\", \"go\", \"go\", \"go\", \"go\", \"go\", \"godzilla\", \"godzilla\", \"godzilla\", \"godzilla\", \"godzilla\", \"godzilla\", \"golfweek.com\", \"good\", \"good\", \"good\", \"good\", \"good\", \"good\", \"good\", \"good\", \"good\", \"good\", \"great\", \"great\", \"great\", \"great\", \"great\", \"great\", \"great\", \"great\", \"great\", \"great\", \"greater\", \"greater\", \"greater\", \"greenway\", \"greenway\", \"greulich\", \"greulich\", \"guy\", \"guy\", \"guy\", \"guy\", \"guy\", \"guy\", \"guy\", \"guy\", \"guy\", \"guy\", \"hair\", \"hair\", \"hair\", \"hair\", \"hair\", \"hair\", \"hair\", \"hair\", \"hair\", \"hair\", \"have\", \"have\", \"have\", \"have\", \"have\", \"have\", \"have\", \"have\", \"have\", \"have\", \"head\", \"head\", \"head\", \"head\", \"head\", \"head\", \"head\", \"head\", \"head\", \"head\", \"help\", \"help\", \"help\", \"help\", \"help\", \"help\", \"help\", \"help\", \"help\", \"help\", \"hiram\", \"hiram\", \"hiram\", \"hiram\", \"hiram\", \"hiram\", \"hiram\", \"hiram\", \"home\", \"home\", \"home\", \"home\", \"home\", \"home\", \"home\", \"home\", \"home\", \"home\", \"hope\", \"hope\", \"hope\", \"hope\", \"hope\", \"hope\", \"hope\", \"hope\", \"hope\", \"hope\", \"hospital-\", \"hour\", \"hour\", \"hour\", \"hour\", \"hour\", \"hour\", \"hour\", \"hour\", \"hour\", \"hour\", \"house\", \"house\", \"house\", \"house\", \"house\", \"house\", \"house\", \"house\", \"house\", \"house\", \"ian\", \"ian\", \"ian\", \"ian\", \"ian\", \"ian\", \"ian\", \"ian\", \"ian\", \"imcomplete\", \"imcomplete\", \"inconvience\", \"inconvience\", \"insectarium\", \"insectarium\", \"intelligent\", \"intelligent\", \"intelligent\", \"intelligent\", \"intelligently\", \"ir\", \"j.\", \"jackpot\", \"jackpot\", \"jackpot\", \"jackpot\", \"jackpot\", \"jackpot\", \"jackpot\", \"jackpot\", \"jackpot\", \"jackpot\", \"jala\", \"jala\", \"jala\", \"jala\", \"jdt\", \"jdt\", \"jdt\", \"jdt\", \"jina\", \"jon\", \"jon\", \"jon\", \"jon\", \"jon\", \"jon\", \"jon\", \"juan\", \"juan\", \"karen\", \"kelsea\", \"kelsea\", \"kendel\", \"kendel\", \"kendel\", \"keri\", \"keri\", \"keri\", \"keri\", \"keri\", \"keri\", \"keri\", \"kicker\", \"kicker\", \"kicker\", \"kicker\", \"kicker\", \"kid\", \"kid\", \"kid\", \"kid\", \"kid\", \"kid\", \"kid\", \"kid\", \"kid\", \"kid\", \"kind\", \"kind\", \"kind\", \"kind\", \"kind\", \"kind\", \"kind\", \"kind\", \"kind\", \"kind\", \"kingz\", \"kitten\", \"know\", \"know\", \"know\", \"know\", \"know\", \"know\", \"know\", \"know\", \"know\", \"know\", \"kobe\", \"kobe\", \"kobe\", \"kobe\", \"kobe\", \"kobe\", \"kobe\", \"kobe\", \"kobe\", \"kobe\", \"krung\", \"krung\", \"l'auto\", \"l'auto\", \"l'auto\", \"lavendar\", \"lawsuit\", \"lawsuit\", \"leave\", \"leave\", \"leave\", \"leave\", \"leave\", \"leave\", \"leave\", \"leave\", \"leave\", \"leave\", \"legs/\", \"let\", \"let\", \"let\", \"let\", \"let\", \"let\", \"let\", \"let\", \"let\", \"let\", \"lieras\", \"life\", \"life\", \"life\", \"life\", \"life\", \"life\", \"life\", \"life\", \"life\", \"life\", \"like\", \"like\", \"like\", \"like\", \"like\", \"like\", \"like\", \"like\", \"like\", \"like\", \"linda\", \"linda\", \"linda\", \"linda\", \"little\", \"little\", \"little\", \"little\", \"little\", \"little\", \"little\", \"little\", \"little\", \"little\", \"live\", \"live\", \"live\", \"live\", \"live\", \"live\", \"live\", \"live\", \"live\", \"live\", \"local\", \"local\", \"local\", \"local\", \"local\", \"local\", \"local\", \"local\", \"local\", \"local\", \"location\", \"location\", \"location\", \"location\", \"location\", \"location\", \"location\", \"location\", \"location\", \"location\", \"lol\", \"lol\", \"lol\", \"lol\", \"lol\", \"lol\", \"lol\", \"lol\", \"lol\", \"lol\", \"long\", \"long\", \"long\", \"long\", \"long\", \"long\", \"long\", \"long\", \"long\", \"long\", \"longos\", \"look\", \"look\", \"look\", \"look\", \"look\", \"look\", \"look\", \"look\", \"look\", \"look\", \"lot\", \"lot\", \"lot\", \"lot\", \"lot\", \"lot\", \"lot\", \"lot\", \"lot\", \"lot\", \"love\", \"love\", \"love\", \"love\", \"love\", \"love\", \"love\", \"love\", \"love\", \"love\", \"lover\", \"lover\", \"lover\", \"lover\", \"lover\", \"lover\", \"lover\", \"lover\", \"lover\", \"lover\", \"lunch\", \"lunch\", \"lunch\", \"lunch\", \"lunch\", \"lunch\", \"lunch\", \"lunch\", \"lunch\", \"lunch\", \"lydia\", \"lydia\", \"machaca\", \"machaca\", \"machaca\", \"machaca\", \"machaca\", \"machaca\", \"make\", \"make\", \"make\", \"make\", \"make\", \"make\", \"make\", \"make\", \"make\", \"make\", \"masked\", \"massage\", \"massage\", \"massage\", \"massage\", \"massage\", \"massage\", \"massage\", \"massage\", \"massage\", \"massage\", \"matthew\", \"matthew\", \"mcknight\", \"meal\", \"meal\", \"meal\", \"meal\", \"meal\", \"meal\", \"meal\", \"meal\", \"meal\", \"meal\", \"megaphone\", \"megaphone\", \"megaphone\", \"megaphone\", \"menu\", \"menu\", \"menu\", \"menu\", \"menu\", \"menu\", \"menu\", \"menu\", \"menu\", \"menu\", \"menudazo\", \"menudo\", \"menudo\", \"menudo\", \"minute\", \"minute\", \"minute\", \"minute\", \"minute\", \"minute\", \"minute\", \"minute\", \"minute\", \"minute\", \"momma\", \"money\", \"money\", \"money\", \"money\", \"money\", \"money\", \"money\", \"money\", \"money\", \"money\", \"monstrosity\", \"montreal\", \"montreal\", \"montreal\", \"montreal\", \"montreal\", \"montreal\", \"montreal\", \"montreal\", \"montreal\", \"montreal\", \"move\", \"move\", \"move\", \"move\", \"move\", \"move\", \"move\", \"move\", \"move\", \"move\", \"nack\", \"nadine\", \"nadine\", \"nail\", \"nail\", \"nail\", \"nail\", \"nail\", \"nail\", \"nail\", \"nail\", \"nail\", \"nail\", \"nancy\", \"nancy\", \"nancy\", \"nancy\", \"nancy\", \"nancy\", \"nancy\", \"nancy\", \"nancy\", \"nancy\", \"nationwide\", \"nationwide\", \"necessarily\", \"necessarily\", \"necessarily\", \"necessarily\", \"necessarily\", \"necessarily\", \"necessarily\", \"necessarily\", \"necessarily\", \"necessarily\", \"need\", \"need\", \"need\", \"need\", \"need\", \"need\", \"need\", \"need\", \"need\", \"need\", \"new\", \"new\", \"new\", \"new\", \"new\", \"new\", \"new\", \"new\", \"new\", \"new\", \"nice\", \"nice\", \"nice\", \"nice\", \"nice\", \"nice\", \"nice\", \"nice\", \"nice\", \"nice\", \"night\", \"night\", \"night\", \"night\", \"night\", \"night\", \"night\", \"night\", \"night\", \"night\", \"noisy\", \"noisy\", \"noisy\", \"noisy\", \"noisy\", \"noisy\", \"noisy\", \"noisy\", \"noisy\", \"noisy\", \"occasion\", \"occasion\", \"occasion\", \"occasion\", \"occasion\", \"occasion\", \"occasion\", \"occasion\", \"occasion\", \"occasion\", \"occur\", \"occur\", \"occur\", \"occur\", \"occur\", \"occur\", \"occur\", \"occur\", \"occur\", \"occur\", \"offer\", \"offer\", \"offer\", \"offer\", \"offer\", \"offer\", \"offer\", \"offer\", \"offer\", \"offer\", \"office\", \"office\", \"office\", \"office\", \"office\", \"office\", \"office\", \"office\", \"office\", \"office\", \"oho\", \"old\", \"old\", \"old\", \"old\", \"old\", \"old\", \"old\", \"old\", \"old\", \"old\", \"opt\", \"opt\", \"opt\", \"opt\", \"opt\", \"opt\", \"opt\", \"opt\", \"opt\", \"opt\", \"option\", \"option\", \"option\", \"option\", \"option\", \"option\", \"option\", \"option\", \"option\", \"option\", \"optometrist\", \"optometrist\", \"optometrist\", \"optometrist\", \"optometrist\", \"optometrist\", \"optometrist\", \"order\", \"order\", \"order\", \"order\", \"order\", \"order\", \"order\", \"order\", \"order\", \"order\", \"organis\\u00e9\", \"owner\", \"owner\", \"owner\", \"owner\", \"owner\", \"owner\", \"owner\", \"owner\", \"owner\", \"owner\", \"paced\", \"paced\", \"paced\", \"pair\", \"pair\", \"pair\", \"pair\", \"pair\", \"pair\", \"pair\", \"pair\", \"pair\", \"pair\", \"paperjoy\", \"paperjoy\", \"paperjoy\", \"paperjoy\", \"paraphernalia\", \"past\", \"past\", \"past\", \"past\", \"past\", \"past\", \"past\", \"past\", \"past\", \"past\", \"pavers\", \"pavers\", \"pavers\", \"pavers\", \"pavers\", \"pay\", \"pay\", \"pay\", \"pay\", \"pay\", \"pay\", \"pay\", \"pay\", \"pay\", \"pay\", \"pedis\", \"pedis\", \"pedis\", \"pedis\", \"pedis\", \"pedis\", \"pedis\", \"pedis\", \"people\", \"people\", \"people\", \"people\", \"people\", \"people\", \"people\", \"people\", \"people\", \"people\", \"perfect\", \"perfect\", \"perfect\", \"perfect\", \"perfect\", \"perfect\", \"perfect\", \"perfect\", \"perfect\", \"perfect\", \"performance\", \"performance\", \"performance\", \"performance\", \"performance\", \"performance\", \"performance\", \"performance\", \"performance\", \"performance\", \"phone\", \"phone\", \"phone\", \"phone\", \"phone\", \"phone\", \"phone\", \"phone\", \"phone\", \"phone\", \"picante\", \"picante\", \"pittsburg\", \"pittsburg\", \"pittsburg\", \"pizza\", \"pizza\", \"pizza\", \"pizza\", \"pizza\", \"pizza\", \"pizza\", \"pizza\", \"pizza\", \"pizza\", \"place\", \"place\", \"place\", \"place\", \"place\", \"place\", \"place\", \"place\", \"place\", \"place\", \"planet\", \"planet\", \"planet\", \"planet\", \"planet\", \"planet\", \"planet\", \"planet\", \"planet\", \"planet\", \"pok\\u00e9\", \"polish\", \"polish\", \"polish\", \"polish\", \"polish\", \"polish\", \"polish\", \"polish\", \"polish\", \"polish\", \"poms\", \"poms\", \"pool\", \"pool\", \"pool\", \"pool\", \"pool\", \"pool\", \"pool\", \"pool\", \"pool\", \"pool\", \"pos\", \"potato\", \"potato\", \"potato\", \"potato\", \"potato\", \"potato\", \"potato\", \"potato\", \"potato\", \"potato\", \"price\", \"price\", \"price\", \"price\", \"price\", \"price\", \"price\", \"price\", \"price\", \"price\", \"prima\", \"prius\", \"prius\", \"program\", \"program\", \"program\", \"program\", \"program\", \"program\", \"program\", \"program\", \"program\", \"program\", \"puddle\", \"purolator\", \"purolator\", \"purolator\", \"quickly\", \"quickly\", \"quickly\", \"quickly\", \"quickly\", \"quickly\", \"quickly\", \"quickly\", \"quickly\", \"quickly\", \"r&b.\", \"radisson\", \"radisson\", \"radisson\", \"radisson\", \"raul\", \"raul\", \"raul\", \"raul\", \"raul\", \"raul\", \"recommend\", \"recommend\", \"recommend\", \"recommend\", \"recommend\", \"recommend\", \"recommend\", \"recommend\", \"recommend\", \"recommend\", \"reef\", \"reef\", \"reef\", \"reef\", \"reef\", \"reef\", \"reef\", \"reef\", \"reef\", \"reef\", \"removal\", \"removal\", \"removal\", \"removal\", \"removal\", \"removal\", \"removal\", \"removal\", \"removal\", \"removal\", \"repair\", \"repair\", \"repair\", \"repair\", \"repair\", \"repair\", \"repair\", \"repair\", \"repair\", \"repair\", \"respectueux\", \"respectueux\", \"restaurant\", \"restaurant\", \"restaurant\", \"restaurant\", \"restaurant\", \"restaurant\", \"restaurant\", \"restaurant\", \"restaurant\", \"restaurant\", \"review\", \"review\", \"review\", \"review\", \"review\", \"review\", \"review\", \"review\", \"review\", \"review\", \"ribcap\", \"ribcap\", \"rice\", \"rice\", \"rice\", \"rice\", \"rice\", \"rice\", \"rice\", \"rice\", \"rice\", \"rice\", \"richardson\", \"richardson\", \"richardson\", \"ricketts\", \"ricketts\", \"ridgeville\", \"right\", \"right\", \"right\", \"right\", \"right\", \"right\", \"right\", \"right\", \"right\", \"right\", \"romper\", \"room\", \"room\", \"room\", \"room\", \"room\", \"room\", \"room\", \"room\", \"room\", \"room\", \"roomtastic\", \"roomtastic\", \"rosealie\", \"roti\", \"roti\", \"roti\", \"roti\", \"roti\", \"roti\", \"roti\", \"roti\", \"roti\", \"roti\", \"rudy\", \"rudy\", \"rudy\", \"sandwich\", \"sandwich\", \"sandwich\", \"sandwich\", \"sandwich\", \"sandwich\", \"sandwich\", \"sandwich\", \"sandwich\", \"sandwich\", \"say\", \"say\", \"say\", \"say\", \"say\", \"say\", \"say\", \"say\", \"say\", \"say\", \"scandalous\", \"screens\", \"seat\", \"seat\", \"seat\", \"seat\", \"seat\", \"seat\", \"seat\", \"seat\", \"seat\", \"seat\", \"see\", \"see\", \"see\", \"see\", \"see\", \"see\", \"see\", \"see\", \"see\", \"see\", \"sensei\", \"sensei\", \"sequin\", \"server\", \"server\", \"server\", \"server\", \"server\", \"server\", \"server\", \"server\", \"server\", \"server\", \"service\", \"service\", \"service\", \"service\", \"service\", \"service\", \"service\", \"service\", \"service\", \"service\", \"service.don't\", \"service.don't\", \"service.maybe\", \"service.maybe\", \"shank\", \"share\", \"share\", \"share\", \"share\", \"share\", \"share\", \"share\", \"share\", \"share\", \"share\", \"sheldon\", \"sheldon\", \"sheldon\", \"shelepak\", \"shelepak\", \"shimp\", \"shop\", \"shop\", \"shop\", \"shop\", \"shop\", \"shop\", \"shop\", \"shop\", \"shop\", \"shop\", \"signage\", \"signage\", \"signage\", \"signage\", \"signage\", \"signage\", \"signage\", \"signage\", \"signage\", \"signage\", \"singapore\", \"singapore\", \"singapore\", \"singapore\", \"singapore\", \"singapore\", \"singapore\", \"singapore\", \"singapore\", \"sit\", \"sit\", \"sit\", \"sit\", \"sit\", \"sit\", \"sit\", \"sit\", \"sit\", \"sit\", \"size\", \"size\", \"size\", \"size\", \"size\", \"size\", \"size\", \"size\", \"size\", \"size\", \"small\", \"small\", \"small\", \"small\", \"small\", \"small\", \"small\", \"small\", \"small\", \"small\", \"snapchat\", \"soda\", \"soda\", \"soda\", \"soda\", \"soda\", \"soda\", \"soda\", \"soda\", \"soda\", \"soda\", \"soft\", \"soft\", \"soft\", \"soft\", \"soft\", \"soft\", \"soft\", \"soft\", \"soft\", \"soft\", \"soup\", \"soup\", \"soup\", \"soup\", \"soup\", \"soup\", \"soup\", \"soup\", \"soup\", \"soup\", \"special\", \"special\", \"special\", \"special\", \"special\", \"special\", \"special\", \"special\", \"special\", \"special\", \"spot\", \"spot\", \"spot\", \"spot\", \"spot\", \"spot\", \"spot\", \"spot\", \"spot\", \"spot\", \"squished\", \"squished\", \"squishie\", \"squishie\", \"squishie\", \"stab\", \"stacy\", \"stadium\", \"stadium\", \"stadium\", \"stadium\", \"stadium\", \"stadium\", \"stadium\", \"stadium\", \"stadium\", \"stadium\", \"staff\", \"staff\", \"staff\", \"staff\", \"staff\", \"staff\", \"staff\", \"staff\", \"staff\", \"staff\", \"star\", \"star\", \"star\", \"star\", \"star\", \"star\", \"star\", \"star\", \"star\", \"star\", \"steak\", \"steak\", \"steak\", \"steak\", \"steak\", \"steak\", \"steak\", \"steak\", \"steak\", \"steak\", \"stop\", \"stop\", \"stop\", \"stop\", \"stop\", \"stop\", \"stop\", \"stop\", \"stop\", \"stop\", \"store\", \"store\", \"store\", \"store\", \"store\", \"store\", \"store\", \"store\", \"store\", \"store\", \"strip\", \"strip\", \"strip\", \"strip\", \"strip\", \"strip\", \"strip\", \"strip\", \"strip\", \"strip\", \"stubborn\", \"stubborn\", \"stubborn\", \"stubborn\", \"stubborn\", \"stubborn\", \"stubborn\", \"sushi\", \"sushi\", \"sushi\", \"sushi\", \"sushi\", \"sushi\", \"sushi\", \"sushi\", \"sushi\", \"sushi\", \"swordfish\", \"table\", \"table\", \"table\", \"table\", \"table\", \"table\", \"table\", \"table\", \"table\", \"table\", \"taco\", \"taco\", \"taco\", \"taco\", \"taco\", \"taco\", \"taco\", \"taco\", \"taco\", \"taco\", \"take\", \"take\", \"take\", \"take\", \"take\", \"take\", \"take\", \"take\", \"take\", \"take\", \"talia\", \"talk\", \"talk\", \"talk\", \"talk\", \"talk\", \"talk\", \"talk\", \"talk\", \"talk\", \"talk\", \"taste\", \"taste\", \"taste\", \"taste\", \"taste\", \"taste\", \"taste\", \"taste\", \"taste\", \"taste\", \"tastey\", \"tastey\", \"tastey\", \"tastey\", \"tattoo\", \"tattoo\", \"tattoo\", \"tattoo\", \"tattoo\", \"tattoo\", \"tattoo\", \"tattoo\", \"tattoo\", \"tattoo\", \"teacher\", \"teacher\", \"teacher\", \"teacher\", \"teacher\", \"teacher\", \"teacher\", \"teacher\", \"teacher\", \"teacher\", \"tell\", \"tell\", \"tell\", \"tell\", \"tell\", \"tell\", \"tell\", \"tell\", \"tell\", \"tell\", \"tender\", \"tender\", \"tender\", \"tender\", \"tender\", \"tender\", \"tender\", \"tender\", \"tender\", \"tender\", \"thing\", \"thing\", \"thing\", \"thing\", \"thing\", \"thing\", \"thing\", \"thing\", \"thing\", \"thing\", \"think\", \"think\", \"think\", \"think\", \"think\", \"think\", \"think\", \"think\", \"think\", \"think\", \"time\", \"time\", \"time\", \"time\", \"time\", \"time\", \"time\", \"time\", \"time\", \"time\", \"timothy\", \"today\", \"today\", \"today\", \"today\", \"today\", \"today\", \"today\", \"today\", \"today\", \"today\", \"trade\", \"trade\", \"trade\", \"trade\", \"trade\", \"trade\", \"trade\", \"trade\", \"trade\", \"trade\", \"treatment\", \"treatment\", \"treatment\", \"treatment\", \"treatment\", \"treatment\", \"treatment\", \"treatment\", \"treatment\", \"treatment\", \"truffel\", \"trust\", \"trust\", \"trust\", \"trust\", \"trust\", \"trust\", \"trust\", \"trust\", \"trust\", \"trust\", \"try\", \"try\", \"try\", \"try\", \"try\", \"try\", \"try\", \"try\", \"try\", \"try\", \"tso\", \"tso\", \"tso\", \"tub\", \"tub\", \"tub\", \"tub\", \"tub\", \"tub\", \"tub\", \"tub\", \"tub\", \"tub\", \"tumi\", \"underrated\", \"underrated\", \"usually\", \"usually\", \"usually\", \"usually\", \"usually\", \"usually\", \"usually\", \"usually\", \"usually\", \"usually\", \"vacant\", \"vacant\", \"vacant\", \"vacant\", \"vacant\", \"vacant\", \"vegas\", \"vegas\", \"vegas\", \"vegas\", \"vegas\", \"vegas\", \"vegas\", \"vegas\", \"vegas\", \"vegas\", \"veggie\", \"veggie\", \"veggie\", \"veggie\", \"veggie\", \"veggie\", \"veggie\", \"veggie\", \"veggie\", \"veggie\", \"visit\", \"visit\", \"visit\", \"visit\", \"visit\", \"visit\", \"visit\", \"visit\", \"visit\", \"visit\", \"wait\", \"wait\", \"wait\", \"wait\", \"wait\", \"wait\", \"wait\", \"wait\", \"wait\", \"wait\", \"walkthrough\", \"want\", \"want\", \"want\", \"want\", \"want\", \"want\", \"want\", \"want\", \"want\", \"want\", \"waste\", \"waste\", \"waste\", \"waste\", \"waste\", \"waste\", \"waste\", \"waste\", \"waste\", \"waste\", \"watch\", \"watch\", \"watch\", \"watch\", \"watch\", \"watch\", \"watch\", \"watch\", \"watch\", \"watch\", \"way\", \"way\", \"way\", \"way\", \"way\", \"way\", \"way\", \"way\", \"way\", \"way\", \"weapon\", \"weapon\", \"wedding\", \"wedding\", \"wedding\", \"wedding\", \"wedding\", \"wedding\", \"wedding\", \"wedding\", \"wedding\", \"wedding\", \"well\", \"well\", \"well\", \"well\", \"well\", \"well\", \"well\", \"well\", \"well\", \"well\", \"wench\", \"wheelchair\", \"wheelchair\", \"wheelchair\", \"wheelchair\", \"wheelchair\", \"wheelchair\", \"wheelchair\", \"whimsical\", \"whimsical\", \"whimsical\", \"whimsical\", \"whimsical\", \"whimsical\", \"will\", \"will\", \"will\", \"will\", \"will\", \"will\", \"will\", \"will\", \"will\", \"will\", \"woahhhh\", \"woot\", \"woot\", \"woot\", \"woot\", \"woot\", \"work\", \"work\", \"work\", \"work\", \"work\", \"work\", \"work\", \"work\", \"work\", \"work\", \"works\", \"wrestlemania\", \"wrestlemania\", \"wtf\", \"wtf\", \"wtf\", \"wtf\", \"wtf\", \"wtf\", \"wtf\", \"wtf\", \"wtf\", \"wtf\", \"yasmin\", \"yasmin\", \"yasmin\", \"yasmin\", \"yeahhhhhhh\", \"yeahhhhhhh\", \"year\", \"year\", \"year\", \"year\", \"year\", \"year\", \"year\", \"year\", \"year\", \"year\", \"yes\", \"yes\", \"yes\", \"yes\", \"yes\", \"yes\", \"yes\", \"yes\", \"yes\", \"yes\", \"ymca\", \"yoga\", \"yoga\", \"yoga\", \"yoga\", \"yoga\", \"yoga\", \"yoga\", \"yoga\", \"yoga\", \"yoga\", \"yuk\", \"yuk\", \"yuk\", \"yuk\", \"yuk\", \"yuk\", \"yuk\", \"yuk\", \"yuk\", \"yummms\", \"\\u5929\\u6c23\\u5f88\\u71b1\\u5403\\u4e0d\\u4e0b\\u6771\\u897f\\uff0c\\u4eca\\u5929\\u6211\\u9ede\\u4e86\\u4e00\\u500b\\u97d3\\u570b\\u51b7\\u9762\\u6e6f\\u3001\\u9910\\u5f8c\\u9ede\\u4e86\\u751c\\u9ede\\uff0c\\u51b0\\u6c99\\u7cfb\\u5217\\u4e0d\\u6703\\u592a\\u751c\\u81a9\\uff0c\\u89ba\\u5f97\\u5e97\\u5bb6\\u5f88\\u7528\\u5fc3\\u88fd\\u4f5c\\uff0c\\u5305\\u542b\\u64fa\\u76e4\\u7cbe\\u7dfb\\u3001\\u4f50\\u6599\\u885b\\u751f\\uff0c\\u590f\\u65e5\\u60f3\\u958b\\u80c3\\uff0c\\u9019\\u662f\\u4e00\\u500b\\u4e0d\\u932f\\u7684\\u9078\\u64c7\\uff0c\\u670d\\u52d9\\u4eba\\u54e1\\u4e5f\\u5f88\\u656c\\u696d\\uff0c\\u4ee5\\u5f8c\\u6703\\u5e38\\u5e38\\u4f86\"]}, \"R\": 30, \"lambda.step\": 0.01, \"plot.opts\": {\"xlab\": \"PC1\", \"ylab\": \"PC2\"}, \"topic.order\": [4, 8, 7, 6, 10, 9, 3, 2, 1, 5]};\n",
       "\n",
       "function LDAvis_load_lib(url, callback){\n",
       "  var s = document.createElement('script');\n",
       "  s.src = url;\n",
       "  s.async = true;\n",
       "  s.onreadystatechange = s.onload = callback;\n",
       "  s.onerror = function(){console.warn(\"failed to load library \" + url);};\n",
       "  document.getElementsByTagName(\"head\")[0].appendChild(s);\n",
       "}\n",
       "\n",
       "if(typeof(LDAvis) !== \"undefined\"){\n",
       "   // already loaded: just create the visualization\n",
       "   !function(LDAvis){\n",
       "       new LDAvis(\"#\" + \"ldavis_el8829448055320164862132190\", ldavis_el8829448055320164862132190_data);\n",
       "   }(LDAvis);\n",
       "}else if(typeof define === \"function\" && define.amd){\n",
       "   // require.js is available: use it to load d3/LDAvis\n",
       "   require.config({paths: {d3: \"https://cdnjs.cloudflare.com/ajax/libs/d3/3.5.5/d3.min\"}});\n",
       "   require([\"d3\"], function(d3){\n",
       "      window.d3 = d3;\n",
       "      LDAvis_load_lib(\"https://cdn.rawgit.com/bmabey/pyLDAvis/files/ldavis.v1.0.0.js\", function(){\n",
       "        new LDAvis(\"#\" + \"ldavis_el8829448055320164862132190\", ldavis_el8829448055320164862132190_data);\n",
       "      });\n",
       "    });\n",
       "}else{\n",
       "    // require.js not available: dynamically load d3 & LDAvis\n",
       "    LDAvis_load_lib(\"https://cdnjs.cloudflare.com/ajax/libs/d3/3.5.5/d3.min.js\", function(){\n",
       "         LDAvis_load_lib(\"https://cdn.rawgit.com/bmabey/pyLDAvis/files/ldavis.v1.0.0.js\", function(){\n",
       "                 new LDAvis(\"#\" + \"ldavis_el8829448055320164862132190\", ldavis_el8829448055320164862132190_data);\n",
       "            })\n",
       "         });\n",
       "}\n",
       "</script>"
      ],
      "text/plain": [
       "PreparedData(topic_coordinates=              x         y  topics  cluster       Freq\n",
       "topic                                                \n",
       "3      0.003855  0.002212       1        1  10.783876\n",
       "7     -0.001105  0.003892       2        1  10.368960\n",
       "6      0.002574  0.001185       3        1  10.363982\n",
       "5      0.000944  0.000655       4        1  10.226798\n",
       "9      0.002247 -0.000413       5        1  10.178035\n",
       "8     -0.001981  0.001179       6        1  10.162062\n",
       "2      0.002696 -0.002342       7        1  10.006406\n",
       "1     -0.006088  0.001346       8        1   9.624073\n",
       "0      0.000513 -0.004395       9        1   9.164169\n",
       "4     -0.003654 -0.003320      10        1   9.121638, topic_info=      Term         Freq        Total Category  logprob  loglift\n",
       "44    good  6121.000000  6121.000000  Default  30.0000  30.0000\n",
       "144   food  4837.000000  4837.000000  Default  29.0000  29.0000\n",
       "38    time  4154.000000  4154.000000  Default  28.0000  28.0000\n",
       "364  order  3297.000000  3297.000000  Default  27.0000  27.0000\n",
       "129  place  5122.000000  5122.000000  Default  26.0000  26.0000\n",
       "..     ...          ...          ...      ...      ...      ...\n",
       "93    nice   152.067835  1747.051924  Topic10  -5.6885  -0.0468\n",
       "39     try   175.900252  2472.951764  Topic10  -5.5429  -0.2487\n",
       "154  price   147.024627  1720.949882  Topic10  -5.7222  -0.0655\n",
       "346   find   139.589549  1549.341250  Topic10  -5.7741  -0.0124\n",
       "402    ask   134.888876  1460.353953  Topic10  -5.8084   0.0125\n",
       "\n",
       "[846 rows x 6 columns], token_table=       Topic      Freq                                               Term\n",
       "term                                                                     \n",
       "0          1  0.112594                                                  $\n",
       "0          2  0.066637                                                  $\n",
       "0          3  0.132815                                                  $\n",
       "0          4  0.074909                                                  $\n",
       "0          5  0.125921                                                  $\n",
       "...      ...       ...                                                ...\n",
       "11545      8  0.132296                                                yuk\n",
       "11545      9  0.033074                                                yuk\n",
       "11545     10  0.099222                                                yuk\n",
       "24163      8  0.320354                                             yummms\n",
       "19482      6  0.617403  天氣很熱吃不下東西，今天我點了一個韓國冷面湯、餐後點了甜點，冰沙系列不會太甜膩，覺得店家很用...\n",
       "\n",
       "[2883 rows x 3 columns], R=30, lambda_step=0.01, plot_opts={'xlab': 'PC1', 'ylab': 'PC2'}, topic_order=[4, 8, 7, 6, 10, 9, 3, 2, 1, 5])"
      ]
     },
     "execution_count": 61,
     "metadata": {},
     "output_type": "execute_result"
    }
   ],
   "source": [
    "pyLDAvis.gensim.prepare(lda, corpus, id2word)"
   ]
  },
  {
   "cell_type": "markdown",
   "metadata": {},
   "source": [
    "# Analysis\n",
    "I ended up producing 10 topics represented as 10 \"bubbles\" of equal size, which indicates I made a relatively good fit. Additionally topics 1,3,4,5,7, are close in distance, this means these topics are similar to each other. In mater of fact, there is subsection in bubbles 1,3,4,5 which indicates presense of overlapping words. In general, were also able to identify which words are most relevant in the overal corpus ofof documents which include: \"good, food, time, order'place...\" Lastly, were able to also use the lambda relevance metric, to identify what words are most important to each bubble(topic); for example, in topic number 9, words \"good, food, place, service are most relevant\". In conclusion, we were able to get information of the topics and threre relations withn respect other topics and the words in the corpus of documents. As a last note, I could probably further clean my tokens, to include additional stop words, which could lead to an even better topic model.\n"
   ]
  },
  {
   "cell_type": "markdown",
   "metadata": {},
   "source": [
    "## Stretch Goals\n",
    "\n",
    "Complete one of more of these to push your score towards a three: \n",
    "* Create more visualizations of the LDA results and provide written analysis\n",
    "* Incorporate RandomizedSearchCV into docoument classification pipeline\n",
    "* Incorporate named entity recognition into your analysis\n",
    "* Compare vectorization methods in the classification section\n",
    "* Analyze more (or all) of the yelp dataset - this one is v. hard. \n",
    "* Use a generator object on the reviews file - this would help you with the analyzing the whole dataset.\n",
    "* Incorporate any of the other yelp dataset entities in your analysis (business, users, etc.)"
   ]
  },
  {
   "cell_type": "code",
   "execution_count": 59,
   "metadata": {},
   "outputs": [
    {
     "name": "stderr",
     "output_type": "stream",
     "text": [
      "/Users/johnrivera/.virtualenvs/DS-Unit-4-Sprint-1-NLP-N2EbWurJ/lib/python3.8/site-packages/ipykernel/ipkernel.py:287: DeprecationWarning: `should_run_async` will not call `transform_cell` automatically in the future. Please pass the result to `transformed_cell` argument and any exception that happen during thetransform in `preprocessing_exc_tuple` in IPython 7.17 and above.\n",
      "  and should_run_async(code)\n"
     ]
    }
   ],
   "source": []
  },
  {
   "cell_type": "code",
   "execution_count": null,
   "metadata": {},
   "outputs": [],
   "source": []
  }
 ],
 "metadata": {
  "kernel_info": {
   "name": "u4-s1-nlp"
  },
  "kernelspec": {
   "display_name": "U4-S1-NLP (Python3)",
   "language": "python",
   "name": "u4-s1-nlp"
  },
  "language_info": {
   "codemirror_mode": {
    "name": "ipython",
    "version": 3
   },
   "file_extension": ".py",
   "mimetype": "text/x-python",
   "name": "python",
   "nbconvert_exporter": "python",
   "pygments_lexer": "ipython3",
   "version": "3.8.5"
  },
  "nteract": {
   "version": "0.22.4"
  },
  "toc-autonumbering": false
 },
 "nbformat": 4,
 "nbformat_minor": 4
}
